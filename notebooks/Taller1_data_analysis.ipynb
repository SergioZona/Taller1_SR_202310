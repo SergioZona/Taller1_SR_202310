{
 "cells": [
  {
   "cell_type": "markdown",
   "id": "98c8b70c-91ef-43ad-92e0-0e38be745c28",
   "metadata": {
    "id": "497T5nW-MzMF",
    "tags": []
   },
   "source": [
    "# **Taller 1**\n",
    "### **Integrantes:**\n",
    "* Diego Felipe Carvajal Lombo (201911910)\n",
    "* Brenda Catalina Barahona Pinilla (201812721)\n",
    "* Sergio Julian Zona Moreno (201914936)"
   ]
  },
  {
   "cell_type": "code",
   "execution_count": 5,
   "id": "f27c7490-62b1-43e1-9856-cc5f88236eba",
   "metadata": {
    "execution": {
     "iopub.execute_input": "2023-03-07T04:27:37.088108Z",
     "iopub.status.busy": "2023-03-07T04:27:37.087820Z",
     "iopub.status.idle": "2023-03-07T04:27:37.092787Z",
     "shell.execute_reply": "2023-03-07T04:27:37.091775Z",
     "shell.execute_reply.started": "2023-03-07T04:27:37.088089Z"
    },
    "tags": []
   },
   "outputs": [],
   "source": [
    "# Posible instalación necesaria\n",
    "#!conda install -c conda-forge scikit-surprise"
   ]
  },
  {
   "cell_type": "markdown",
   "id": "bc103ddf-9cf6-4a77-a845-40cb38d04039",
   "metadata": {
    "tags": []
   },
   "source": [
    "# **Carga y muestreo de los datos**"
   ]
  },
  {
   "cell_type": "code",
   "execution_count": 6,
   "id": "0e68c6ad-2a15-424b-937f-c96e98ff6b08",
   "metadata": {
    "ExecuteTime": {
     "end_time": "2023-02-10T03:40:59.672027Z",
     "start_time": "2023-02-10T03:40:59.660012Z"
    },
    "execution": {
     "iopub.execute_input": "2023-03-07T04:27:37.623172Z",
     "iopub.status.busy": "2023-03-07T04:27:37.622854Z",
     "iopub.status.idle": "2023-03-07T04:27:37.629779Z",
     "shell.execute_reply": "2023-03-07T04:27:37.628860Z",
     "shell.execute_reply.started": "2023-03-07T04:27:37.623143Z"
    },
    "id": "0e68c6ad-2a15-424b-937f-c96e98ff6b08",
    "tags": []
   },
   "outputs": [],
   "source": [
    "# Importación de librerias\n",
    "seed = 161\n",
    "import pandas as pd\n",
    "import numpy as np\n",
    "import hashlib\n",
    "\n",
    "# Se importa la librería de tiempo para medir cuánto se demora en encontrar los hiperparámetros con cada modelo.\n",
    "import time\n",
    "import math\n",
    "\n",
    "# Librerias CUDA\n",
    "import cudf\n",
    "#cudf.set_option(\"spill\", True)\n",
    "\n",
    "# Database\n",
    "import sqlite3\n",
    "\n",
    "# Gráficos\n",
    "import matplotlib.pyplot as plt\n",
    "\n",
    "# Importamos la librería del SR\n",
    "import os\n",
    "from surprise import Reader\n",
    "from surprise import Dataset\n",
    "from surprise.model_selection import train_test_split\n",
    "from surprise import KNNBasic\n",
    "from surprise import accuracy\n",
    "\n",
    "#Para garantizar reproducibilidad en resultados\n",
    "import random\n",
    "seed = 2023\n",
    "#random.seed(seed)\n",
    "#np.random.seed(seed)\n",
    "\n",
    "# Importar/Exportar modelos\n",
    "from joblib import dump, load"
   ]
  },
  {
   "cell_type": "code",
   "execution_count": 7,
   "id": "42cea7c9-cd26-4b11-b811-87ab36532cd4",
   "metadata": {
    "execution": {
     "iopub.execute_input": "2023-03-07T04:27:37.904047Z",
     "iopub.status.busy": "2023-03-07T04:27:37.903360Z",
     "iopub.status.idle": "2023-03-07T04:27:38.281743Z",
     "shell.execute_reply": "2023-03-07T04:27:38.280578Z",
     "shell.execute_reply.started": "2023-03-07T04:27:37.904025Z"
    },
    "tags": []
   },
   "outputs": [
    {
     "name": "stdout",
     "output_type": "stream",
     "text": [
      "Mon Mar  6 23:27:38 2023       \n",
      "+---------------------------------------------------------------------------------------+\n",
      "| NVIDIA-SMI 530.30.02              Driver Version: 531.18       CUDA Version: 12.1     |\n",
      "|-----------------------------------------+----------------------+----------------------+\n",
      "| GPU  Name                  Persistence-M| Bus-Id        Disp.A | Volatile Uncorr. ECC |\n",
      "| Fan  Temp  Perf            Pwr:Usage/Cap|         Memory-Usage | GPU-Util  Compute M. |\n",
      "|                                         |                      |               MIG M. |\n",
      "|=========================================+======================+======================|\n",
      "|   0  NVIDIA GeForce RTX 3060 L...    On | 00000000:01:00.0 Off |                  N/A |\n",
      "| N/A   61C    P8               13W /  N/A|    168MiB /  6144MiB |      5%      Default |\n",
      "|                                         |                      |                  N/A |\n",
      "+-----------------------------------------+----------------------+----------------------+\n",
      "                                                                                         \n",
      "+---------------------------------------------------------------------------------------+\n",
      "| Processes:                                                                            |\n",
      "|  GPU   GI   CI        PID   Type   Process name                            GPU Memory |\n",
      "|        ID   ID                                                             Usage      |\n",
      "|=======================================================================================|\n",
      "|    0   N/A  N/A        22      G   /Xwayland                                 N/A      |\n",
      "+---------------------------------------------------------------------------------------+\n"
     ]
    }
   ],
   "source": [
    "!nvidia-smi"
   ]
  },
  {
   "cell_type": "markdown",
   "id": "583da28d-1fb5-4d7a-a530-a28f22756004",
   "metadata": {},
   "source": [
    "# **Carga de datos**"
   ]
  },
  {
   "cell_type": "code",
   "execution_count": 8,
   "id": "cda3b693-62f8-4943-ad37-04655c8f87b2",
   "metadata": {
    "ExecuteTime": {
     "end_time": "2023-02-10T03:41:42.554593Z",
     "start_time": "2023-02-10T03:41:01.815021Z"
    },
    "execution": {
     "iopub.execute_input": "2023-03-07T04:27:38.838851Z",
     "iopub.status.busy": "2023-03-07T04:27:38.837930Z",
     "iopub.status.idle": "2023-03-07T04:28:42.017448Z",
     "shell.execute_reply": "2023-03-07T04:28:42.008496Z",
     "shell.execute_reply.started": "2023-03-07T04:27:38.838824Z"
    },
    "id": "cda3b693-62f8-4943-ad37-04655c8f87b2",
    "tags": []
   },
   "outputs": [],
   "source": [
    "# Se cargan el conjunto total de los datos. \n",
    "# Leer TSV: https://stackoverflow.com/questions/9652832/how-to-load-a-tsv-file-into-a-pandas-dataframe\n",
    "# Tokenizing data error: https://stackoverflow.com/questions/18039057/python-pandas-error-tokenizing-data\n",
    "\n",
    "fields = [\"userid\", \"timestamp\", \"musicbrainz-artist-id\", \"artist-name\", \"musicbrainz-track-id\", \"track-name\"]\n",
    "\n",
    "df_data=pd.read_csv('../data/userid-timestamp-artid-artname-traid-traname.tsv', sep='\\t',\n",
    "                     on_bad_lines='skip', skipinitialspace=True, names=fields)"
   ]
  },
  {
   "cell_type": "code",
   "execution_count": 9,
   "id": "796bfba6-2e0a-4e58-a793-d5a27b057e00",
   "metadata": {
    "execution": {
     "iopub.execute_input": "2023-03-07T04:28:42.031940Z",
     "iopub.status.busy": "2023-03-07T04:28:42.030830Z",
     "iopub.status.idle": "2023-03-07T04:28:54.691139Z",
     "shell.execute_reply": "2023-03-07T04:28:54.690186Z",
     "shell.execute_reply.started": "2023-03-07T04:28:42.031738Z"
    },
    "tags": []
   },
   "outputs": [],
   "source": [
    "df_data = cudf.from_pandas(df_data)"
   ]
  },
  {
   "cell_type": "code",
   "execution_count": 10,
   "id": "3f2af26f-6fae-43a4-94f8-795b1e6d6238",
   "metadata": {
    "ExecuteTime": {
     "end_time": "2023-02-10T03:42:24.573057Z",
     "start_time": "2023-02-10T03:42:24.564059Z"
    },
    "colab": {
     "base_uri": "https://localhost:8080/"
    },
    "execution": {
     "iopub.execute_input": "2023-03-07T04:28:54.692722Z",
     "iopub.status.busy": "2023-03-07T04:28:54.692495Z",
     "iopub.status.idle": "2023-03-07T04:28:54.759328Z",
     "shell.execute_reply": "2023-03-07T04:28:54.758148Z",
     "shell.execute_reply.started": "2023-03-07T04:28:54.692697Z"
    },
    "id": "3f2af26f-6fae-43a4-94f8-795b1e6d6238",
    "outputId": "e86efde4-de7c-42da-8946-1e2738e91258",
    "tags": []
   },
   "outputs": [
    {
     "data": {
      "text/plain": [
       "(19098853, 6)"
      ]
     },
     "execution_count": 10,
     "metadata": {},
     "output_type": "execute_result"
    }
   ],
   "source": [
    "# Cantidad de datos y número de variables\n",
    "df_data.shape"
   ]
  },
  {
   "cell_type": "code",
   "execution_count": 11,
   "id": "cf0b5b5b-6bcc-4de2-8a35-5401795f9b2c",
   "metadata": {
    "ExecuteTime": {
     "end_time": "2023-02-10T03:42:25.505331Z",
     "start_time": "2023-02-10T03:42:25.477499Z"
    },
    "colab": {
     "base_uri": "https://localhost:8080/",
     "height": 309
    },
    "execution": {
     "iopub.execute_input": "2023-03-07T04:28:54.763989Z",
     "iopub.status.busy": "2023-03-07T04:28:54.763290Z",
     "iopub.status.idle": "2023-03-07T04:28:54.995595Z",
     "shell.execute_reply": "2023-03-07T04:28:54.994622Z",
     "shell.execute_reply.started": "2023-03-07T04:28:54.763958Z"
    },
    "id": "cf0b5b5b-6bcc-4de2-8a35-5401795f9b2c",
    "outputId": "bf0ad07a-7b6d-4af1-964f-6429a5f8b44e",
    "tags": []
   },
   "outputs": [
    {
     "data": {
      "text/html": [
       "<div>\n",
       "<style scoped>\n",
       "    .dataframe tbody tr th:only-of-type {\n",
       "        vertical-align: middle;\n",
       "    }\n",
       "\n",
       "    .dataframe tbody tr th {\n",
       "        vertical-align: top;\n",
       "    }\n",
       "\n",
       "    .dataframe thead th {\n",
       "        text-align: right;\n",
       "    }\n",
       "</style>\n",
       "<table border=\"1\" class=\"dataframe\">\n",
       "  <thead>\n",
       "    <tr style=\"text-align: right;\">\n",
       "      <th></th>\n",
       "      <th>userid</th>\n",
       "      <th>timestamp</th>\n",
       "      <th>musicbrainz-artist-id</th>\n",
       "      <th>artist-name</th>\n",
       "      <th>musicbrainz-track-id</th>\n",
       "      <th>track-name</th>\n",
       "    </tr>\n",
       "  </thead>\n",
       "  <tbody>\n",
       "    <tr>\n",
       "      <th>19098848</th>\n",
       "      <td>user_001000</td>\n",
       "      <td>2008-01-27T22:02:35Z</td>\n",
       "      <td>9e53f84d-ef44-4c16-9677-5fd4d78cbd7d</td>\n",
       "      <td>Wilco</td>\n",
       "      <td>a490cabc-1e5c-4807-86c7-740c31a50009</td>\n",
       "      <td>Please Be Patient With Me</td>\n",
       "    </tr>\n",
       "    <tr>\n",
       "      <th>19098849</th>\n",
       "      <td>user_001000</td>\n",
       "      <td>2008-01-27T21:56:52Z</td>\n",
       "      <td>9e53f84d-ef44-4c16-9677-5fd4d78cbd7d</td>\n",
       "      <td>Wilco</td>\n",
       "      <td>3e92e447-9e1f-440d-bc00-6734469880c5</td>\n",
       "      <td>Shake It Off</td>\n",
       "    </tr>\n",
       "    <tr>\n",
       "      <th>19098850</th>\n",
       "      <td>user_001000</td>\n",
       "      <td>2008-01-27T21:52:36Z</td>\n",
       "      <td>9e53f84d-ef44-4c16-9677-5fd4d78cbd7d</td>\n",
       "      <td>Wilco</td>\n",
       "      <td>93d044e6-1bbb-46a6-ac8e-283382a89e6f</td>\n",
       "      <td>Side With The Seeds</td>\n",
       "    </tr>\n",
       "    <tr>\n",
       "      <th>19098851</th>\n",
       "      <td>user_001000</td>\n",
       "      <td>2008-01-27T21:49:12Z</td>\n",
       "      <td>9e53f84d-ef44-4c16-9677-5fd4d78cbd7d</td>\n",
       "      <td>Wilco</td>\n",
       "      <td>5ac4386f-6146-4389-a762-4b43f362d2c8</td>\n",
       "      <td>Sky Blue Sky</td>\n",
       "    </tr>\n",
       "    <tr>\n",
       "      <th>19098852</th>\n",
       "      <td>user_001000</td>\n",
       "      <td>2008-01-27T21:43:14Z</td>\n",
       "      <td>9e53f84d-ef44-4c16-9677-5fd4d78cbd7d</td>\n",
       "      <td>Wilco</td>\n",
       "      <td>3acc99bc-a349-420f-ad28-7095eb3533c9</td>\n",
       "      <td>Impossible Germany</td>\n",
       "    </tr>\n",
       "  </tbody>\n",
       "</table>\n",
       "</div>"
      ],
      "text/plain": [
       "               userid             timestamp  \\\n",
       "19098848  user_001000  2008-01-27T22:02:35Z   \n",
       "19098849  user_001000  2008-01-27T21:56:52Z   \n",
       "19098850  user_001000  2008-01-27T21:52:36Z   \n",
       "19098851  user_001000  2008-01-27T21:49:12Z   \n",
       "19098852  user_001000  2008-01-27T21:43:14Z   \n",
       "\n",
       "                         musicbrainz-artist-id artist-name  \\\n",
       "19098848  9e53f84d-ef44-4c16-9677-5fd4d78cbd7d       Wilco   \n",
       "19098849  9e53f84d-ef44-4c16-9677-5fd4d78cbd7d       Wilco   \n",
       "19098850  9e53f84d-ef44-4c16-9677-5fd4d78cbd7d       Wilco   \n",
       "19098851  9e53f84d-ef44-4c16-9677-5fd4d78cbd7d       Wilco   \n",
       "19098852  9e53f84d-ef44-4c16-9677-5fd4d78cbd7d       Wilco   \n",
       "\n",
       "                          musicbrainz-track-id                 track-name  \n",
       "19098848  a490cabc-1e5c-4807-86c7-740c31a50009  Please Be Patient With Me  \n",
       "19098849  3e92e447-9e1f-440d-bc00-6734469880c5               Shake It Off  \n",
       "19098850  93d044e6-1bbb-46a6-ac8e-283382a89e6f        Side With The Seeds  \n",
       "19098851  5ac4386f-6146-4389-a762-4b43f362d2c8               Sky Blue Sky  \n",
       "19098852  3acc99bc-a349-420f-ad28-7095eb3533c9         Impossible Germany  "
      ]
     },
     "execution_count": 11,
     "metadata": {},
     "output_type": "execute_result"
    }
   ],
   "source": [
    "# Ejemplo de muestra de los datos.\n",
    "df_data.tail(5)"
   ]
  },
  {
   "cell_type": "code",
   "execution_count": 12,
   "id": "1a354ccd-5552-4aa2-a123-087d355573fa",
   "metadata": {
    "ExecuteTime": {
     "end_time": "2023-02-10T03:42:30.803440Z",
     "start_time": "2023-02-10T03:42:30.793165Z"
    },
    "colab": {
     "base_uri": "https://localhost:8080/"
    },
    "execution": {
     "iopub.execute_input": "2023-03-07T04:28:54.997539Z",
     "iopub.status.busy": "2023-03-07T04:28:54.997305Z",
     "iopub.status.idle": "2023-03-07T04:28:55.016339Z",
     "shell.execute_reply": "2023-03-07T04:28:55.015251Z",
     "shell.execute_reply.started": "2023-03-07T04:28:54.997522Z"
    },
    "id": "1a354ccd-5552-4aa2-a123-087d355573fa",
    "outputId": "2d9fe20c-ce5c-4595-a72a-efcb70f5badb",
    "scrolled": true,
    "tags": []
   },
   "outputs": [
    {
     "data": {
      "text/plain": [
       "userid                   object\n",
       "timestamp                object\n",
       "musicbrainz-artist-id    object\n",
       "artist-name              object\n",
       "musicbrainz-track-id     object\n",
       "track-name               object\n",
       "dtype: object"
      ]
     },
     "execution_count": 12,
     "metadata": {},
     "output_type": "execute_result"
    }
   ],
   "source": [
    "# Tipos de las variables al cargar, todas son objetos.\n",
    "df_data.dtypes"
   ]
  },
  {
   "cell_type": "code",
   "execution_count": 13,
   "id": "6d71583f",
   "metadata": {
    "ExecuteTime": {
     "end_time": "2023-02-10T03:42:41.241358Z",
     "start_time": "2023-02-10T03:42:31.685891Z"
    },
    "execution": {
     "iopub.execute_input": "2023-03-07T04:28:55.018387Z",
     "iopub.status.busy": "2023-03-07T04:28:55.017838Z",
     "iopub.status.idle": "2023-03-07T04:28:55.214755Z",
     "shell.execute_reply": "2023-03-07T04:28:55.213670Z",
     "shell.execute_reply.started": "2023-03-07T04:28:55.018362Z"
    },
    "tags": []
   },
   "outputs": [
    {
     "data": {
      "text/plain": [
       "userid                         0\n",
       "timestamp                      0\n",
       "artist-name                    0\n",
       "track-name                    12\n",
       "musicbrainz-artist-id     600848\n",
       "musicbrainz-track-id     2162719\n",
       "dtype: int64"
      ]
     },
     "execution_count": 13,
     "metadata": {},
     "output_type": "execute_result"
    }
   ],
   "source": [
    "# Número de valores nulos en filas.\n",
    "df_plot = df_data.isnull().sum().sort_values()\n",
    "df_plot"
   ]
  },
  {
   "cell_type": "code",
   "execution_count": 14,
   "id": "76a62811-11a1-4e1d-b5c8-a555676cac09",
   "metadata": {
    "ExecuteTime": {
     "end_time": "2023-02-10T03:42:42.783949Z",
     "start_time": "2023-02-10T03:42:42.583210Z"
    },
    "colab": {
     "base_uri": "https://localhost:8080/",
     "height": 282
    },
    "execution": {
     "iopub.execute_input": "2023-03-07T04:28:55.216631Z",
     "iopub.status.busy": "2023-03-07T04:28:55.215974Z",
     "iopub.status.idle": "2023-03-07T04:28:55.220272Z",
     "shell.execute_reply": "2023-03-07T04:28:55.219185Z",
     "shell.execute_reply.started": "2023-03-07T04:28:55.216606Z"
    },
    "id": "76a62811-11a1-4e1d-b5c8-a555676cac09",
    "outputId": "1c344145-502e-4bcb-8437-ca6d8213f68b",
    "tags": []
   },
   "outputs": [],
   "source": [
    "# Existen múltiples filas con valores nulos. Esto se debe a que son llaves foráneas.\n",
    "#plt.barh(df_plot.index, df_plot.values)"
   ]
  },
  {
   "cell_type": "markdown",
   "id": "e6668a01-3658-4ee9-9e3f-a7a682621488",
   "metadata": {
    "tags": []
   },
   "source": [
    "# **Perfilamiento y entendimiento de los datos**\n",
    "Obtendremos estadísticas descriptivas pertinentes y posteriormente ingresaremos el conjunto de datos a Pandas Profiling para obtener un reporte adecuado de correlación e interacción entre variables."
   ]
  },
  {
   "cell_type": "code",
   "execution_count": 15,
   "id": "2e9a3235-62e6-4c13-bd6b-c3d9e0a098ae",
   "metadata": {
    "ExecuteTime": {
     "start_time": "2023-02-10T03:42:44.714Z"
    },
    "execution": {
     "iopub.execute_input": "2023-03-07T04:28:55.222557Z",
     "iopub.status.busy": "2023-03-07T04:28:55.221893Z",
     "iopub.status.idle": "2023-03-07T04:29:15.656077Z",
     "shell.execute_reply": "2023-03-07T04:29:15.655130Z",
     "shell.execute_reply.started": "2023-03-07T04:28:55.222534Z"
    },
    "tags": []
   },
   "outputs": [
    {
     "data": {
      "text/html": [
       "<div>\n",
       "<style scoped>\n",
       "    .dataframe tbody tr th:only-of-type {\n",
       "        vertical-align: middle;\n",
       "    }\n",
       "\n",
       "    .dataframe tbody tr th {\n",
       "        vertical-align: top;\n",
       "    }\n",
       "\n",
       "    .dataframe thead th {\n",
       "        text-align: right;\n",
       "    }\n",
       "</style>\n",
       "<table border=\"1\" class=\"dataframe\">\n",
       "  <thead>\n",
       "    <tr style=\"text-align: right;\">\n",
       "      <th></th>\n",
       "      <th>userid</th>\n",
       "      <th>timestamp</th>\n",
       "      <th>musicbrainz-artist-id</th>\n",
       "      <th>artist-name</th>\n",
       "      <th>musicbrainz-track-id</th>\n",
       "      <th>track-name</th>\n",
       "    </tr>\n",
       "  </thead>\n",
       "  <tbody>\n",
       "    <tr>\n",
       "      <th>count</th>\n",
       "      <td>19098853</td>\n",
       "      <td>19098853</td>\n",
       "      <td>18498005</td>\n",
       "      <td>19098853</td>\n",
       "      <td>16936134</td>\n",
       "      <td>19098841</td>\n",
       "    </tr>\n",
       "    <tr>\n",
       "      <th>unique</th>\n",
       "      <td>992</td>\n",
       "      <td>17454730</td>\n",
       "      <td>107296</td>\n",
       "      <td>173921</td>\n",
       "      <td>960403</td>\n",
       "      <td>1083472</td>\n",
       "    </tr>\n",
       "    <tr>\n",
       "      <th>top</th>\n",
       "      <td>user_000949</td>\n",
       "      <td>2009-02-26T21:29:15Z</td>\n",
       "      <td>a74b1b7f-71a5-4011-9441-d0b5e4122711</td>\n",
       "      <td>Radiohead</td>\n",
       "      <td>db16d0b3-b8ce-4aa8-a11a-e4d53cc7f8a6</td>\n",
       "      <td>Intro</td>\n",
       "    </tr>\n",
       "    <tr>\n",
       "      <th>freq</th>\n",
       "      <td>183103</td>\n",
       "      <td>248</td>\n",
       "      <td>115099</td>\n",
       "      <td>115099</td>\n",
       "      <td>3991</td>\n",
       "      <td>17561</td>\n",
       "    </tr>\n",
       "  </tbody>\n",
       "</table>\n",
       "</div>"
      ],
      "text/plain": [
       "             userid             timestamp  \\\n",
       "count      19098853              19098853   \n",
       "unique          992              17454730   \n",
       "top     user_000949  2009-02-26T21:29:15Z   \n",
       "freq         183103                   248   \n",
       "\n",
       "                       musicbrainz-artist-id artist-name  \\\n",
       "count                               18498005    19098853   \n",
       "unique                                107296      173921   \n",
       "top     a74b1b7f-71a5-4011-9441-d0b5e4122711   Radiohead   \n",
       "freq                                  115099      115099   \n",
       "\n",
       "                        musicbrainz-track-id track-name  \n",
       "count                               16936134   19098841  \n",
       "unique                                960403    1083472  \n",
       "top     db16d0b3-b8ce-4aa8-a11a-e4d53cc7f8a6      Intro  \n",
       "freq                                    3991      17561  "
      ]
     },
     "execution_count": 15,
     "metadata": {},
     "output_type": "execute_result"
    }
   ],
   "source": [
    "# Obtención de estadísticas descriptivas.\n",
    "df_data.describe()"
   ]
  },
  {
   "cell_type": "code",
   "execution_count": 16,
   "id": "90071415-ecdc-41cf-b061-fc901b07e359",
   "metadata": {
    "ExecuteTime": {
     "start_time": "2023-02-10T03:39:17.049Z"
    },
    "execution": {
     "iopub.execute_input": "2023-03-07T04:29:15.657311Z",
     "iopub.status.busy": "2023-03-07T04:29:15.657045Z",
     "iopub.status.idle": "2023-03-07T04:29:15.678550Z",
     "shell.execute_reply": "2023-03-07T04:29:15.677263Z",
     "shell.execute_reply.started": "2023-03-07T04:29:15.657272Z"
    },
    "tags": []
   },
   "outputs": [
    {
     "name": "stdout",
     "output_type": "stream",
     "text": [
      "<class 'cudf.core.dataframe.DataFrame'>\n",
      "RangeIndex: 19098853 entries, 0 to 19098852\n",
      "Data columns (total 6 columns):\n",
      " #   Column                 Dtype\n",
      "---  ------                 -----\n",
      " 0   userid                 object\n",
      " 1   timestamp              object\n",
      " 2   musicbrainz-artist-id  object\n",
      " 3   artist-name            object\n",
      " 4   musicbrainz-track-id   object\n",
      " 5   track-name             object\n",
      "dtypes: object(6)\n",
      "memory usage: 2.7+ GB\n"
     ]
    }
   ],
   "source": [
    "# Obtención de estadísticas descriptivas.\n",
    "df_data.info()"
   ]
  },
  {
   "cell_type": "code",
   "execution_count": 24,
   "id": "3dc8fcad-05dc-473c-a06b-3f2a085c5d67",
   "metadata": {
    "execution": {
     "iopub.execute_input": "2023-03-07T04:37:09.038739Z",
     "iopub.status.busy": "2023-03-07T04:37:09.038414Z",
     "iopub.status.idle": "2023-03-07T04:37:09.621266Z",
     "shell.execute_reply": "2023-03-07T04:37:09.620321Z",
     "shell.execute_reply.started": "2023-03-07T04:37:09.038719Z"
    },
    "tags": []
   },
   "outputs": [
    {
     "data": {
      "text/html": [
       "<div>\n",
       "<style scoped>\n",
       "    .dataframe tbody tr th:only-of-type {\n",
       "        vertical-align: middle;\n",
       "    }\n",
       "\n",
       "    .dataframe tbody tr th {\n",
       "        vertical-align: top;\n",
       "    }\n",
       "\n",
       "    .dataframe thead th {\n",
       "        text-align: right;\n",
       "    }\n",
       "</style>\n",
       "<table border=\"1\" class=\"dataframe\">\n",
       "  <thead>\n",
       "    <tr style=\"text-align: right;\">\n",
       "      <th></th>\n",
       "      <th>user_id</th>\n",
       "      <th>track_name</th>\n",
       "      <th>rating</th>\n",
       "    </tr>\n",
       "  </thead>\n",
       "  <tbody>\n",
       "    <tr>\n",
       "      <th>0</th>\n",
       "      <td>user_000008</td>\n",
       "      <td>Heartless</td>\n",
       "      <td>2119</td>\n",
       "    </tr>\n",
       "    <tr>\n",
       "      <th>1</th>\n",
       "      <td>user_000008</td>\n",
       "      <td>See You In My Nightmares</td>\n",
       "      <td>2069</td>\n",
       "    </tr>\n",
       "    <tr>\n",
       "      <th>2</th>\n",
       "      <td>user_000008</td>\n",
       "      <td>Say You Will</td>\n",
       "      <td>2065</td>\n",
       "    </tr>\n",
       "    <tr>\n",
       "      <th>3</th>\n",
       "      <td>user_000008</td>\n",
       "      <td>Welcome To Heartbreak (Feat. Kid Cudi)</td>\n",
       "      <td>2059</td>\n",
       "    </tr>\n",
       "    <tr>\n",
       "      <th>4</th>\n",
       "      <td>user_000008</td>\n",
       "      <td>Love Lockdown</td>\n",
       "      <td>2059</td>\n",
       "    </tr>\n",
       "    <tr>\n",
       "      <th>...</th>\n",
       "      <td>...</td>\n",
       "      <td>...</td>\n",
       "      <td>...</td>\n",
       "    </tr>\n",
       "    <tr>\n",
       "      <th>4407905</th>\n",
       "      <td>user_000298</td>\n",
       "      <td>Each Other</td>\n",
       "      <td>1</td>\n",
       "    </tr>\n",
       "    <tr>\n",
       "      <th>4407906</th>\n",
       "      <td>user_000666</td>\n",
       "      <td>Walking Thru The Park</td>\n",
       "      <td>1</td>\n",
       "    </tr>\n",
       "    <tr>\n",
       "      <th>4407907</th>\n",
       "      <td>user_000783</td>\n",
       "      <td>Your Mistake / Victim In Pain (Live)</td>\n",
       "      <td>1</td>\n",
       "    </tr>\n",
       "    <tr>\n",
       "      <th>4407908</th>\n",
       "      <td>user_000382</td>\n",
       "      <td>Junesong Provision</td>\n",
       "      <td>1</td>\n",
       "    </tr>\n",
       "    <tr>\n",
       "      <th>4407909</th>\n",
       "      <td>user_000293</td>\n",
       "      <td>The Gentry Cove</td>\n",
       "      <td>1</td>\n",
       "    </tr>\n",
       "  </tbody>\n",
       "</table>\n",
       "<p>4407910 rows × 3 columns</p>\n",
       "</div>"
      ],
      "text/plain": [
       "             user_id                              track_name  rating\n",
       "0        user_000008                               Heartless    2119\n",
       "1        user_000008                See You In My Nightmares    2069\n",
       "2        user_000008                            Say You Will    2065\n",
       "3        user_000008  Welcome To Heartbreak (Feat. Kid Cudi)    2059\n",
       "4        user_000008                           Love Lockdown    2059\n",
       "...              ...                                     ...     ...\n",
       "4407905  user_000298                              Each Other       1\n",
       "4407906  user_000666                   Walking Thru The Park       1\n",
       "4407907  user_000783    Your Mistake / Victim In Pain (Live)       1\n",
       "4407908  user_000382                      Junesong Provision       1\n",
       "4407909  user_000293                         The Gentry Cove       1\n",
       "\n",
       "[4407910 rows x 3 columns]"
      ]
     },
     "execution_count": 24,
     "metadata": {},
     "output_type": "execute_result"
    }
   ],
   "source": [
    "# Contamos el número de veces que una persona escuchó una canción. Y tomamos esto como matriz de utilidad.\n",
    "# La segunda línea quita el multi-index.\n",
    "df_user_track = df_data.groupby(['userid', 'track-name']).count().sort_values('timestamp', ascending=False)['timestamp'].to_frame()\n",
    "df_user_track = df_user_track.reset_index(level=[0,1])\n",
    "\n",
    "# Optimizamos la memoria.\n",
    "# Link: https://towardsdatascience.com/memory-efficient-data-science-types-53423d48ba1d\n",
    "df_user_track['timestamp'] = df_user_track['timestamp'].astype(np.uint16)\n",
    "df_user_track.rename(columns={\"userid\":\"user_id\",\"track-name\":\"track_name\",\"timestamp\": \"rating\"}, inplace=True)\n",
    "df_user_track"
   ]
  },
  {
   "cell_type": "code",
   "execution_count": 25,
   "id": "2b34e0f3-eb47-46a6-abea-b7d132d9d82f",
   "metadata": {
    "execution": {
     "iopub.execute_input": "2023-03-07T04:37:10.255730Z",
     "iopub.status.busy": "2023-03-07T04:37:10.254769Z",
     "iopub.status.idle": "2023-03-07T04:37:10.333652Z",
     "shell.execute_reply": "2023-03-07T04:37:10.332414Z",
     "shell.execute_reply.started": "2023-03-07T04:37:10.255704Z"
    },
    "tags": []
   },
   "outputs": [
    {
     "data": {
      "text/html": [
       "<div>\n",
       "<style scoped>\n",
       "    .dataframe tbody tr th:only-of-type {\n",
       "        vertical-align: middle;\n",
       "    }\n",
       "\n",
       "    .dataframe tbody tr th {\n",
       "        vertical-align: top;\n",
       "    }\n",
       "\n",
       "    .dataframe thead th {\n",
       "        text-align: right;\n",
       "    }\n",
       "</style>\n",
       "<table border=\"1\" class=\"dataframe\">\n",
       "  <thead>\n",
       "    <tr style=\"text-align: right;\">\n",
       "      <th></th>\n",
       "      <th>user_id</th>\n",
       "      <th>track_name</th>\n",
       "      <th>rating</th>\n",
       "    </tr>\n",
       "  </thead>\n",
       "  <tbody>\n",
       "    <tr>\n",
       "      <th>0</th>\n",
       "      <td>user_000008</td>\n",
       "      <td>Heartless</td>\n",
       "      <td>2119</td>\n",
       "    </tr>\n",
       "    <tr>\n",
       "      <th>1</th>\n",
       "      <td>user_000008</td>\n",
       "      <td>See You In My Nightmares</td>\n",
       "      <td>2069</td>\n",
       "    </tr>\n",
       "    <tr>\n",
       "      <th>2</th>\n",
       "      <td>user_000008</td>\n",
       "      <td>Say You Will</td>\n",
       "      <td>2065</td>\n",
       "    </tr>\n",
       "    <tr>\n",
       "      <th>3</th>\n",
       "      <td>user_000008</td>\n",
       "      <td>Welcome To Heartbreak (Feat. Kid Cudi)</td>\n",
       "      <td>2059</td>\n",
       "    </tr>\n",
       "    <tr>\n",
       "      <th>4</th>\n",
       "      <td>user_000008</td>\n",
       "      <td>Love Lockdown</td>\n",
       "      <td>2059</td>\n",
       "    </tr>\n",
       "    <tr>\n",
       "      <th>...</th>\n",
       "      <td>...</td>\n",
       "      <td>...</td>\n",
       "      <td>...</td>\n",
       "    </tr>\n",
       "    <tr>\n",
       "      <th>4348908</th>\n",
       "      <td>user_000008</td>\n",
       "      <td>Fair To You</td>\n",
       "      <td>1</td>\n",
       "    </tr>\n",
       "    <tr>\n",
       "      <th>4354128</th>\n",
       "      <td>user_000008</td>\n",
       "      <td>Trans Boulogne Express</td>\n",
       "      <td>1</td>\n",
       "    </tr>\n",
       "    <tr>\n",
       "      <th>4358356</th>\n",
       "      <td>user_000008</td>\n",
       "      <td>Had Enough</td>\n",
       "      <td>1</td>\n",
       "    </tr>\n",
       "    <tr>\n",
       "      <th>4362499</th>\n",
       "      <td>user_000008</td>\n",
       "      <td>The Phone</td>\n",
       "      <td>1</td>\n",
       "    </tr>\n",
       "    <tr>\n",
       "      <th>4377966</th>\n",
       "      <td>user_000008</td>\n",
       "      <td>Lost</td>\n",
       "      <td>1</td>\n",
       "    </tr>\n",
       "  </tbody>\n",
       "</table>\n",
       "<p>608 rows × 3 columns</p>\n",
       "</div>"
      ],
      "text/plain": [
       "             user_id                              track_name  rating\n",
       "0        user_000008                               Heartless    2119\n",
       "1        user_000008                See You In My Nightmares    2069\n",
       "2        user_000008                            Say You Will    2065\n",
       "3        user_000008  Welcome To Heartbreak (Feat. Kid Cudi)    2059\n",
       "4        user_000008                           Love Lockdown    2059\n",
       "...              ...                                     ...     ...\n",
       "4348908  user_000008                             Fair To You       1\n",
       "4354128  user_000008                  Trans Boulogne Express       1\n",
       "4358356  user_000008                              Had Enough       1\n",
       "4362499  user_000008                               The Phone       1\n",
       "4377966  user_000008                                    Lost       1\n",
       "\n",
       "[608 rows x 3 columns]"
      ]
     },
     "execution_count": 25,
     "metadata": {},
     "output_type": "execute_result"
    }
   ],
   "source": [
    "#df_test = df_user_track.groupby('user_id').count()\n",
    "df_test = df_user_track.loc[df_user_track['user_id'] == 'user_000008']\n",
    "\n",
    "df_test['rating'].iloc[-1]\n",
    "df_test"
   ]
  },
  {
   "cell_type": "code",
   "execution_count": 26,
   "id": "bfc4c1e6-024e-41c9-8f32-90bdebf456e7",
   "metadata": {
    "execution": {
     "iopub.execute_input": "2023-03-07T04:37:10.930410Z",
     "iopub.status.busy": "2023-03-07T04:37:10.929342Z",
     "iopub.status.idle": "2023-03-07T04:37:11.030406Z",
     "shell.execute_reply": "2023-03-07T04:37:11.028923Z",
     "shell.execute_reply.started": "2023-03-07T04:37:10.930383Z"
    },
    "tags": []
   },
   "outputs": [
    {
     "data": {
      "text/html": [
       "<div>\n",
       "<style scoped>\n",
       "    .dataframe tbody tr th:only-of-type {\n",
       "        vertical-align: middle;\n",
       "    }\n",
       "\n",
       "    .dataframe tbody tr th {\n",
       "        vertical-align: top;\n",
       "    }\n",
       "\n",
       "    .dataframe thead th {\n",
       "        text-align: right;\n",
       "    }\n",
       "</style>\n",
       "<table border=\"1\" class=\"dataframe\">\n",
       "  <thead>\n",
       "    <tr style=\"text-align: right;\">\n",
       "      <th></th>\n",
       "      <th>index</th>\n",
       "      <th>user_id</th>\n",
       "      <th>track_name</th>\n",
       "      <th>rating</th>\n",
       "    </tr>\n",
       "  </thead>\n",
       "  <tbody>\n",
       "    <tr>\n",
       "      <th>0</th>\n",
       "      <td>0</td>\n",
       "      <td>user_000008</td>\n",
       "      <td>Heartless</td>\n",
       "      <td>5.000000</td>\n",
       "    </tr>\n",
       "    <tr>\n",
       "      <th>1</th>\n",
       "      <td>1</td>\n",
       "      <td>user_000008</td>\n",
       "      <td>See You In My Nightmares</td>\n",
       "      <td>4.905571</td>\n",
       "    </tr>\n",
       "    <tr>\n",
       "      <th>2</th>\n",
       "      <td>2</td>\n",
       "      <td>user_000008</td>\n",
       "      <td>Say You Will</td>\n",
       "      <td>4.898017</td>\n",
       "    </tr>\n",
       "    <tr>\n",
       "      <th>3</th>\n",
       "      <td>3</td>\n",
       "      <td>user_000008</td>\n",
       "      <td>Welcome To Heartbreak (Feat. Kid Cudi)</td>\n",
       "      <td>4.886686</td>\n",
       "    </tr>\n",
       "    <tr>\n",
       "      <th>4</th>\n",
       "      <td>4</td>\n",
       "      <td>user_000008</td>\n",
       "      <td>Love Lockdown</td>\n",
       "      <td>4.886686</td>\n",
       "    </tr>\n",
       "    <tr>\n",
       "      <th>...</th>\n",
       "      <td>...</td>\n",
       "      <td>...</td>\n",
       "      <td>...</td>\n",
       "      <td>...</td>\n",
       "    </tr>\n",
       "    <tr>\n",
       "      <th>603</th>\n",
       "      <td>4348908</td>\n",
       "      <td>user_000008</td>\n",
       "      <td>Fair To You</td>\n",
       "      <td>1.000000</td>\n",
       "    </tr>\n",
       "    <tr>\n",
       "      <th>604</th>\n",
       "      <td>4354128</td>\n",
       "      <td>user_000008</td>\n",
       "      <td>Trans Boulogne Express</td>\n",
       "      <td>1.000000</td>\n",
       "    </tr>\n",
       "    <tr>\n",
       "      <th>605</th>\n",
       "      <td>4358356</td>\n",
       "      <td>user_000008</td>\n",
       "      <td>Had Enough</td>\n",
       "      <td>1.000000</td>\n",
       "    </tr>\n",
       "    <tr>\n",
       "      <th>606</th>\n",
       "      <td>4362499</td>\n",
       "      <td>user_000008</td>\n",
       "      <td>The Phone</td>\n",
       "      <td>1.000000</td>\n",
       "    </tr>\n",
       "    <tr>\n",
       "      <th>607</th>\n",
       "      <td>4377966</td>\n",
       "      <td>user_000008</td>\n",
       "      <td>Lost</td>\n",
       "      <td>1.000000</td>\n",
       "    </tr>\n",
       "  </tbody>\n",
       "</table>\n",
       "<p>608 rows × 4 columns</p>\n",
       "</div>"
      ],
      "text/plain": [
       "       index      user_id                              track_name    rating\n",
       "0          0  user_000008                               Heartless  5.000000\n",
       "1          1  user_000008                See You In My Nightmares  4.905571\n",
       "2          2  user_000008                            Say You Will  4.898017\n",
       "3          3  user_000008  Welcome To Heartbreak (Feat. Kid Cudi)  4.886686\n",
       "4          4  user_000008                           Love Lockdown  4.886686\n",
       "..       ...          ...                                     ...       ...\n",
       "603  4348908  user_000008                             Fair To You  1.000000\n",
       "604  4354128  user_000008                  Trans Boulogne Express  1.000000\n",
       "605  4358356  user_000008                              Had Enough  1.000000\n",
       "606  4362499  user_000008                               The Phone  1.000000\n",
       "607  4377966  user_000008                                    Lost  1.000000\n",
       "\n",
       "[608 rows x 4 columns]"
      ]
     },
     "execution_count": 26,
     "metadata": {},
     "output_type": "execute_result"
    }
   ],
   "source": [
    "from cuml.preprocessing import MinMaxScaler\n",
    "#from sklearn.preprocessing import MinMaxScaler\n",
    "\n",
    "scaler = MinMaxScaler(feature_range=(1, 5))\n",
    "df_test = df_test.reset_index() # Problemas con los índices al transformar en Sklearn.\n",
    "df_test['rating'] = scaler.fit_transform(df_test[['rating']])\n",
    "df_test = df_test.set_index('index')\n",
    "df_test = df_test.reset_index(level=[0,1])\n",
    "df_test"
   ]
  },
  {
   "cell_type": "code",
   "execution_count": 22,
   "id": "031d5e80-0830-45a4-9367-45c735b2c03b",
   "metadata": {
    "execution": {
     "iopub.execute_input": "2023-03-07T04:36:58.790053Z",
     "iopub.status.busy": "2023-03-07T04:36:58.789468Z",
     "iopub.status.idle": "2023-03-07T04:36:58.804151Z",
     "shell.execute_reply": "2023-03-07T04:36:58.803296Z",
     "shell.execute_reply.started": "2023-03-07T04:36:58.790027Z"
    },
    "tags": []
   },
   "outputs": [
    {
     "data": {
      "text/plain": [
       "0      5.000000\n",
       "1      4.905571\n",
       "2      4.898017\n",
       "3      4.886686\n",
       "4      4.886686\n",
       "         ...   \n",
       "603    1.000000\n",
       "604    1.000000\n",
       "605    1.000000\n",
       "606    1.000000\n",
       "607    1.000000\n",
       "Name: rating, Length: 608, dtype: float64"
      ]
     },
     "execution_count": 22,
     "metadata": {},
     "output_type": "execute_result"
    }
   ],
   "source": [
    "df_test['rating']"
   ]
  },
  {
   "cell_type": "code",
   "execution_count": 27,
   "id": "86d582f3-ba13-4634-b03d-410667cdd6bb",
   "metadata": {
    "execution": {
     "iopub.execute_input": "2023-03-07T04:38:37.584521Z",
     "iopub.status.busy": "2023-03-07T04:38:37.584191Z",
     "iopub.status.idle": "2023-03-07T04:38:37.936421Z",
     "shell.execute_reply": "2023-03-07T04:38:37.935167Z",
     "shell.execute_reply.started": "2023-03-07T04:38:37.584501Z"
    },
    "tags": []
   },
   "outputs": [
    {
     "data": {
      "text/html": [
       "<div>\n",
       "<style scoped>\n",
       "    .dataframe tbody tr th:only-of-type {\n",
       "        vertical-align: middle;\n",
       "    }\n",
       "\n",
       "    .dataframe tbody tr th {\n",
       "        vertical-align: top;\n",
       "    }\n",
       "\n",
       "    .dataframe thead th {\n",
       "        text-align: right;\n",
       "    }\n",
       "</style>\n",
       "<table border=\"1\" class=\"dataframe\">\n",
       "  <thead>\n",
       "    <tr style=\"text-align: right;\">\n",
       "      <th></th>\n",
       "      <th>user_id</th>\n",
       "      <th>artist_name</th>\n",
       "      <th>rating</th>\n",
       "    </tr>\n",
       "  </thead>\n",
       "  <tbody>\n",
       "    <tr>\n",
       "      <th>0</th>\n",
       "      <td>user_000008</td>\n",
       "      <td>Kanye West</td>\n",
       "      <td>26496</td>\n",
       "    </tr>\n",
       "    <tr>\n",
       "      <th>1</th>\n",
       "      <td>user_000141</td>\n",
       "      <td>Chemistry</td>\n",
       "      <td>25609</td>\n",
       "    </tr>\n",
       "    <tr>\n",
       "      <th>2</th>\n",
       "      <td>user_000499</td>\n",
       "      <td>The Knife</td>\n",
       "      <td>18597</td>\n",
       "    </tr>\n",
       "    <tr>\n",
       "      <th>3</th>\n",
       "      <td>user_000889</td>\n",
       "      <td>Soilwork</td>\n",
       "      <td>15566</td>\n",
       "    </tr>\n",
       "    <tr>\n",
       "      <th>4</th>\n",
       "      <td>user_000084</td>\n",
       "      <td>Britney Spears</td>\n",
       "      <td>14614</td>\n",
       "    </tr>\n",
       "    <tr>\n",
       "      <th>...</th>\n",
       "      <td>...</td>\n",
       "      <td>...</td>\n",
       "      <td>...</td>\n",
       "    </tr>\n",
       "    <tr>\n",
       "      <th>897414</th>\n",
       "      <td>user_000966</td>\n",
       "      <td>Mcg'Z</td>\n",
       "      <td>1</td>\n",
       "    </tr>\n",
       "    <tr>\n",
       "      <th>897415</th>\n",
       "      <td>user_000758</td>\n",
       "      <td>Eric Burdon And The Animals</td>\n",
       "      <td>1</td>\n",
       "    </tr>\n",
       "    <tr>\n",
       "      <th>897416</th>\n",
       "      <td>user_000222</td>\n",
       "      <td>Fear Factory</td>\n",
       "      <td>1</td>\n",
       "    </tr>\n",
       "    <tr>\n",
       "      <th>897417</th>\n",
       "      <td>user_000412</td>\n",
       "      <td>Minotaur Shock</td>\n",
       "      <td>1</td>\n",
       "    </tr>\n",
       "    <tr>\n",
       "      <th>897418</th>\n",
       "      <td>user_000665</td>\n",
       "      <td>The Automatic</td>\n",
       "      <td>1</td>\n",
       "    </tr>\n",
       "  </tbody>\n",
       "</table>\n",
       "<p>897419 rows × 3 columns</p>\n",
       "</div>"
      ],
      "text/plain": [
       "            user_id                  artist_name  rating\n",
       "0       user_000008                   Kanye West   26496\n",
       "1       user_000141                    Chemistry   25609\n",
       "2       user_000499                    The Knife   18597\n",
       "3       user_000889                     Soilwork   15566\n",
       "4       user_000084               Britney Spears   14614\n",
       "...             ...                          ...     ...\n",
       "897414  user_000966                        Mcg'Z       1\n",
       "897415  user_000758  Eric Burdon And The Animals       1\n",
       "897416  user_000222                 Fear Factory       1\n",
       "897417  user_000412               Minotaur Shock       1\n",
       "897418  user_000665                The Automatic       1\n",
       "\n",
       "[897419 rows x 3 columns]"
      ]
     },
     "execution_count": 27,
     "metadata": {},
     "output_type": "execute_result"
    }
   ],
   "source": [
    "# Contamos el número de veces que una persona escuchó un artista. Y tomamos esto como matriz de utilidad.\n",
    "# La segunda línea quita el multi-index.\n",
    "df_user_artist = df_data.groupby(['userid', 'artist-name']).count().sort_values('timestamp', ascending=False)['timestamp'].to_frame()\n",
    "df_user_artist = df_user_artist.reset_index(level=[0,1])\n",
    "\n",
    "# Optimizamos la memoria.\n",
    "# Link: https://towardsdatascience.com/memory-efficient-data-science-types-53423d48ba1d\n",
    "df_user_artist['timestamp'] = df_user_artist['timestamp'].astype(np.uint16)\n",
    "df_user_artist.rename(columns={\"userid\":\"user_id\",\"artist-name\":\"artist_name\",\"timestamp\": \"rating\"}, inplace=True)\n",
    "df_user_artist"
   ]
  },
  {
   "cell_type": "code",
   "execution_count": null,
   "id": "83483a32-a1e5-40c3-a7e9-b64f8089ee0b",
   "metadata": {
    "execution": {
     "iopub.status.busy": "2023-03-07T04:27:32.809484Z",
     "iopub.status.idle": "2023-03-07T04:27:32.810015Z",
     "shell.execute_reply": "2023-03-07T04:27:32.809818Z",
     "shell.execute_reply.started": "2023-03-07T04:27:32.809795Z"
    },
    "tags": []
   },
   "outputs": [],
   "source": [
    "# Analizamos el consumo en memoria de los DF's\n",
    "df_user_track.info()\n",
    "print(\"------------------------------------------\")\n",
    "df_user_artist.info()"
   ]
  },
  {
   "cell_type": "code",
   "execution_count": null,
   "id": "3d966fc9-9bc1-4ff2-bdd6-697249a81f75",
   "metadata": {
    "execution": {
     "iopub.status.busy": "2023-03-07T04:27:32.811954Z",
     "iopub.status.idle": "2023-03-07T04:27:32.812651Z",
     "shell.execute_reply": "2023-03-07T04:27:32.812509Z",
     "shell.execute_reply.started": "2023-03-07T04:27:32.812491Z"
    },
    "tags": []
   },
   "outputs": [],
   "source": [
    "# Exportamos los DF's\n",
    "df_user_track.index.name='id'\n",
    "df_user_track.to_csv(\"../data/processed/user_track.csv\")\n",
    "df_user_artist.index.name='id'\n",
    "df_user_artist.to_csv(\"../data/processed/user_artist.csv\")"
   ]
  },
  {
   "cell_type": "code",
   "execution_count": null,
   "id": "c49748b0-6837-4969-a524-2bc675bda684",
   "metadata": {
    "execution": {
     "iopub.status.busy": "2023-03-07T04:27:32.813616Z",
     "iopub.status.idle": "2023-03-07T04:27:32.813899Z",
     "shell.execute_reply": "2023-03-07T04:27:32.813794Z",
     "shell.execute_reply.started": "2023-03-07T04:27:32.813767Z"
    },
    "tags": []
   },
   "outputs": [],
   "source": [
    "# Este código genera la matriz de 1's y 0s. Realiza un pivote y cuenta las coincidencias.\n",
    "#df_user_track = df_user_track.pivot(index='userid', columns='artist-name', values='timestamp')"
   ]
  },
  {
   "cell_type": "code",
   "execution_count": null,
   "id": "19df7342-9d89-49cc-afb5-4b608b60ffc0",
   "metadata": {
    "execution": {
     "iopub.status.busy": "2023-03-07T04:27:32.815570Z",
     "iopub.status.idle": "2023-03-07T04:27:32.816032Z",
     "shell.execute_reply": "2023-03-07T04:27:32.815855Z",
     "shell.execute_reply.started": "2023-03-07T04:27:32.815835Z"
    },
    "tags": []
   },
   "outputs": [],
   "source": [
    "# Se cargan el conjunto total de los datos. \n",
    "# Leer TSV: https://stackoverflow.com/questions/9652832/how-to-load-a-tsv-file-into-a-pandas-dataframe\n",
    "# Tokenizing data error: https://stackoverflow.com/questions/18039057/python-pandas-error-tokenizing-data\n",
    "\n",
    "df_users=pd.read_csv('../data/userid-profile.tsv', sep='\\t')\n",
    "df_users['registered'] = pd.to_datetime(df_users['registered']).apply(str)\n",
    "df_users.rename(columns={\"#id\":\"user_id\"}, inplace=True)\n",
    "df_users.info()"
   ]
  },
  {
   "cell_type": "code",
   "execution_count": null,
   "id": "5d7c1d0a-6cb2-4f44-870c-4cde8e8527d6",
   "metadata": {
    "execution": {
     "iopub.status.busy": "2023-03-07T04:27:32.817821Z",
     "iopub.status.idle": "2023-03-07T04:27:32.818150Z",
     "shell.execute_reply": "2023-03-07T04:27:32.818019Z",
     "shell.execute_reply.started": "2023-03-07T04:27:32.818005Z"
    },
    "tags": []
   },
   "outputs": [],
   "source": [
    "# Creamos la columna que tendrá el Password. Para facilitar nuestra simulación, esta columna será: hash256('user_id'+'123.')\n",
    "def hash(x):\n",
    "    h = hashlib.new('sha256')\n",
    "    h.update(x.encode())\n",
    "    return h.hexdigest()\n",
    "\n",
    "df_users['password_hash'] = df_users['user_id'].apply(lambda x: hash(str(x)+'123.'))\n",
    "df_users"
   ]
  },
  {
   "cell_type": "code",
   "execution_count": null,
   "id": "8e179bf9-10b3-411a-8cd4-6a80444fe3a1",
   "metadata": {
    "execution": {
     "iopub.status.busy": "2023-03-07T04:27:32.819524Z",
     "iopub.status.idle": "2023-03-07T04:27:32.819858Z",
     "shell.execute_reply": "2023-03-07T04:27:32.819734Z",
     "shell.execute_reply.started": "2023-03-07T04:27:32.819719Z"
    },
    "tags": []
   },
   "outputs": [],
   "source": [
    "df_users.to_csv(\"../data/processed/users.csv\")"
   ]
  },
  {
   "cell_type": "code",
   "execution_count": null,
   "id": "b691760b-b3ce-4403-a801-db8e3967fe01",
   "metadata": {
    "ExecuteTime": {
     "end_time": "2023-02-10T02:37:47.514472Z",
     "start_time": "2023-02-10T02:35:25.838893Z"
    },
    "execution": {
     "iopub.status.busy": "2023-03-07T04:27:32.821221Z",
     "iopub.status.idle": "2023-03-07T04:27:32.821524Z",
     "shell.execute_reply": "2023-03-07T04:27:32.821402Z",
     "shell.execute_reply.started": "2023-03-07T04:27:32.821385Z"
    },
    "tags": []
   },
   "outputs": [],
   "source": [
    "# Se genera un reporte de analítica. Demora menos de 1 minuto aproximadamente.\n",
    "#profile = ProfileReport(df_user_artist.to_pandas(), title=\"Pandas Profiling Report\", minimal=True)\n",
    "#profile.to_file(\"reporte.html\")"
   ]
  },
  {
   "cell_type": "markdown",
   "id": "6f96bd1a-081b-48bc-ad7b-e55a3b5c7ea7",
   "metadata": {
    "execution": {
     "iopub.execute_input": "2023-02-24T19:14:30.432166Z",
     "iopub.status.busy": "2023-02-24T19:14:30.431043Z",
     "iopub.status.idle": "2023-02-24T19:14:30.464999Z",
     "shell.execute_reply": "2023-02-24T19:14:30.460485Z",
     "shell.execute_reply.started": "2023-02-24T19:14:30.432134Z"
    }
   },
   "source": [
    "# **Creación de la base de datos SQLite3**\n",
    "Creamos una base de datos SQLite3, con base en los DF's generados."
   ]
  },
  {
   "cell_type": "code",
   "execution_count": null,
   "id": "c20487b3-c485-44d9-8134-0fd846a5972e",
   "metadata": {
    "execution": {
     "iopub.status.busy": "2023-03-07T04:27:32.823042Z",
     "iopub.status.idle": "2023-03-07T04:27:32.823315Z",
     "shell.execute_reply": "2023-03-07T04:27:32.823214Z",
     "shell.execute_reply.started": "2023-03-07T04:27:32.823203Z"
    },
    "tags": []
   },
   "outputs": [],
   "source": [
    "# En caso de que no se pueda utilizar CUDF.\n",
    "df_user_track = df_user_track.to_pandas()\n",
    "df_user_artist = df_user_artist.to_pandas()"
   ]
  },
  {
   "cell_type": "code",
   "execution_count": null,
   "id": "6c0ea1f5-4b07-42c2-8e18-63a439b3c928",
   "metadata": {
    "execution": {
     "iopub.status.busy": "2023-03-07T04:27:32.824574Z",
     "iopub.status.idle": "2023-03-07T04:27:32.824854Z",
     "shell.execute_reply": "2023-03-07T04:27:32.824749Z",
     "shell.execute_reply.started": "2023-03-07T04:27:32.824737Z"
    },
    "tags": []
   },
   "outputs": [],
   "source": [
    "# Connect to the SQLite3 database\n",
    "conn = sqlite3.connect('../backend/data/data.db')\n",
    "\n",
    "# Create a cursor object\n",
    "cur = conn.cursor()\n",
    "\n",
    "# Create a new table in the database\n",
    "cur.execute('CREATE TABLE IF NOT EXISTS user_track (id INTEGER PRIMARY KEY, user_id TEXT, track_name TEXT, rating INTEGER)')\n",
    "\n",
    "for index, row in df_user_track.iterrows():\n",
    "    cur.execute('INSERT INTO user_track (id, user_id, track_name, rating) VALUES (?, ?, ?, ?)', \n",
    "                (index, row['user_id'], row['track_name'], row['rating']))\n",
    "\n",
    "# Commit the changes and close the database connection\n",
    "conn.commit()\n",
    "cur.close()\n",
    "conn.close()"
   ]
  },
  {
   "cell_type": "code",
   "execution_count": null,
   "id": "9d0d695a-9186-490d-b896-52c5a84b9f02",
   "metadata": {
    "execution": {
     "iopub.status.busy": "2023-03-07T04:27:32.826081Z",
     "iopub.status.idle": "2023-03-07T04:27:32.826421Z",
     "shell.execute_reply": "2023-03-07T04:27:32.826289Z",
     "shell.execute_reply.started": "2023-03-07T04:27:32.826273Z"
    },
    "tags": []
   },
   "outputs": [],
   "source": [
    "# Connect to the SQLite3 database\n",
    "conn = sqlite3.connect('../backend/data/data.db')\n",
    "\n",
    "# Create a cursor object\n",
    "cur = conn.cursor()\n",
    "\n",
    "# Create a new table in the database\n",
    "cur.execute('CREATE TABLE IF NOT EXISTS user_artist (id INTEGER PRIMARY KEY, user_id TEXT, artist_name TEXT, rating INTEGER)')\n",
    "\n",
    "for index, row in df_user_artist.iterrows():\n",
    "    cur.execute('INSERT INTO user_artist (id, user_id, artist_name, rating) VALUES (?, ?, ?, ?)', \n",
    "                (index, row['user_id'], row['artist_name'], row['rating']))\n",
    "\n",
    "# Commit the changes and close the database connection\n",
    "conn.commit()\n",
    "cur.close()\n",
    "conn.close()"
   ]
  },
  {
   "cell_type": "code",
   "execution_count": null,
   "id": "61fd1734-2f22-4a6e-97f1-32401dad1dba",
   "metadata": {
    "execution": {
     "iopub.status.busy": "2023-03-07T04:27:32.828088Z",
     "iopub.status.idle": "2023-03-07T04:27:32.828472Z",
     "shell.execute_reply": "2023-03-07T04:27:32.828320Z",
     "shell.execute_reply.started": "2023-03-07T04:27:32.828302Z"
    },
    "tags": []
   },
   "outputs": [],
   "source": [
    "# Connect to the SQLite3 database\n",
    "conn = sqlite3.connect('../backend/data/data.db')\n",
    "\n",
    "# Create a cursor object\n",
    "cur = conn.cursor()\n",
    "\n",
    "# Create a new table in the database\n",
    "cur.execute('CREATE TABLE IF NOT EXISTS user (user_id PRIMARY KEY, gender TEXT, age INTEGER, country TEXT, registered TIMESTAMP, password_hash TEXT)')\n",
    "\n",
    "for index, row in df_users.iterrows():\n",
    "    cur.execute('INSERT INTO user (user_id, gender, age, country, registered, password_hash) VALUES (?, ?, ?, ?, ?, ?)', \n",
    "                (row['user_id'] , row['gender'], row['age'], row['country'], row['registered'], row['password_hash']))\n",
    "\n",
    "# Commit the changes and close the database connection\n",
    "conn.commit()\n",
    "cur.close()\n",
    "conn.close()"
   ]
  },
  {
   "cell_type": "markdown",
   "id": "56b72df3-7aad-4afa-9c28-fe30b1794516",
   "metadata": {
    "id": "kOd-SiVhLd_x",
    "tags": []
   },
   "source": [
    "# **Creación de modelo de filtrado colaborativo basado en similitud con usuarios o items cercanos**\n",
    "\n",
    "Surprise cuenta con la implementación de los modelos colaborativos dentro de la clase [KNNBasic](https://surprise.readthedocs.io/en/stable/knn_inspired.html) \n",
    "\n",
    "El modelo recibe los siguientes parámetros: \n",
    "\n",
    "\n",
    "*   k: El máximo número de vecinos con el que se hará la extrapolación\n",
    "*   min_k : El mínimo número de vecinos con el que se extrapolará un rating\n",
    "*   sim_options : Opciones de similitud pasadas como un diccionario de python, aqui se le configura al modelo el tipo de similitud a usar para encontrar los vecinos y si la extrapolación debe hacerse usando usuarios o items similares. Revise el formato y similitudes disponibles en surprise en [este link](https://surprise.readthedocs.io/en/stable/prediction_algorithms.html#similarity-measure-configuration)\n",
    "\n",
    "\n",
    "\n"
   ]
  },
  {
   "cell_type": "code",
   "execution_count": null,
   "id": "34c171c4-d200-4243-b453-d69406db9d43",
   "metadata": {},
   "outputs": [],
   "source": [
    "reader = Reader( rating_scale = ( 1, 5 ) )\n",
    "#Se crea el dataset a partir del dataframe\n",
    "surprise_dataset = Dataset.load_from_df( ratings[ [ 'user_id', 'item_id', 'rating' ] ], reader )\n",
    "\n",
    "train_set, test_set=  train_test_split(surprise_dataset, test_size=.2)"
   ]
  },
  {
   "cell_type": "code",
   "execution_count": 27,
   "id": "3a5d4c20-68b7-4888-ac58-87067252f6a1",
   "metadata": {
    "execution": {
     "iopub.execute_input": "2023-03-02T08:37:53.000289Z",
     "iopub.status.busy": "2023-03-02T08:37:52.999681Z",
     "iopub.status.idle": "2023-03-02T08:37:53.003751Z",
     "shell.execute_reply": "2023-03-02T08:37:53.002910Z",
     "shell.execute_reply.started": "2023-03-02T08:37:53.000268Z"
    },
    "id": "s5A8reiHLdXy"
   },
   "outputs": [],
   "source": [
    "# se crea un modelo knnbasic item-item con similitud coseno \n",
    "sim_options = {'name': 'cosine',\n",
    "               'user_based': False  # calcule similitud item-item\n",
    "               }\n",
    "algo = KNNBasic(k=20, min_k=2, sim_options=sim_options)"
   ]
  },
  {
   "cell_type": "code",
   "execution_count": 45,
   "id": "e17ce647-39f7-4395-9428-e39b804dac07",
   "metadata": {
    "colab": {
     "base_uri": "https://localhost:8080/"
    },
    "id": "_G8gUHeoUzR-",
    "outputId": "07dc5b29-b03c-4448-fba8-91eac94b0a47"
   },
   "outputs": [
    {
     "name": "stdout",
     "output_type": "stream",
     "text": [
      "Computing the cosine similarity matrix...\n",
      "Done computing similarity matrix.\n"
     ]
    },
    {
     "data": {
      "text/plain": [
       "<surprise.prediction_algorithms.knns.KNNBasic at 0x7fcf9b3daa30>"
      ]
     },
     "execution_count": 45,
     "metadata": {},
     "output_type": "execute_result"
    }
   ],
   "source": [
    "#Se le pasa la matriz de utilidad al algoritmo \n",
    "algo.fit(trainset=train_set)"
   ]
  },
  {
   "cell_type": "markdown",
   "id": "035bc617-2c98-4dd2-bd76-9f6cf406c0c5",
   "metadata": {
    "id": "4B1_I0LqY6rd"
   },
   "source": [
    "Una vez cargados los ratings al modelo, se puede realizar una predicción para un usuario, en este caso vamos a calcular la predicción que el modelo esta realizando para la primera entrada del dataset de test la predicción para el usuario con id 154 y el item con id 302, que corresponde a la película L.A. Confidential (1997)\n",
    "\n",
    "---\n",
    "\n"
   ]
  },
  {
   "cell_type": "code",
   "execution_count": 47,
   "id": "57aa5527-bc55-4c09-9933-dba8bdcfcc79",
   "metadata": {
    "colab": {
     "base_uri": "https://localhost:8080/"
    },
    "id": "AdwrR8gVFQuD",
    "outputId": "41b8fe66-2a3f-4d72-db83-7778e3de2aeb"
   },
   "outputs": [
    {
     "data": {
      "text/plain": [
       "Prediction(uid=154, iid=302, r_ui=None, est=4.249202065377386, details={'actual_k': 20, 'was_impossible': False})"
      ]
     },
     "execution_count": 47,
     "metadata": {},
     "output_type": "execute_result"
    }
   ],
   "source": [
    "#Verifique la propiedad est de la predicción\n",
    "algo.predict(154,302)"
   ]
  },
  {
   "cell_type": "code",
   "execution_count": null,
   "id": "7006d928-69e0-49db-a204-9fe00ecb0f17",
   "metadata": {
    "colab": {
     "base_uri": "https://localhost:8080/",
     "height": 243
    },
    "id": "dzK37VDQIRIT",
    "outputId": "e5c2d53a-7051-4e1e-deb4-3c9a69eafc09"
   },
   "outputs": [
    {
     "data": {
      "text/html": [
       "\n",
       "  <div id=\"df-849a61e7-8ec8-464f-b5dd-02e367d26058\">\n",
       "    <div class=\"colab-df-container\">\n",
       "      <div>\n",
       "<style scoped>\n",
       "    .dataframe tbody tr th:only-of-type {\n",
       "        vertical-align: middle;\n",
       "    }\n",
       "\n",
       "    .dataframe tbody tr th {\n",
       "        vertical-align: top;\n",
       "    }\n",
       "\n",
       "    .dataframe thead th {\n",
       "        text-align: right;\n",
       "    }\n",
       "</style>\n",
       "<table border=\"1\" class=\"dataframe\">\n",
       "  <thead>\n",
       "    <tr style=\"text-align: right;\">\n",
       "      <th></th>\n",
       "      <th>movie id</th>\n",
       "      <th>movie title</th>\n",
       "      <th>release date</th>\n",
       "      <th>video release date</th>\n",
       "      <th>IMDb URL</th>\n",
       "      <th>unknown</th>\n",
       "      <th>Action</th>\n",
       "      <th>Adventure</th>\n",
       "      <th>Animation</th>\n",
       "      <th>Children</th>\n",
       "      <th>...</th>\n",
       "      <th>Fantasy</th>\n",
       "      <th>Film-Noir</th>\n",
       "      <th>Horror</th>\n",
       "      <th>Musical</th>\n",
       "      <th>Mystery</th>\n",
       "      <th>Romance</th>\n",
       "      <th>Sci-Fi</th>\n",
       "      <th>Thriller</th>\n",
       "      <th>War</th>\n",
       "      <th>Western</th>\n",
       "    </tr>\n",
       "  </thead>\n",
       "  <tbody>\n",
       "    <tr>\n",
       "      <th>301</th>\n",
       "      <td>302</td>\n",
       "      <td>L.A. Confidential (1997)</td>\n",
       "      <td>01-Jan-1997</td>\n",
       "      <td>NaN</td>\n",
       "      <td>http://us.imdb.com/M/title-exact?L%2EA%2E+Conf...</td>\n",
       "      <td>0</td>\n",
       "      <td>0</td>\n",
       "      <td>0</td>\n",
       "      <td>0</td>\n",
       "      <td>0</td>\n",
       "      <td>...</td>\n",
       "      <td>0</td>\n",
       "      <td>1</td>\n",
       "      <td>0</td>\n",
       "      <td>0</td>\n",
       "      <td>1</td>\n",
       "      <td>0</td>\n",
       "      <td>0</td>\n",
       "      <td>1</td>\n",
       "      <td>0</td>\n",
       "      <td>0</td>\n",
       "    </tr>\n",
       "  </tbody>\n",
       "</table>\n",
       "<p>1 rows × 24 columns</p>\n",
       "</div>\n",
       "      <button class=\"colab-df-convert\" onclick=\"convertToInteractive('df-849a61e7-8ec8-464f-b5dd-02e367d26058')\"\n",
       "              title=\"Convert this dataframe to an interactive table.\"\n",
       "              style=\"display:none;\">\n",
       "        \n",
       "  <svg xmlns=\"http://www.w3.org/2000/svg\" height=\"24px\"viewBox=\"0 0 24 24\"\n",
       "       width=\"24px\">\n",
       "    <path d=\"M0 0h24v24H0V0z\" fill=\"none\"/>\n",
       "    <path d=\"M18.56 5.44l.94 2.06.94-2.06 2.06-.94-2.06-.94-.94-2.06-.94 2.06-2.06.94zm-11 1L8.5 8.5l.94-2.06 2.06-.94-2.06-.94L8.5 2.5l-.94 2.06-2.06.94zm10 10l.94 2.06.94-2.06 2.06-.94-2.06-.94-.94-2.06-.94 2.06-2.06.94z\"/><path d=\"M17.41 7.96l-1.37-1.37c-.4-.4-.92-.59-1.43-.59-.52 0-1.04.2-1.43.59L10.3 9.45l-7.72 7.72c-.78.78-.78 2.05 0 2.83L4 21.41c.39.39.9.59 1.41.59.51 0 1.02-.2 1.41-.59l7.78-7.78 2.81-2.81c.8-.78.8-2.07 0-2.86zM5.41 20L4 18.59l7.72-7.72 1.47 1.35L5.41 20z\"/>\n",
       "  </svg>\n",
       "      </button>\n",
       "      \n",
       "  <style>\n",
       "    .colab-df-container {\n",
       "      display:flex;\n",
       "      flex-wrap:wrap;\n",
       "      gap: 12px;\n",
       "    }\n",
       "\n",
       "    .colab-df-convert {\n",
       "      background-color: #E8F0FE;\n",
       "      border: none;\n",
       "      border-radius: 50%;\n",
       "      cursor: pointer;\n",
       "      display: none;\n",
       "      fill: #1967D2;\n",
       "      height: 32px;\n",
       "      padding: 0 0 0 0;\n",
       "      width: 32px;\n",
       "    }\n",
       "\n",
       "    .colab-df-convert:hover {\n",
       "      background-color: #E2EBFA;\n",
       "      box-shadow: 0px 1px 2px rgba(60, 64, 67, 0.3), 0px 1px 3px 1px rgba(60, 64, 67, 0.15);\n",
       "      fill: #174EA6;\n",
       "    }\n",
       "\n",
       "    [theme=dark] .colab-df-convert {\n",
       "      background-color: #3B4455;\n",
       "      fill: #D2E3FC;\n",
       "    }\n",
       "\n",
       "    [theme=dark] .colab-df-convert:hover {\n",
       "      background-color: #434B5C;\n",
       "      box-shadow: 0px 1px 3px 1px rgba(0, 0, 0, 0.15);\n",
       "      filter: drop-shadow(0px 1px 2px rgba(0, 0, 0, 0.3));\n",
       "      fill: #FFFFFF;\n",
       "    }\n",
       "  </style>\n",
       "\n",
       "      <script>\n",
       "        const buttonEl =\n",
       "          document.querySelector('#df-849a61e7-8ec8-464f-b5dd-02e367d26058 button.colab-df-convert');\n",
       "        buttonEl.style.display =\n",
       "          google.colab.kernel.accessAllowed ? 'block' : 'none';\n",
       "\n",
       "        async function convertToInteractive(key) {\n",
       "          const element = document.querySelector('#df-849a61e7-8ec8-464f-b5dd-02e367d26058');\n",
       "          const dataTable =\n",
       "            await google.colab.kernel.invokeFunction('convertToInteractive',\n",
       "                                                     [key], {});\n",
       "          if (!dataTable) return;\n",
       "\n",
       "          const docLinkHtml = 'Like what you see? Visit the ' +\n",
       "            '<a target=\"_blank\" href=https://colab.research.google.com/notebooks/data_table.ipynb>data table notebook</a>'\n",
       "            + ' to learn more about interactive tables.';\n",
       "          element.innerHTML = '';\n",
       "          dataTable['output_type'] = 'display_data';\n",
       "          await google.colab.output.renderOutput(dataTable, element);\n",
       "          const docLink = document.createElement('div');\n",
       "          docLink.innerHTML = docLinkHtml;\n",
       "          element.appendChild(docLink);\n",
       "        }\n",
       "      </script>\n",
       "    </div>\n",
       "  </div>\n",
       "  "
      ],
      "text/plain": [
       "     movie id               movie title release date  video release date  \\\n",
       "301       302  L.A. Confidential (1997)  01-Jan-1997                 NaN   \n",
       "\n",
       "                                             IMDb URL   unknown  Action  \\\n",
       "301  http://us.imdb.com/M/title-exact?L%2EA%2E+Conf...        0       0   \n",
       "\n",
       "     Adventure  Animation  Children  ...  Fantasy  Film-Noir  Horror  Musical  \\\n",
       "301          0          0         0  ...        0          1       0        0   \n",
       "\n",
       "     Mystery  Romance  Sci-Fi  Thriller  War  Western  \n",
       "301        1        0       0         1    0        0  \n",
       "\n",
       "[1 rows x 24 columns]"
      ]
     },
     "execution_count": 32,
     "metadata": {},
     "output_type": "execute_result"
    }
   ],
   "source": [
    "items[items['movie id']==302]"
   ]
  },
  {
   "cell_type": "markdown",
   "id": "b0407551-31a8-48a5-a6f0-04b4242a4398",
   "metadata": {
    "id": "75RWLbA2a2BE"
   },
   "source": [
    "Como podemos ver, la predicción (4.24) del modelo no esta alejada de lo que realmente opinó el usuario  (4.0)\n",
    "\n",
    "Para medir la calidad de la predicción para todos los usuarios e items del dataset de prueba, vamos a comparar lo que dice el modelo de predicción vs lo que dice el conjunto de prueba, para esto vamos a usar la métrica [RMSE](https://surprise.readthedocs.io/en/stable/accuracy.html#surprise.accuracy.rmse)\n",
    "\n",
    "Inicialmente calculamos la predicción para todos los elementos del conjunto de test"
   ]
  },
  {
   "cell_type": "code",
   "execution_count": 48,
   "id": "b89a06a8-8757-4d4a-8eee-3eff5bd61ff6",
   "metadata": {
    "id": "xOl2ObNSIk8T"
   },
   "outputs": [],
   "source": [
    "test_predictions=algo.test(test_set)"
   ]
  },
  {
   "cell_type": "code",
   "execution_count": 49,
   "id": "895595f4-0956-4ad8-a267-1fd69c3e702d",
   "metadata": {
    "colab": {
     "base_uri": "https://localhost:8080/"
    },
    "id": "kRlvK_f2ZN7t",
    "outputId": "1b8089e2-71ef-449a-ecda-31ba01cd2047"
   },
   "outputs": [
    {
     "data": {
      "text/plain": [
       "[Prediction(uid=154, iid=302, r_ui=4.0, est=4.249202065377386, details={'actual_k': 20, 'was_impossible': False}),\n",
       " Prediction(uid=896, iid=484, r_ui=4.0, est=2.8976616922320964, details={'actual_k': 20, 'was_impossible': False}),\n",
       " Prediction(uid=230, iid=371, r_ui=4.0, est=4.1968378983432535, details={'actual_k': 20, 'was_impossible': False}),\n",
       " Prediction(uid=234, iid=294, r_ui=3.0, est=3.0978778071364186, details={'actual_k': 20, 'was_impossible': False}),\n",
       " Prediction(uid=25, iid=729, r_ui=4.0, est=4.148885433441103, details={'actual_k': 20, 'was_impossible': False})]"
      ]
     },
     "execution_count": 49,
     "metadata": {},
     "output_type": "execute_result"
    }
   ],
   "source": [
    "#5 primeras predicciones\n",
    "test_predictions[0:5]"
   ]
  },
  {
   "cell_type": "markdown",
   "id": "14a27d83-210c-4ddb-b8ef-01c34d13d3e2",
   "metadata": {
    "id": "yqgYbxzwe59D"
   },
   "source": [
    "Ahora se mide el RMSE de las predicciones vs el valor del dataset"
   ]
  },
  {
   "cell_type": "code",
   "execution_count": 50,
   "id": "0bbe3f95-830b-4cd4-86e4-169ff668a70c",
   "metadata": {
    "colab": {
     "base_uri": "https://localhost:8080/"
    },
    "id": "RDK_8jlUeyVL",
    "outputId": "ca53358d-0e8b-4f48-b622-c96ab657bd00"
   },
   "outputs": [
    {
     "name": "stdout",
     "output_type": "stream",
     "text": [
      "RMSE: 1.0453\n"
     ]
    },
    {
     "data": {
      "text/plain": [
       "1.0453343976192102"
      ]
     },
     "execution_count": 50,
     "metadata": {},
     "output_type": "execute_result"
    }
   ],
   "source": [
    "# En promedio, el sistema encuentra ratings que estan una estrella por encima o por debajo del rating del usuario\n",
    "accuracy.rmse( test_predictions, verbose = True )"
   ]
  },
  {
   "cell_type": "markdown",
   "id": "edd451f6-fd60-4957-a346-2839ac31093e",
   "metadata": {
    "id": "Ge8msMcPgFwy"
   },
   "source": [
    "##Utilice las siguientes celdas para encontrar la respuesta a las siguientes preguntas\n",
    "\n",
    "¿Cuál es el RMSE de un modelo usuario-usuario con los mismos parámetros de similitud?\n",
    "\n",
    "¿Cuál es el efecto de cambiar el número de vecinos en la calidad del modelo usuario-usuario ?"
   ]
  },
  {
   "cell_type": "code",
   "execution_count": 51,
   "id": "05db7707-3961-421c-b680-06022e49ef26",
   "metadata": {
    "id": "0Eb-sHBnfw8b"
   },
   "outputs": [],
   "source": [
    "# se crea un modelo knnbasic user-user con similitud coseno \n",
    "sim_options = {'name': 'cosine',\n",
    "               'user_based': True  # calcule similitud user-user\n",
    "               }\n",
    "algo = KNNBasic(k=20, min_k=2, sim_options=sim_options)"
   ]
  },
  {
   "cell_type": "code",
   "execution_count": 52,
   "id": "5bb63726-d032-4293-b24d-03c188fd20c2",
   "metadata": {
    "colab": {
     "base_uri": "https://localhost:8080/"
    },
    "id": "RgE2Oib_gYuK",
    "outputId": "50e29b9c-b131-4251-ba37-4e2e0a120208"
   },
   "outputs": [
    {
     "name": "stdout",
     "output_type": "stream",
     "text": [
      "Computing the cosine similarity matrix...\n",
      "Done computing similarity matrix.\n"
     ]
    },
    {
     "data": {
      "text/plain": [
       "<surprise.prediction_algorithms.knns.KNNBasic at 0x7fcf9b3da700>"
      ]
     },
     "execution_count": 52,
     "metadata": {},
     "output_type": "execute_result"
    }
   ],
   "source": [
    "#Se le pasa la matriz de utilidad al algoritmo \n",
    "algo.fit(trainset=train_set)"
   ]
  },
  {
   "cell_type": "code",
   "execution_count": 53,
   "id": "b2bba080-bd5c-4b63-af41-bffecedcdbb6",
   "metadata": {
    "id": "iATleq-E7Nd4"
   },
   "outputs": [],
   "source": [
    "test_predictions=algo.test(test_set)"
   ]
  },
  {
   "cell_type": "code",
   "execution_count": 65,
   "id": "796ca46c-5ac3-452e-b645-71b6f0df65ae",
   "metadata": {
    "colab": {
     "base_uri": "https://localhost:8080/"
    },
    "id": "ucz30dLq7SXL",
    "outputId": "762ec165-d399-4107-b82d-10a9e7cd7a9a"
   },
   "outputs": [
    {
     "data": {
      "text/plain": [
       "[Prediction(uid=154, iid=302, r_ui=4.0, est=4.35, details={'actual_k': 20, 'was_impossible': False}),\n",
       " Prediction(uid=896, iid=484, r_ui=4.0, est=4.350586293776335, details={'actual_k': 20, 'was_impossible': False}),\n",
       " Prediction(uid=230, iid=371, r_ui=4.0, est=3.607980194649977, details={'actual_k': 20, 'was_impossible': False}),\n",
       " Prediction(uid=234, iid=294, r_ui=3.0, est=3.6497107625654204, details={'actual_k': 20, 'was_impossible': False}),\n",
       " Prediction(uid=25, iid=729, r_ui=4.0, est=3.8002893050257525, details={'actual_k': 20, 'was_impossible': False})]"
      ]
     },
     "execution_count": 65,
     "metadata": {},
     "output_type": "execute_result"
    }
   ],
   "source": [
    "#5 primeras predicciones\n",
    "test_predictions[0:5]"
   ]
  },
  {
   "cell_type": "code",
   "execution_count": 66,
   "id": "c77fcca2-ec36-48f5-9563-27ced1d9a21f",
   "metadata": {
    "colab": {
     "base_uri": "https://localhost:8080/"
    },
    "id": "4c2k7RKO7TdH",
    "outputId": "4c43dcf0-7bca-44bf-fb82-c10591d01fd8"
   },
   "outputs": [
    {
     "name": "stdout",
     "output_type": "stream",
     "text": [
      "RMSE: 1.0166\n"
     ]
    },
    {
     "data": {
      "text/plain": [
       "1.0166414414593592"
      ]
     },
     "execution_count": 66,
     "metadata": {},
     "output_type": "execute_result"
    }
   ],
   "source": [
    "# En promedio, el sistema encuentra ratings que estan una estrella por encima o por debajo del rating del usuario\n",
    "accuracy.rmse( test_predictions, verbose = True )"
   ]
  },
  {
   "cell_type": "code",
   "execution_count": 67,
   "id": "2663189c-7f97-4258-addc-0471c01f62d9",
   "metadata": {
    "colab": {
     "base_uri": "https://localhost:8080/"
    },
    "id": "phkiq1qxJrvI",
    "outputId": "cd8e2d22-a806-4e65-c917-6a8c4a4d684d"
   },
   "outputs": [
    {
     "name": "stdout",
     "output_type": "stream",
     "text": [
      "Computing the cosine similarity matrix...\n",
      "Done computing similarity matrix.\n",
      "RMSE: 1.0386\n"
     ]
    },
    {
     "data": {
      "text/plain": [
       "1.0385724992200804"
      ]
     },
     "execution_count": 67,
     "metadata": {},
     "output_type": "execute_result"
    }
   ],
   "source": [
    "# se crea un modelo knnbasic user-user con similitud coseno \n",
    "sim_options = {'name': 'cosine',\n",
    "               'user_based': True  # calcule similitud user-user\n",
    "               }\n",
    "algo = KNNBasic(k=10, min_k=2, sim_options=sim_options)\n",
    "#Se le pasa la matriz de utilidad al algoritmo \n",
    "algo.fit(trainset=train_set)\n",
    "test_predictions=algo.test(test_set)\n",
    "#5 primeras predicciones\n",
    "test_predictions[0:5]\n",
    "# En promedio, el sistema encuentra ratings que estan una estrella por encima o por debajo del rating del usuario\n",
    "accuracy.rmse( test_predictions, verbose = True )"
   ]
  },
  {
   "cell_type": "code",
   "execution_count": 68,
   "id": "edcdeda5-0bb0-40f6-b7fc-3287a10069bd",
   "metadata": {
    "colab": {
     "base_uri": "https://localhost:8080/"
    },
    "id": "cuhpYHceKR8r",
    "outputId": "6eed7fc1-983c-470e-95d9-636ef7b8d93e"
   },
   "outputs": [
    {
     "name": "stdout",
     "output_type": "stream",
     "text": [
      "Computing the cosine similarity matrix...\n",
      "Done computing similarity matrix.\n",
      "RMSE: 1.0839\n"
     ]
    },
    {
     "data": {
      "text/plain": [
       "1.0838620997926653"
      ]
     },
     "execution_count": 68,
     "metadata": {},
     "output_type": "execute_result"
    }
   ],
   "source": [
    "# se crea un modelo knnbasic user-user con similitud coseno \n",
    "sim_options = {'name': 'cosine',\n",
    "               'user_based': True  # calcule similitud user-user\n",
    "               }\n",
    "algo = KNNBasic(k=5, min_k=2, sim_options=sim_options)\n",
    "#Se le pasa la matriz de utilidad al algoritmo \n",
    "algo.fit(trainset=train_set)\n",
    "test_predictions=algo.test(test_set)\n",
    "#5 primeras predicciones\n",
    "test_predictions[0:5]\n",
    "# En promedio, el sistema encuentra ratings que estan una estrella por encima o por debajo del rating del usuario\n",
    "accuracy.rmse( test_predictions, verbose = True )"
   ]
  },
  {
   "cell_type": "code",
   "execution_count": 69,
   "id": "c3594a3b-09fc-400f-96de-d0a563eb62ac",
   "metadata": {
    "colab": {
     "base_uri": "https://localhost:8080/"
    },
    "id": "e14PWLfSLuDD",
    "outputId": "5e4ca510-007a-41c2-8847-82379d15cc95"
   },
   "outputs": [
    {
     "name": "stdout",
     "output_type": "stream",
     "text": [
      "Computing the cosine similarity matrix...\n",
      "Done computing similarity matrix.\n",
      "RMSE: 1.0101\n"
     ]
    },
    {
     "data": {
      "text/plain": [
       "1.0100769609066584"
      ]
     },
     "execution_count": 69,
     "metadata": {},
     "output_type": "execute_result"
    }
   ],
   "source": [
    "# se crea un modelo knnbasic user-user con similitud coseno \n",
    "sim_options = {'name': 'cosine',\n",
    "               'user_based': True  # calcule similitud user-user\n",
    "               }\n",
    "algo = KNNBasic(k=35, min_k=2, sim_options=sim_options)\n",
    "#Se le pasa la matriz de utilidad al algoritmo \n",
    "algo.fit(trainset=train_set)\n",
    "test_predictions=algo.test(test_set)\n",
    "#5 primeras predicciones\n",
    "test_predictions[0:5]\n",
    "# En promedio, el sistema encuentra ratings que estan una estrella por encima o por debajo del rating del usuario\n",
    "accuracy.rmse( test_predictions, verbose = True )"
   ]
  },
  {
   "cell_type": "markdown",
   "id": "3565fcd4-de7a-4131-8a81-f4a1760d8d83",
   "metadata": {
    "id": "ZqMr2MlbkJch"
   },
   "source": [
    "##Generando listas de predicciones para los usuarios\n",
    "\n",
    "Retomemos nuestro modelo inicial y ajustémolo con todos los ratings disponibles\n",
    "\n",
    "Para generar una lista de recomendación se debe crear un dataset de \"test\" con las entradas faltantes de la matriz utilidad para que el modelo cree las predicciones (terminar de llenar la matriz de utilidad)\n",
    "\n"
   ]
  },
  {
   "cell_type": "code",
   "execution_count": 70,
   "id": "69d8c3f5-07d9-4c35-8116-2ec28ca77f95",
   "metadata": {
    "colab": {
     "base_uri": "https://localhost:8080/"
    },
    "id": "EyI72VBK7tVP",
    "outputId": "eeb1d84e-e2b0-4f0d-bb09-8f82520f8c82"
   },
   "outputs": [
    {
     "data": {
      "text/plain": [
       "<surprise.trainset.Trainset at 0x7fcffdfe0f10>"
      ]
     },
     "execution_count": 70,
     "metadata": {},
     "output_type": "execute_result"
    }
   ],
   "source": [
    "surprise_dataset.build_full_trainset()"
   ]
  },
  {
   "cell_type": "code",
   "execution_count": 71,
   "id": "ea16d7cb-eb5d-44d5-bf2a-c96754a9acfc",
   "metadata": {
    "colab": {
     "base_uri": "https://localhost:8080/"
    },
    "id": "y0ZYsiPXktjg",
    "outputId": "9de4e469-6e29-4e8b-a3d2-bf6cb801df27"
   },
   "outputs": [
    {
     "name": "stdout",
     "output_type": "stream",
     "text": [
      "Computing the cosine similarity matrix...\n",
      "Done computing similarity matrix.\n"
     ]
    }
   ],
   "source": [
    "#Se crea el dataset para modelo \n",
    "rating_data=surprise_dataset.build_full_trainset()\n",
    "# Se crea dataset de \"prueba\" con las entradas faltantes para generar las predicciones\n",
    "test=rating_data.build_anti_testset()\n",
    "\n",
    "# se crea el mismo modelo que el del ejemplo\n",
    "sim_options = {'name': 'cosine',\n",
    "               'user_based': False  # calcule similitud item-item\n",
    "               }\n",
    "algo = KNNBasic(k=20, min_k=2, sim_options=sim_options)\n",
    "algo.fit(rating_data)\n",
    "predictions=algo.test(test)"
   ]
  },
  {
   "cell_type": "code",
   "execution_count": 72,
   "id": "70be39c3-e911-4772-95d2-a9582675c2d8",
   "metadata": {
    "colab": {
     "base_uri": "https://localhost:8080/"
    },
    "id": "eH2O_3iFsR6e",
    "outputId": "6c2bc9e8-7434-48cd-ef76-4908eb33f29d"
   },
   "outputs": [
    {
     "data": {
      "text/plain": [
       "[Prediction(uid=196, iid=302, r_ui=3.52986, est=3.4998074068929244, details={'actual_k': 20, 'was_impossible': False}),\n",
       " Prediction(uid=196, iid=377, r_ui=3.52986, est=3.531852919263047, details={'actual_k': 20, 'was_impossible': False}),\n",
       " Prediction(uid=196, iid=51, r_ui=3.52986, est=3.59549677885145, details={'actual_k': 20, 'was_impossible': False}),\n",
       " Prediction(uid=196, iid=346, r_ui=3.52986, est=3.5471070543165877, details={'actual_k': 20, 'was_impossible': False}),\n",
       " Prediction(uid=196, iid=474, r_ui=3.52986, est=3.7990088769026116, details={'actual_k': 20, 'was_impossible': False}),\n",
       " Prediction(uid=196, iid=265, r_ui=3.52986, est=3.4464297466659812, details={'actual_k': 20, 'was_impossible': False}),\n",
       " Prediction(uid=196, iid=465, r_ui=3.52986, est=3.5022156502733557, details={'actual_k': 20, 'was_impossible': False}),\n",
       " Prediction(uid=196, iid=451, r_ui=3.52986, est=3.6948301041629965, details={'actual_k': 20, 'was_impossible': False}),\n",
       " Prediction(uid=196, iid=86, r_ui=3.52986, est=3.750152492406962, details={'actual_k': 20, 'was_impossible': False}),\n",
       " Prediction(uid=196, iid=1014, r_ui=3.52986, est=3.345072753258412, details={'actual_k': 20, 'was_impossible': False})]"
      ]
     },
     "execution_count": 72,
     "metadata": {},
     "output_type": "execute_result"
    }
   ],
   "source": [
    "#10 primeras predicciones\n",
    "predictions[0:10]"
   ]
  },
  {
   "cell_type": "code",
   "execution_count": 73,
   "id": "344e3fd7-895d-4cc2-9836-9cef4f8d1410",
   "metadata": {
    "id": "Bd8lOnRXpPBm"
   },
   "outputs": [],
   "source": [
    "#Predicciones para usuario 196\n",
    "user_predictions=list(filter(lambda x: x[0]==196,predictions))"
   ]
  },
  {
   "cell_type": "code",
   "execution_count": 74,
   "id": "c4d9e860-d388-4cbd-9668-eb512acfe471",
   "metadata": {
    "id": "NIQAuEo4rHA2"
   },
   "outputs": [],
   "source": [
    "#Ordenamos de mayor a menor estimación de relevancia\n",
    "user_predictions.sort(key=lambda x : x.est, reverse=True)"
   ]
  },
  {
   "cell_type": "code",
   "execution_count": 75,
   "id": "89db501f-4e5a-450b-931a-08b7511c2344",
   "metadata": {
    "id": "GmcwrOJ-sy9G"
   },
   "outputs": [],
   "source": [
    "#tomamos las 10 primeras predicciones\n",
    "user_predictions=user_predictions[0:10]"
   ]
  },
  {
   "cell_type": "code",
   "execution_count": 76,
   "id": "76f58cdf-da79-43ab-af2c-66e0e4617a4d",
   "metadata": {
    "colab": {
     "base_uri": "https://localhost:8080/"
    },
    "id": "FFaVRp3dtBZF",
    "outputId": "af550a5d-1613-474b-dc3b-7e4158cfe173"
   },
   "outputs": [
    {
     "data": {
      "text/plain": [
       "[Prediction(uid=196, iid=1309, r_ui=3.52986, est=4.5, details={'actual_k': 4, 'was_impossible': False}),\n",
       " Prediction(uid=196, iid=1310, r_ui=3.52986, est=4.5, details={'actual_k': 4, 'was_impossible': False}),\n",
       " Prediction(uid=196, iid=1676, r_ui=3.52986, est=4.25, details={'actual_k': 8, 'was_impossible': False}),\n",
       " Prediction(uid=196, iid=1675, r_ui=3.52986, est=4.25, details={'actual_k': 8, 'was_impossible': False}),\n",
       " Prediction(uid=196, iid=1289, r_ui=3.52986, est=4.202435603862276, details={'actual_k': 20, 'was_impossible': False}),\n",
       " Prediction(uid=196, iid=1643, r_ui=3.52986, est=4.097225899300029, details={'actual_k': 20, 'was_impossible': False}),\n",
       " Prediction(uid=196, iid=1593, r_ui=3.52986, est=4.090909090909091, details={'actual_k': 11, 'was_impossible': False}),\n",
       " Prediction(uid=196, iid=935, r_ui=3.52986, est=4.05136705364539, details={'actual_k': 20, 'was_impossible': False}),\n",
       " Prediction(uid=196, iid=1216, r_ui=3.52986, est=4.0506920732628675, details={'actual_k': 20, 'was_impossible': False}),\n",
       " Prediction(uid=196, iid=1312, r_ui=3.52986, est=4.049246841254085, details={'actual_k': 20, 'was_impossible': False})]"
      ]
     },
     "execution_count": 76,
     "metadata": {},
     "output_type": "execute_result"
    }
   ],
   "source": [
    "user_predictions"
   ]
  },
  {
   "cell_type": "code",
   "execution_count": 77,
   "id": "06d4833a-5901-4d51-a16f-480662168a02",
   "metadata": {
    "id": "7kRPNGHEtcux"
   },
   "outputs": [],
   "source": [
    "#Se convierte a dataframe\n",
    "labels = ['movie id', 'estimation']\n",
    "df_predictions = pd.DataFrame.from_records(list(map(lambda x: (x.iid, x.est) , user_predictions)), columns=labels)"
   ]
  },
  {
   "cell_type": "code",
   "execution_count": 78,
   "id": "9f11d1a2-1310-4d8e-9cf1-293e7728c14f",
   "metadata": {
    "colab": {
     "base_uri": "https://localhost:8080/",
     "height": 363
    },
    "id": "YvWQuyJGuaGV",
    "outputId": "f830e9ef-f6f5-49b1-edd3-3ea6f988f923"
   },
   "outputs": [
    {
     "data": {
      "text/html": [
       "\n",
       "  <div id=\"df-cdd671b0-12a4-4c1c-a94e-7cd79073b576\">\n",
       "    <div class=\"colab-df-container\">\n",
       "      <div>\n",
       "<style scoped>\n",
       "    .dataframe tbody tr th:only-of-type {\n",
       "        vertical-align: middle;\n",
       "    }\n",
       "\n",
       "    .dataframe tbody tr th {\n",
       "        vertical-align: top;\n",
       "    }\n",
       "\n",
       "    .dataframe thead th {\n",
       "        text-align: right;\n",
       "    }\n",
       "</style>\n",
       "<table border=\"1\" class=\"dataframe\">\n",
       "  <thead>\n",
       "    <tr style=\"text-align: right;\">\n",
       "      <th></th>\n",
       "      <th>movie id</th>\n",
       "      <th>estimation</th>\n",
       "      <th>movie title</th>\n",
       "      <th>IMDb URL</th>\n",
       "    </tr>\n",
       "  </thead>\n",
       "  <tbody>\n",
       "    <tr>\n",
       "      <th>0</th>\n",
       "      <td>1309</td>\n",
       "      <td>4.500000</td>\n",
       "      <td>Very Natural Thing, A (1974)</td>\n",
       "      <td>http://us.imdb.com/M/title-exact?Very%20Natura...</td>\n",
       "    </tr>\n",
       "    <tr>\n",
       "      <th>1</th>\n",
       "      <td>1310</td>\n",
       "      <td>4.500000</td>\n",
       "      <td>Walk in the Sun, A (1945)</td>\n",
       "      <td>http://us.imdb.com/M/title-exact?Walk%20in%20t...</td>\n",
       "    </tr>\n",
       "    <tr>\n",
       "      <th>2</th>\n",
       "      <td>1676</td>\n",
       "      <td>4.250000</td>\n",
       "      <td>War at Home, The (1996)</td>\n",
       "      <td>http://us.imdb.com/M/title-exact?War%20at%20Ho...</td>\n",
       "    </tr>\n",
       "    <tr>\n",
       "      <th>3</th>\n",
       "      <td>1675</td>\n",
       "      <td>4.250000</td>\n",
       "      <td>Sunchaser, The (1996)</td>\n",
       "      <td>http://us.imdb.com/M/title-exact?Sunchaser,%20...</td>\n",
       "    </tr>\n",
       "    <tr>\n",
       "      <th>4</th>\n",
       "      <td>1289</td>\n",
       "      <td>4.202436</td>\n",
       "      <td>Jack and Sarah (1995)</td>\n",
       "      <td>http://us.imdb.com/M/title-exact?Jack%20and%20...</td>\n",
       "    </tr>\n",
       "    <tr>\n",
       "      <th>5</th>\n",
       "      <td>1643</td>\n",
       "      <td>4.097226</td>\n",
       "      <td>Angel Baby (1995)</td>\n",
       "      <td>http://us.imdb.com/Title?Angel+Baby+(1995/I)</td>\n",
       "    </tr>\n",
       "    <tr>\n",
       "      <th>6</th>\n",
       "      <td>1593</td>\n",
       "      <td>4.090909</td>\n",
       "      <td>Death in Brunswick (1991)</td>\n",
       "      <td>http://us.imdb.com/M/title-exact?Death%20in%20...</td>\n",
       "    </tr>\n",
       "    <tr>\n",
       "      <th>7</th>\n",
       "      <td>935</td>\n",
       "      <td>4.051367</td>\n",
       "      <td>Paradise Road (1997)</td>\n",
       "      <td>http://us.imdb.com/M/title-exact?Paradise%20Ro...</td>\n",
       "    </tr>\n",
       "    <tr>\n",
       "      <th>8</th>\n",
       "      <td>1216</td>\n",
       "      <td>4.050692</td>\n",
       "      <td>Kissed (1996)</td>\n",
       "      <td>http://us.imdb.com/M/title-exact?Kissed%20%281...</td>\n",
       "    </tr>\n",
       "    <tr>\n",
       "      <th>9</th>\n",
       "      <td>1312</td>\n",
       "      <td>4.049247</td>\n",
       "      <td>Pompatus of Love, The (1996)</td>\n",
       "      <td>http://us.imdb.com/M/title-exact?Pompatus%20of...</td>\n",
       "    </tr>\n",
       "  </tbody>\n",
       "</table>\n",
       "</div>\n",
       "      <button class=\"colab-df-convert\" onclick=\"convertToInteractive('df-cdd671b0-12a4-4c1c-a94e-7cd79073b576')\"\n",
       "              title=\"Convert this dataframe to an interactive table.\"\n",
       "              style=\"display:none;\">\n",
       "        \n",
       "  <svg xmlns=\"http://www.w3.org/2000/svg\" height=\"24px\"viewBox=\"0 0 24 24\"\n",
       "       width=\"24px\">\n",
       "    <path d=\"M0 0h24v24H0V0z\" fill=\"none\"/>\n",
       "    <path d=\"M18.56 5.44l.94 2.06.94-2.06 2.06-.94-2.06-.94-.94-2.06-.94 2.06-2.06.94zm-11 1L8.5 8.5l.94-2.06 2.06-.94-2.06-.94L8.5 2.5l-.94 2.06-2.06.94zm10 10l.94 2.06.94-2.06 2.06-.94-2.06-.94-.94-2.06-.94 2.06-2.06.94z\"/><path d=\"M17.41 7.96l-1.37-1.37c-.4-.4-.92-.59-1.43-.59-.52 0-1.04.2-1.43.59L10.3 9.45l-7.72 7.72c-.78.78-.78 2.05 0 2.83L4 21.41c.39.39.9.59 1.41.59.51 0 1.02-.2 1.41-.59l7.78-7.78 2.81-2.81c.8-.78.8-2.07 0-2.86zM5.41 20L4 18.59l7.72-7.72 1.47 1.35L5.41 20z\"/>\n",
       "  </svg>\n",
       "      </button>\n",
       "      \n",
       "  <style>\n",
       "    .colab-df-container {\n",
       "      display:flex;\n",
       "      flex-wrap:wrap;\n",
       "      gap: 12px;\n",
       "    }\n",
       "\n",
       "    .colab-df-convert {\n",
       "      background-color: #E8F0FE;\n",
       "      border: none;\n",
       "      border-radius: 50%;\n",
       "      cursor: pointer;\n",
       "      display: none;\n",
       "      fill: #1967D2;\n",
       "      height: 32px;\n",
       "      padding: 0 0 0 0;\n",
       "      width: 32px;\n",
       "    }\n",
       "\n",
       "    .colab-df-convert:hover {\n",
       "      background-color: #E2EBFA;\n",
       "      box-shadow: 0px 1px 2px rgba(60, 64, 67, 0.3), 0px 1px 3px 1px rgba(60, 64, 67, 0.15);\n",
       "      fill: #174EA6;\n",
       "    }\n",
       "\n",
       "    [theme=dark] .colab-df-convert {\n",
       "      background-color: #3B4455;\n",
       "      fill: #D2E3FC;\n",
       "    }\n",
       "\n",
       "    [theme=dark] .colab-df-convert:hover {\n",
       "      background-color: #434B5C;\n",
       "      box-shadow: 0px 1px 3px 1px rgba(0, 0, 0, 0.15);\n",
       "      filter: drop-shadow(0px 1px 2px rgba(0, 0, 0, 0.3));\n",
       "      fill: #FFFFFF;\n",
       "    }\n",
       "  </style>\n",
       "\n",
       "      <script>\n",
       "        const buttonEl =\n",
       "          document.querySelector('#df-cdd671b0-12a4-4c1c-a94e-7cd79073b576 button.colab-df-convert');\n",
       "        buttonEl.style.display =\n",
       "          google.colab.kernel.accessAllowed ? 'block' : 'none';\n",
       "\n",
       "        async function convertToInteractive(key) {\n",
       "          const element = document.querySelector('#df-cdd671b0-12a4-4c1c-a94e-7cd79073b576');\n",
       "          const dataTable =\n",
       "            await google.colab.kernel.invokeFunction('convertToInteractive',\n",
       "                                                     [key], {});\n",
       "          if (!dataTable) return;\n",
       "\n",
       "          const docLinkHtml = 'Like what you see? Visit the ' +\n",
       "            '<a target=\"_blank\" href=https://colab.research.google.com/notebooks/data_table.ipynb>data table notebook</a>'\n",
       "            + ' to learn more about interactive tables.';\n",
       "          element.innerHTML = '';\n",
       "          dataTable['output_type'] = 'display_data';\n",
       "          await google.colab.output.renderOutput(dataTable, element);\n",
       "          const docLink = document.createElement('div');\n",
       "          docLink.innerHTML = docLinkHtml;\n",
       "          element.appendChild(docLink);\n",
       "        }\n",
       "      </script>\n",
       "    </div>\n",
       "  </div>\n",
       "  "
      ],
      "text/plain": [
       "   movie id  estimation                   movie title  \\\n",
       "0      1309    4.500000  Very Natural Thing, A (1974)   \n",
       "1      1310    4.500000     Walk in the Sun, A (1945)   \n",
       "2      1676    4.250000       War at Home, The (1996)   \n",
       "3      1675    4.250000         Sunchaser, The (1996)   \n",
       "4      1289    4.202436         Jack and Sarah (1995)   \n",
       "5      1643    4.097226             Angel Baby (1995)   \n",
       "6      1593    4.090909     Death in Brunswick (1991)   \n",
       "7       935    4.051367          Paradise Road (1997)   \n",
       "8      1216    4.050692                 Kissed (1996)   \n",
       "9      1312    4.049247  Pompatus of Love, The (1996)   \n",
       "\n",
       "                                           IMDb URL   \n",
       "0  http://us.imdb.com/M/title-exact?Very%20Natura...  \n",
       "1  http://us.imdb.com/M/title-exact?Walk%20in%20t...  \n",
       "2  http://us.imdb.com/M/title-exact?War%20at%20Ho...  \n",
       "3  http://us.imdb.com/M/title-exact?Sunchaser,%20...  \n",
       "4  http://us.imdb.com/M/title-exact?Jack%20and%20...  \n",
       "5       http://us.imdb.com/Title?Angel+Baby+(1995/I)  \n",
       "6  http://us.imdb.com/M/title-exact?Death%20in%20...  \n",
       "7  http://us.imdb.com/M/title-exact?Paradise%20Ro...  \n",
       "8  http://us.imdb.com/M/title-exact?Kissed%20%281...  \n",
       "9  http://us.imdb.com/M/title-exact?Pompatus%20of...  "
      ]
     },
     "execution_count": 78,
     "metadata": {},
     "output_type": "execute_result"
    }
   ],
   "source": [
    "#Lo unimos con el dataframe de películas\n",
    "df_predictions.merge(items[['movie id','movie title','IMDb URL ']], how='left', on='movie id')"
   ]
  },
  {
   "cell_type": "markdown",
   "id": "d37f4266-97bf-47a2-9935-3d2fda89777d",
   "metadata": {
    "execution": {
     "iopub.execute_input": "2023-02-24T19:14:30.432166Z",
     "iopub.status.busy": "2023-02-24T19:14:30.431043Z",
     "iopub.status.idle": "2023-02-24T19:14:30.464999Z",
     "shell.execute_reply": "2023-02-24T19:14:30.460485Z",
     "shell.execute_reply.started": "2023-02-24T19:14:30.432134Z"
    },
    "jp-MarkdownHeadingCollapsed": true,
    "tags": []
   },
   "source": [
    "# **Modelo de recomendación**\n",
    "Generamos dos modelos de recomendación, uno item-item y otro user-user"
   ]
  },
  {
   "cell_type": "code",
   "execution_count": null,
   "id": "a1e5d155-1c65-49b5-9046-388f2e688a81",
   "metadata": {},
   "outputs": [],
   "source": [
    "# EXPORTAMOS EL MODELO: \n",
    "# Usamos la libreria joblib.\n",
    "filename = 'logistic_model.joblib'\n",
    "# Se guarda\n",
    "dump(final_model, filename) "
   ]
  }
 ],
 "metadata": {
  "colab": {
   "collapsed_sections": [],
   "name": "Lab1_ee.ortiz_mc.parrad_sj.zona.ipynb",
   "provenance": []
  },
  "gist": {
   "data": {
    "description": "OneDrive/OneDrive - Universidad de los Andes/Universidad/Semestres/09. Noveno semestre/Sistemas de recomendación/Talleres/Taller 1/Solución/Taller1_SR_202310/notebooks/Taller1_data_analysis.ipynb",
    "public": false
   },
   "id": ""
  },
  "kernelspec": {
   "display_name": "Python 3 (ipykernel)",
   "language": "python",
   "name": "python3"
  },
  "language_info": {
   "codemirror_mode": {
    "name": "ipython",
    "version": 3
   },
   "file_extension": ".py",
   "mimetype": "text/x-python",
   "name": "python",
   "nbconvert_exporter": "python",
   "pygments_lexer": "ipython3",
   "version": "3.9.15"
  },
  "toc": {
   "base_numbering": 1,
   "nav_menu": {},
   "number_sections": true,
   "sideBar": true,
   "skip_h1_title": false,
   "title_cell": "Table of Contents",
   "title_sidebar": "Contents",
   "toc_cell": false,
   "toc_position": {
    "height": "calc(100% - 180px)",
    "left": "10px",
    "top": "150px",
    "width": "303.837px"
   },
   "toc_section_display": true,
   "toc_window_display": true
  },
  "varInspector": {
   "cols": {
    "lenName": 16,
    "lenType": 16,
    "lenVar": 40
   },
   "kernels_config": {
    "python": {
     "delete_cmd_postfix": "",
     "delete_cmd_prefix": "del ",
     "library": "var_list.py",
     "varRefreshCmd": "print(var_dic_list())"
    },
    "r": {
     "delete_cmd_postfix": ") ",
     "delete_cmd_prefix": "rm(",
     "library": "var_list.r",
     "varRefreshCmd": "cat(var_dic_list()) "
    }
   },
   "types_to_exclude": [
    "module",
    "function",
    "builtin_function_or_method",
    "instance",
    "_Feature"
   ],
   "window_display": false
  }
 },
 "nbformat": 4,
 "nbformat_minor": 5
}
