{
 "cells": [
  {
   "cell_type": "markdown",
   "id": "98c8b70c-91ef-43ad-92e0-0e38be745c28",
   "metadata": {
    "id": "497T5nW-MzMF",
    "tags": []
   },
   "source": [
    "# **Taller 1**\n",
    "### **Integrantes:**\n",
    "* Diego Felipe Carvajal Lombo (201911910)\n",
    "* Brenda Catalina Barahona Pinilla (201812721)\n",
    "* Sergio Julian Zona Moreno (201914936)"
   ]
  },
  {
   "cell_type": "markdown",
   "id": "bc103ddf-9cf6-4a77-a845-40cb38d04039",
   "metadata": {},
   "source": [
    "# **Carga y muestreo de los datos**"
   ]
  },
  {
   "cell_type": "code",
   "execution_count": 3,
   "id": "0e68c6ad-2a15-424b-937f-c96e98ff6b08",
   "metadata": {
    "ExecuteTime": {
     "end_time": "2023-02-10T03:40:59.672027Z",
     "start_time": "2023-02-10T03:40:59.660012Z"
    },
    "execution": {
     "iopub.execute_input": "2023-02-28T01:06:46.841444Z",
     "iopub.status.busy": "2023-02-28T01:06:46.839958Z",
     "iopub.status.idle": "2023-02-28T01:06:46.846376Z",
     "shell.execute_reply": "2023-02-28T01:06:46.845615Z",
     "shell.execute_reply.started": "2023-02-28T01:06:46.841403Z"
    },
    "id": "0e68c6ad-2a15-424b-937f-c96e98ff6b08",
    "tags": []
   },
   "outputs": [],
   "source": [
    "# Importación de librerias\n",
    "seed = 161\n",
    "import pandas as pd\n",
    "import numpy as np\n",
    "\n",
    "# Se importa la librería de tiempo para medir cuánto se demora en encontrar los hiperparámetros con cada modelo.\n",
    "import time\n",
    "import math\n",
    "\n",
    "# Librerias CUDA\n",
    "import cudf\n",
    "#cudf.set_option(\"spill\", True)\n",
    "\n",
    "# Database\n",
    "import sqlite3\n",
    "\n",
    "# Gráficos\n",
    "import matplotlib.pyplot as plt\n",
    "\n",
    "# Importar/Exportar modelos\n",
    "from joblib import dump, load"
   ]
  },
  {
   "cell_type": "code",
   "execution_count": 4,
   "id": "42cea7c9-cd26-4b11-b811-87ab36532cd4",
   "metadata": {
    "execution": {
     "iopub.execute_input": "2023-02-28T01:06:48.850746Z",
     "iopub.status.busy": "2023-02-28T01:06:48.850333Z",
     "iopub.status.idle": "2023-02-28T01:06:49.056370Z",
     "shell.execute_reply": "2023-02-28T01:06:49.055643Z",
     "shell.execute_reply.started": "2023-02-28T01:06:48.850728Z"
    },
    "tags": []
   },
   "outputs": [
    {
     "name": "stdout",
     "output_type": "stream",
     "text": [
      "Mon Feb 27 20:06:48 2023       \n",
      "+-----------------------------------------------------------------------------+\n",
      "| NVIDIA-SMI 525.89.02    Driver Version: 528.49       CUDA Version: 12.0     |\n",
      "|-------------------------------+----------------------+----------------------+\n",
      "| GPU  Name        Persistence-M| Bus-Id        Disp.A | Volatile Uncorr. ECC |\n",
      "| Fan  Temp  Perf  Pwr:Usage/Cap|         Memory-Usage | GPU-Util  Compute M. |\n",
      "|                               |                      |               MIG M. |\n",
      "|===============================+======================+======================|\n",
      "|   0  NVIDIA GeForce ...  On   | 00000000:01:00.0 Off |                  N/A |\n",
      "| N/A   61C    P8    14W / 115W |    168MiB /  6144MiB |      5%      Default |\n",
      "|                               |                      |                  N/A |\n",
      "+-------------------------------+----------------------+----------------------+\n",
      "                                                                               \n",
      "+-----------------------------------------------------------------------------+\n",
      "| Processes:                                                                  |\n",
      "|  GPU   GI   CI        PID   Type   Process name                  GPU Memory |\n",
      "|        ID   ID                                                   Usage      |\n",
      "|=============================================================================|\n",
      "|    0   N/A  N/A        23      G   /Xwayland                       N/A      |\n",
      "+-----------------------------------------------------------------------------+\n"
     ]
    }
   ],
   "source": [
    "!nvidia-smi"
   ]
  },
  {
   "cell_type": "markdown",
   "id": "583da28d-1fb5-4d7a-a530-a28f22756004",
   "metadata": {},
   "source": [
    "# **Carga de datos**"
   ]
  },
  {
   "cell_type": "code",
   "execution_count": 5,
   "id": "cda3b693-62f8-4943-ad37-04655c8f87b2",
   "metadata": {
    "ExecuteTime": {
     "end_time": "2023-02-10T03:41:42.554593Z",
     "start_time": "2023-02-10T03:41:01.815021Z"
    },
    "execution": {
     "iopub.execute_input": "2023-02-28T01:07:07.714685Z",
     "iopub.status.busy": "2023-02-28T01:07:07.713941Z",
     "iopub.status.idle": "2023-02-28T01:07:52.750269Z",
     "shell.execute_reply": "2023-02-28T01:07:52.748722Z",
     "shell.execute_reply.started": "2023-02-28T01:07:07.714645Z"
    },
    "id": "cda3b693-62f8-4943-ad37-04655c8f87b2",
    "tags": []
   },
   "outputs": [],
   "source": [
    "# Se cargan el conjunto total de los datos. \n",
    "# Leer TSV: https://stackoverflow.com/questions/9652832/how-to-load-a-tsv-file-into-a-pandas-dataframe\n",
    "# Tokenizing data error: https://stackoverflow.com/questions/18039057/python-pandas-error-tokenizing-data\n",
    "\n",
    "fields = [\"userid\", \"timestamp\", \"musicbrainz-artist-id\", \"artist-name\", \"musicbrainz-track-id\", \"track-name\"]\n",
    "\n",
    "df_data=pd.read_csv('../data/userid-timestamp-artid-artname-traid-traname.tsv', sep='\\t',\n",
    "                     on_bad_lines='skip', skipinitialspace=True, names=fields)"
   ]
  },
  {
   "cell_type": "code",
   "execution_count": 6,
   "id": "796bfba6-2e0a-4e58-a793-d5a27b057e00",
   "metadata": {
    "execution": {
     "iopub.execute_input": "2023-02-28T01:08:19.164397Z",
     "iopub.status.busy": "2023-02-28T01:08:19.163545Z",
     "iopub.status.idle": "2023-02-28T01:08:26.828044Z",
     "shell.execute_reply": "2023-02-28T01:08:26.826768Z",
     "shell.execute_reply.started": "2023-02-28T01:08:19.164367Z"
    },
    "tags": []
   },
   "outputs": [],
   "source": [
    "df_data = cudf.from_pandas(df_data)"
   ]
  },
  {
   "cell_type": "code",
   "execution_count": 7,
   "id": "3f2af26f-6fae-43a4-94f8-795b1e6d6238",
   "metadata": {
    "ExecuteTime": {
     "end_time": "2023-02-10T03:42:24.573057Z",
     "start_time": "2023-02-10T03:42:24.564059Z"
    },
    "colab": {
     "base_uri": "https://localhost:8080/"
    },
    "execution": {
     "iopub.execute_input": "2023-02-28T01:08:26.830751Z",
     "iopub.status.busy": "2023-02-28T01:08:26.830259Z",
     "iopub.status.idle": "2023-02-28T01:08:26.900036Z",
     "shell.execute_reply": "2023-02-28T01:08:26.898359Z",
     "shell.execute_reply.started": "2023-02-28T01:08:26.830722Z"
    },
    "id": "3f2af26f-6fae-43a4-94f8-795b1e6d6238",
    "outputId": "e86efde4-de7c-42da-8946-1e2738e91258",
    "tags": []
   },
   "outputs": [
    {
     "data": {
      "text/plain": [
       "(19098853, 6)"
      ]
     },
     "execution_count": 7,
     "metadata": {},
     "output_type": "execute_result"
    }
   ],
   "source": [
    "# Cantidad de datos y número de variables\n",
    "df_data.shape"
   ]
  },
  {
   "cell_type": "code",
   "execution_count": 8,
   "id": "cf0b5b5b-6bcc-4de2-8a35-5401795f9b2c",
   "metadata": {
    "ExecuteTime": {
     "end_time": "2023-02-10T03:42:25.505331Z",
     "start_time": "2023-02-10T03:42:25.477499Z"
    },
    "colab": {
     "base_uri": "https://localhost:8080/",
     "height": 309
    },
    "execution": {
     "iopub.execute_input": "2023-02-28T01:08:26.952551Z",
     "iopub.status.busy": "2023-02-28T01:08:26.951993Z",
     "iopub.status.idle": "2023-02-28T01:08:27.259208Z",
     "shell.execute_reply": "2023-02-28T01:08:27.258294Z",
     "shell.execute_reply.started": "2023-02-28T01:08:26.952530Z"
    },
    "id": "cf0b5b5b-6bcc-4de2-8a35-5401795f9b2c",
    "outputId": "bf0ad07a-7b6d-4af1-964f-6429a5f8b44e",
    "tags": []
   },
   "outputs": [
    {
     "data": {
      "text/html": [
       "<div>\n",
       "<style scoped>\n",
       "    .dataframe tbody tr th:only-of-type {\n",
       "        vertical-align: middle;\n",
       "    }\n",
       "\n",
       "    .dataframe tbody tr th {\n",
       "        vertical-align: top;\n",
       "    }\n",
       "\n",
       "    .dataframe thead th {\n",
       "        text-align: right;\n",
       "    }\n",
       "</style>\n",
       "<table border=\"1\" class=\"dataframe\">\n",
       "  <thead>\n",
       "    <tr style=\"text-align: right;\">\n",
       "      <th></th>\n",
       "      <th>userid</th>\n",
       "      <th>timestamp</th>\n",
       "      <th>musicbrainz-artist-id</th>\n",
       "      <th>artist-name</th>\n",
       "      <th>musicbrainz-track-id</th>\n",
       "      <th>track-name</th>\n",
       "    </tr>\n",
       "  </thead>\n",
       "  <tbody>\n",
       "    <tr>\n",
       "      <th>19098848</th>\n",
       "      <td>user_001000</td>\n",
       "      <td>2008-01-27T22:02:35Z</td>\n",
       "      <td>9e53f84d-ef44-4c16-9677-5fd4d78cbd7d</td>\n",
       "      <td>Wilco</td>\n",
       "      <td>a490cabc-1e5c-4807-86c7-740c31a50009</td>\n",
       "      <td>Please Be Patient With Me</td>\n",
       "    </tr>\n",
       "    <tr>\n",
       "      <th>19098849</th>\n",
       "      <td>user_001000</td>\n",
       "      <td>2008-01-27T21:56:52Z</td>\n",
       "      <td>9e53f84d-ef44-4c16-9677-5fd4d78cbd7d</td>\n",
       "      <td>Wilco</td>\n",
       "      <td>3e92e447-9e1f-440d-bc00-6734469880c5</td>\n",
       "      <td>Shake It Off</td>\n",
       "    </tr>\n",
       "    <tr>\n",
       "      <th>19098850</th>\n",
       "      <td>user_001000</td>\n",
       "      <td>2008-01-27T21:52:36Z</td>\n",
       "      <td>9e53f84d-ef44-4c16-9677-5fd4d78cbd7d</td>\n",
       "      <td>Wilco</td>\n",
       "      <td>93d044e6-1bbb-46a6-ac8e-283382a89e6f</td>\n",
       "      <td>Side With The Seeds</td>\n",
       "    </tr>\n",
       "    <tr>\n",
       "      <th>19098851</th>\n",
       "      <td>user_001000</td>\n",
       "      <td>2008-01-27T21:49:12Z</td>\n",
       "      <td>9e53f84d-ef44-4c16-9677-5fd4d78cbd7d</td>\n",
       "      <td>Wilco</td>\n",
       "      <td>5ac4386f-6146-4389-a762-4b43f362d2c8</td>\n",
       "      <td>Sky Blue Sky</td>\n",
       "    </tr>\n",
       "    <tr>\n",
       "      <th>19098852</th>\n",
       "      <td>user_001000</td>\n",
       "      <td>2008-01-27T21:43:14Z</td>\n",
       "      <td>9e53f84d-ef44-4c16-9677-5fd4d78cbd7d</td>\n",
       "      <td>Wilco</td>\n",
       "      <td>3acc99bc-a349-420f-ad28-7095eb3533c9</td>\n",
       "      <td>Impossible Germany</td>\n",
       "    </tr>\n",
       "  </tbody>\n",
       "</table>\n",
       "</div>"
      ],
      "text/plain": [
       "               userid             timestamp  \\\n",
       "19098848  user_001000  2008-01-27T22:02:35Z   \n",
       "19098849  user_001000  2008-01-27T21:56:52Z   \n",
       "19098850  user_001000  2008-01-27T21:52:36Z   \n",
       "19098851  user_001000  2008-01-27T21:49:12Z   \n",
       "19098852  user_001000  2008-01-27T21:43:14Z   \n",
       "\n",
       "                         musicbrainz-artist-id artist-name  \\\n",
       "19098848  9e53f84d-ef44-4c16-9677-5fd4d78cbd7d       Wilco   \n",
       "19098849  9e53f84d-ef44-4c16-9677-5fd4d78cbd7d       Wilco   \n",
       "19098850  9e53f84d-ef44-4c16-9677-5fd4d78cbd7d       Wilco   \n",
       "19098851  9e53f84d-ef44-4c16-9677-5fd4d78cbd7d       Wilco   \n",
       "19098852  9e53f84d-ef44-4c16-9677-5fd4d78cbd7d       Wilco   \n",
       "\n",
       "                          musicbrainz-track-id                 track-name  \n",
       "19098848  a490cabc-1e5c-4807-86c7-740c31a50009  Please Be Patient With Me  \n",
       "19098849  3e92e447-9e1f-440d-bc00-6734469880c5               Shake It Off  \n",
       "19098850  93d044e6-1bbb-46a6-ac8e-283382a89e6f        Side With The Seeds  \n",
       "19098851  5ac4386f-6146-4389-a762-4b43f362d2c8               Sky Blue Sky  \n",
       "19098852  3acc99bc-a349-420f-ad28-7095eb3533c9         Impossible Germany  "
      ]
     },
     "execution_count": 8,
     "metadata": {},
     "output_type": "execute_result"
    }
   ],
   "source": [
    "# Ejemplo de muestra de los datos.\n",
    "df_data.tail()"
   ]
  },
  {
   "cell_type": "code",
   "execution_count": 9,
   "id": "1a354ccd-5552-4aa2-a123-087d355573fa",
   "metadata": {
    "ExecuteTime": {
     "end_time": "2023-02-10T03:42:30.803440Z",
     "start_time": "2023-02-10T03:42:30.793165Z"
    },
    "colab": {
     "base_uri": "https://localhost:8080/"
    },
    "execution": {
     "iopub.execute_input": "2023-02-28T01:08:29.397183Z",
     "iopub.status.busy": "2023-02-28T01:08:29.396480Z",
     "iopub.status.idle": "2023-02-28T01:08:29.411996Z",
     "shell.execute_reply": "2023-02-28T01:08:29.411182Z",
     "shell.execute_reply.started": "2023-02-28T01:08:29.397152Z"
    },
    "id": "1a354ccd-5552-4aa2-a123-087d355573fa",
    "outputId": "2d9fe20c-ce5c-4595-a72a-efcb70f5badb",
    "scrolled": true,
    "tags": []
   },
   "outputs": [
    {
     "data": {
      "text/plain": [
       "userid                   object\n",
       "timestamp                object\n",
       "musicbrainz-artist-id    object\n",
       "artist-name              object\n",
       "musicbrainz-track-id     object\n",
       "track-name               object\n",
       "dtype: object"
      ]
     },
     "execution_count": 9,
     "metadata": {},
     "output_type": "execute_result"
    }
   ],
   "source": [
    "# Tipos de las variables al cargar, todas son objetos.\n",
    "df_data.dtypes"
   ]
  },
  {
   "cell_type": "code",
   "execution_count": 10,
   "id": "6d71583f",
   "metadata": {
    "ExecuteTime": {
     "end_time": "2023-02-10T03:42:41.241358Z",
     "start_time": "2023-02-10T03:42:31.685891Z"
    },
    "execution": {
     "iopub.execute_input": "2023-02-28T01:08:29.837144Z",
     "iopub.status.busy": "2023-02-28T01:08:29.836547Z",
     "iopub.status.idle": "2023-02-28T01:08:30.009178Z",
     "shell.execute_reply": "2023-02-28T01:08:30.007941Z",
     "shell.execute_reply.started": "2023-02-28T01:08:29.837114Z"
    },
    "tags": []
   },
   "outputs": [
    {
     "data": {
      "text/plain": [
       "userid                         0\n",
       "timestamp                      0\n",
       "artist-name                    0\n",
       "track-name                    12\n",
       "musicbrainz-artist-id     600848\n",
       "musicbrainz-track-id     2162719\n",
       "dtype: int64"
      ]
     },
     "execution_count": 10,
     "metadata": {},
     "output_type": "execute_result"
    }
   ],
   "source": [
    "# Número de valores nulos en filas.\n",
    "df_plot = df_data.isnull().sum().sort_values()\n",
    "df_plot"
   ]
  },
  {
   "cell_type": "code",
   "execution_count": 11,
   "id": "76a62811-11a1-4e1d-b5c8-a555676cac09",
   "metadata": {
    "ExecuteTime": {
     "end_time": "2023-02-10T03:42:42.783949Z",
     "start_time": "2023-02-10T03:42:42.583210Z"
    },
    "colab": {
     "base_uri": "https://localhost:8080/",
     "height": 282
    },
    "execution": {
     "iopub.execute_input": "2023-02-28T01:08:30.269774Z",
     "iopub.status.busy": "2023-02-28T01:08:30.268994Z",
     "iopub.status.idle": "2023-02-28T01:08:30.273426Z",
     "shell.execute_reply": "2023-02-28T01:08:30.272317Z",
     "shell.execute_reply.started": "2023-02-28T01:08:30.269744Z"
    },
    "id": "76a62811-11a1-4e1d-b5c8-a555676cac09",
    "outputId": "1c344145-502e-4bcb-8437-ca6d8213f68b",
    "tags": []
   },
   "outputs": [],
   "source": [
    "# Existen múltiples filas con valores nulos. Esto se debe a que son llaves foráneas.\n",
    "#plt.barh(df_plot.index, df_plot.values)"
   ]
  },
  {
   "cell_type": "markdown",
   "id": "e6668a01-3658-4ee9-9e3f-a7a682621488",
   "metadata": {
    "tags": []
   },
   "source": [
    "# **Perfilamiento y entendimiento de los datos**\n",
    "Obtendremos estadísticas descriptivas pertinentes y posteriormente ingresaremos el conjunto de datos a Pandas Profiling para obtener un reporte adecuado de correlación e interacción entre variables."
   ]
  },
  {
   "cell_type": "code",
   "execution_count": 12,
   "id": "2e9a3235-62e6-4c13-bd6b-c3d9e0a098ae",
   "metadata": {
    "ExecuteTime": {
     "start_time": "2023-02-10T03:42:44.714Z"
    },
    "execution": {
     "iopub.execute_input": "2023-02-28T01:08:38.680787Z",
     "iopub.status.busy": "2023-02-28T01:08:38.680079Z",
     "iopub.status.idle": "2023-02-28T01:08:47.015784Z",
     "shell.execute_reply": "2023-02-28T01:08:47.014929Z",
     "shell.execute_reply.started": "2023-02-28T01:08:38.680760Z"
    },
    "tags": []
   },
   "outputs": [
    {
     "data": {
      "text/html": [
       "<div>\n",
       "<style scoped>\n",
       "    .dataframe tbody tr th:only-of-type {\n",
       "        vertical-align: middle;\n",
       "    }\n",
       "\n",
       "    .dataframe tbody tr th {\n",
       "        vertical-align: top;\n",
       "    }\n",
       "\n",
       "    .dataframe thead th {\n",
       "        text-align: right;\n",
       "    }\n",
       "</style>\n",
       "<table border=\"1\" class=\"dataframe\">\n",
       "  <thead>\n",
       "    <tr style=\"text-align: right;\">\n",
       "      <th></th>\n",
       "      <th>userid</th>\n",
       "      <th>timestamp</th>\n",
       "      <th>musicbrainz-artist-id</th>\n",
       "      <th>artist-name</th>\n",
       "      <th>musicbrainz-track-id</th>\n",
       "      <th>track-name</th>\n",
       "    </tr>\n",
       "  </thead>\n",
       "  <tbody>\n",
       "    <tr>\n",
       "      <th>count</th>\n",
       "      <td>19098853</td>\n",
       "      <td>19098853</td>\n",
       "      <td>18498005</td>\n",
       "      <td>19098853</td>\n",
       "      <td>16936134</td>\n",
       "      <td>19098841</td>\n",
       "    </tr>\n",
       "    <tr>\n",
       "      <th>unique</th>\n",
       "      <td>992</td>\n",
       "      <td>17454730</td>\n",
       "      <td>107296</td>\n",
       "      <td>173921</td>\n",
       "      <td>960403</td>\n",
       "      <td>1083472</td>\n",
       "    </tr>\n",
       "    <tr>\n",
       "      <th>top</th>\n",
       "      <td>user_000949</td>\n",
       "      <td>2009-02-26T21:29:15Z</td>\n",
       "      <td>a74b1b7f-71a5-4011-9441-d0b5e4122711</td>\n",
       "      <td>Radiohead</td>\n",
       "      <td>db16d0b3-b8ce-4aa8-a11a-e4d53cc7f8a6</td>\n",
       "      <td>Intro</td>\n",
       "    </tr>\n",
       "    <tr>\n",
       "      <th>freq</th>\n",
       "      <td>183103</td>\n",
       "      <td>248</td>\n",
       "      <td>115099</td>\n",
       "      <td>115099</td>\n",
       "      <td>3991</td>\n",
       "      <td>17561</td>\n",
       "    </tr>\n",
       "  </tbody>\n",
       "</table>\n",
       "</div>"
      ],
      "text/plain": [
       "             userid             timestamp  \\\n",
       "count      19098853              19098853   \n",
       "unique          992              17454730   \n",
       "top     user_000949  2009-02-26T21:29:15Z   \n",
       "freq         183103                   248   \n",
       "\n",
       "                       musicbrainz-artist-id artist-name  \\\n",
       "count                               18498005    19098853   \n",
       "unique                                107296      173921   \n",
       "top     a74b1b7f-71a5-4011-9441-d0b5e4122711   Radiohead   \n",
       "freq                                  115099      115099   \n",
       "\n",
       "                        musicbrainz-track-id track-name  \n",
       "count                               16936134   19098841  \n",
       "unique                                960403    1083472  \n",
       "top     db16d0b3-b8ce-4aa8-a11a-e4d53cc7f8a6      Intro  \n",
       "freq                                    3991      17561  "
      ]
     },
     "execution_count": 12,
     "metadata": {},
     "output_type": "execute_result"
    }
   ],
   "source": [
    "# Obtención de estadísticas descriptivas.\n",
    "df_data.describe()"
   ]
  },
  {
   "cell_type": "code",
   "execution_count": 13,
   "id": "90071415-ecdc-41cf-b061-fc901b07e359",
   "metadata": {
    "ExecuteTime": {
     "start_time": "2023-02-10T03:39:17.049Z"
    },
    "execution": {
     "iopub.execute_input": "2023-02-28T01:08:47.018439Z",
     "iopub.status.busy": "2023-02-28T01:08:47.017868Z",
     "iopub.status.idle": "2023-02-28T01:08:47.035356Z",
     "shell.execute_reply": "2023-02-28T01:08:47.034567Z",
     "shell.execute_reply.started": "2023-02-28T01:08:47.018416Z"
    },
    "tags": []
   },
   "outputs": [
    {
     "name": "stdout",
     "output_type": "stream",
     "text": [
      "<class 'cudf.core.dataframe.DataFrame'>\n",
      "RangeIndex: 19098853 entries, 0 to 19098852\n",
      "Data columns (total 6 columns):\n",
      " #   Column                 Dtype\n",
      "---  ------                 -----\n",
      " 0   userid                 object\n",
      " 1   timestamp              object\n",
      " 2   musicbrainz-artist-id  object\n",
      " 3   artist-name            object\n",
      " 4   musicbrainz-track-id   object\n",
      " 5   track-name             object\n",
      "dtypes: object(6)\n",
      "memory usage: 2.7+ GB\n"
     ]
    }
   ],
   "source": [
    "# Obtención de estadísticas descriptivas.\n",
    "df_data.info()"
   ]
  },
  {
   "cell_type": "code",
   "execution_count": 14,
   "id": "3dc8fcad-05dc-473c-a06b-3f2a085c5d67",
   "metadata": {
    "execution": {
     "iopub.execute_input": "2023-02-28T01:08:47.036503Z",
     "iopub.status.busy": "2023-02-28T01:08:47.036300Z",
     "iopub.status.idle": "2023-02-28T01:08:47.250211Z",
     "shell.execute_reply": "2023-02-28T01:08:47.249218Z",
     "shell.execute_reply.started": "2023-02-28T01:08:47.036486Z"
    },
    "tags": []
   },
   "outputs": [
    {
     "data": {
      "text/html": [
       "<div>\n",
       "<style scoped>\n",
       "    .dataframe tbody tr th:only-of-type {\n",
       "        vertical-align: middle;\n",
       "    }\n",
       "\n",
       "    .dataframe tbody tr th {\n",
       "        vertical-align: top;\n",
       "    }\n",
       "\n",
       "    .dataframe thead th {\n",
       "        text-align: right;\n",
       "    }\n",
       "</style>\n",
       "<table border=\"1\" class=\"dataframe\">\n",
       "  <thead>\n",
       "    <tr style=\"text-align: right;\">\n",
       "      <th></th>\n",
       "      <th>user_id</th>\n",
       "      <th>track_name</th>\n",
       "      <th>rating</th>\n",
       "    </tr>\n",
       "  </thead>\n",
       "  <tbody>\n",
       "    <tr>\n",
       "      <th>0</th>\n",
       "      <td>user_000008</td>\n",
       "      <td>Heartless</td>\n",
       "      <td>2119</td>\n",
       "    </tr>\n",
       "    <tr>\n",
       "      <th>1</th>\n",
       "      <td>user_000008</td>\n",
       "      <td>See You In My Nightmares</td>\n",
       "      <td>2069</td>\n",
       "    </tr>\n",
       "    <tr>\n",
       "      <th>2</th>\n",
       "      <td>user_000008</td>\n",
       "      <td>Say You Will</td>\n",
       "      <td>2065</td>\n",
       "    </tr>\n",
       "    <tr>\n",
       "      <th>3</th>\n",
       "      <td>user_000008</td>\n",
       "      <td>Welcome To Heartbreak (Feat. Kid Cudi)</td>\n",
       "      <td>2059</td>\n",
       "    </tr>\n",
       "    <tr>\n",
       "      <th>4</th>\n",
       "      <td>user_000008</td>\n",
       "      <td>Love Lockdown</td>\n",
       "      <td>2059</td>\n",
       "    </tr>\n",
       "    <tr>\n",
       "      <th>...</th>\n",
       "      <td>...</td>\n",
       "      <td>...</td>\n",
       "      <td>...</td>\n",
       "    </tr>\n",
       "    <tr>\n",
       "      <th>4407905</th>\n",
       "      <td>user_000298</td>\n",
       "      <td>Each Other</td>\n",
       "      <td>1</td>\n",
       "    </tr>\n",
       "    <tr>\n",
       "      <th>4407906</th>\n",
       "      <td>user_000666</td>\n",
       "      <td>Walking Thru The Park</td>\n",
       "      <td>1</td>\n",
       "    </tr>\n",
       "    <tr>\n",
       "      <th>4407907</th>\n",
       "      <td>user_000783</td>\n",
       "      <td>Your Mistake / Victim In Pain (Live)</td>\n",
       "      <td>1</td>\n",
       "    </tr>\n",
       "    <tr>\n",
       "      <th>4407908</th>\n",
       "      <td>user_000382</td>\n",
       "      <td>Junesong Provision</td>\n",
       "      <td>1</td>\n",
       "    </tr>\n",
       "    <tr>\n",
       "      <th>4407909</th>\n",
       "      <td>user_000293</td>\n",
       "      <td>The Gentry Cove</td>\n",
       "      <td>1</td>\n",
       "    </tr>\n",
       "  </tbody>\n",
       "</table>\n",
       "<p>4407910 rows × 3 columns</p>\n",
       "</div>"
      ],
      "text/plain": [
       "             user_id                              track_name  rating\n",
       "0        user_000008                               Heartless    2119\n",
       "1        user_000008                See You In My Nightmares    2069\n",
       "2        user_000008                            Say You Will    2065\n",
       "3        user_000008  Welcome To Heartbreak (Feat. Kid Cudi)    2059\n",
       "4        user_000008                           Love Lockdown    2059\n",
       "...              ...                                     ...     ...\n",
       "4407905  user_000298                              Each Other       1\n",
       "4407906  user_000666                   Walking Thru The Park       1\n",
       "4407907  user_000783    Your Mistake / Victim In Pain (Live)       1\n",
       "4407908  user_000382                      Junesong Provision       1\n",
       "4407909  user_000293                         The Gentry Cove       1\n",
       "\n",
       "[4407910 rows x 3 columns]"
      ]
     },
     "execution_count": 14,
     "metadata": {},
     "output_type": "execute_result"
    }
   ],
   "source": [
    "# Contamos el número de veces que una persona escuchó una canción. Y tomamos esto como matriz de utilidad.\n",
    "# La segunda línea quita el multi-index.\n",
    "df_user_track = df_data.groupby(['userid', 'track-name']).count().sort_values('timestamp', ascending=False)['timestamp'].to_frame()\n",
    "df_user_track = df_user_track.reset_index(level=[0,1])\n",
    "\n",
    "# Optimizamos la memoria.\n",
    "# Link: https://towardsdatascience.com/memory-efficient-data-science-types-53423d48ba1d\n",
    "df_user_track['timestamp'] = df_user_track['timestamp'].astype(np.uint16)\n",
    "df_user_track.rename(columns={\"userid\":\"user_id\",\"track-name\":\"track_name\",\"timestamp\": \"rating\"}, inplace=True)\n",
    "df_user_track"
   ]
  },
  {
   "cell_type": "code",
   "execution_count": 15,
   "id": "86d582f3-ba13-4634-b03d-410667cdd6bb",
   "metadata": {
    "execution": {
     "iopub.execute_input": "2023-02-28T01:10:34.810257Z",
     "iopub.status.busy": "2023-02-28T01:10:34.808802Z",
     "iopub.status.idle": "2023-02-28T01:10:35.255296Z",
     "shell.execute_reply": "2023-02-28T01:10:35.254614Z",
     "shell.execute_reply.started": "2023-02-28T01:10:34.810210Z"
    },
    "tags": []
   },
   "outputs": [
    {
     "data": {
      "text/html": [
       "<div>\n",
       "<style scoped>\n",
       "    .dataframe tbody tr th:only-of-type {\n",
       "        vertical-align: middle;\n",
       "    }\n",
       "\n",
       "    .dataframe tbody tr th {\n",
       "        vertical-align: top;\n",
       "    }\n",
       "\n",
       "    .dataframe thead th {\n",
       "        text-align: right;\n",
       "    }\n",
       "</style>\n",
       "<table border=\"1\" class=\"dataframe\">\n",
       "  <thead>\n",
       "    <tr style=\"text-align: right;\">\n",
       "      <th></th>\n",
       "      <th>user_id</th>\n",
       "      <th>artist_name</th>\n",
       "      <th>rating</th>\n",
       "    </tr>\n",
       "  </thead>\n",
       "  <tbody>\n",
       "    <tr>\n",
       "      <th>0</th>\n",
       "      <td>user_000008</td>\n",
       "      <td>Kanye West</td>\n",
       "      <td>26496</td>\n",
       "    </tr>\n",
       "    <tr>\n",
       "      <th>1</th>\n",
       "      <td>user_000141</td>\n",
       "      <td>Chemistry</td>\n",
       "      <td>25609</td>\n",
       "    </tr>\n",
       "    <tr>\n",
       "      <th>2</th>\n",
       "      <td>user_000499</td>\n",
       "      <td>The Knife</td>\n",
       "      <td>18597</td>\n",
       "    </tr>\n",
       "    <tr>\n",
       "      <th>3</th>\n",
       "      <td>user_000889</td>\n",
       "      <td>Soilwork</td>\n",
       "      <td>15566</td>\n",
       "    </tr>\n",
       "    <tr>\n",
       "      <th>4</th>\n",
       "      <td>user_000084</td>\n",
       "      <td>Britney Spears</td>\n",
       "      <td>14614</td>\n",
       "    </tr>\n",
       "    <tr>\n",
       "      <th>...</th>\n",
       "      <td>...</td>\n",
       "      <td>...</td>\n",
       "      <td>...</td>\n",
       "    </tr>\n",
       "    <tr>\n",
       "      <th>897414</th>\n",
       "      <td>user_000966</td>\n",
       "      <td>Mcg'Z</td>\n",
       "      <td>1</td>\n",
       "    </tr>\n",
       "    <tr>\n",
       "      <th>897415</th>\n",
       "      <td>user_000758</td>\n",
       "      <td>Eric Burdon And The Animals</td>\n",
       "      <td>1</td>\n",
       "    </tr>\n",
       "    <tr>\n",
       "      <th>897416</th>\n",
       "      <td>user_000222</td>\n",
       "      <td>Fear Factory</td>\n",
       "      <td>1</td>\n",
       "    </tr>\n",
       "    <tr>\n",
       "      <th>897417</th>\n",
       "      <td>user_000412</td>\n",
       "      <td>Minotaur Shock</td>\n",
       "      <td>1</td>\n",
       "    </tr>\n",
       "    <tr>\n",
       "      <th>897418</th>\n",
       "      <td>user_000665</td>\n",
       "      <td>The Automatic</td>\n",
       "      <td>1</td>\n",
       "    </tr>\n",
       "  </tbody>\n",
       "</table>\n",
       "<p>897419 rows × 3 columns</p>\n",
       "</div>"
      ],
      "text/plain": [
       "            user_id                  artist_name  rating\n",
       "0       user_000008                   Kanye West   26496\n",
       "1       user_000141                    Chemistry   25609\n",
       "2       user_000499                    The Knife   18597\n",
       "3       user_000889                     Soilwork   15566\n",
       "4       user_000084               Britney Spears   14614\n",
       "...             ...                          ...     ...\n",
       "897414  user_000966                        Mcg'Z       1\n",
       "897415  user_000758  Eric Burdon And The Animals       1\n",
       "897416  user_000222                 Fear Factory       1\n",
       "897417  user_000412               Minotaur Shock       1\n",
       "897418  user_000665                The Automatic       1\n",
       "\n",
       "[897419 rows x 3 columns]"
      ]
     },
     "execution_count": 15,
     "metadata": {},
     "output_type": "execute_result"
    }
   ],
   "source": [
    "# Contamos el número de veces que una persona escuchó un artista. Y tomamos esto como matriz de utilidad.\n",
    "# La segunda línea quita el multi-index.\n",
    "df_user_artist = df_data.groupby(['userid', 'artist-name']).count().sort_values('timestamp', ascending=False)['timestamp'].to_frame()\n",
    "df_user_artist = df_user_artist.reset_index(level=[0,1])\n",
    "\n",
    "# Optimizamos la memoria.\n",
    "# Link: https://towardsdatascience.com/memory-efficient-data-science-types-53423d48ba1d\n",
    "df_user_artist['timestamp'] = df_user_artist['timestamp'].astype(np.uint16)\n",
    "df_user_artist.rename(columns={\"userid\":\"user_id\",\"artist-name\":\"artist_name\",\"timestamp\": \"rating\"}, inplace=True)\n",
    "df_user_artist"
   ]
  },
  {
   "cell_type": "code",
   "execution_count": 18,
   "id": "83483a32-a1e5-40c3-a7e9-b64f8089ee0b",
   "metadata": {
    "execution": {
     "iopub.execute_input": "2023-02-28T01:11:31.314240Z",
     "iopub.status.busy": "2023-02-28T01:11:31.313612Z",
     "iopub.status.idle": "2023-02-28T01:11:31.325681Z",
     "shell.execute_reply": "2023-02-28T01:11:31.324847Z",
     "shell.execute_reply.started": "2023-02-28T01:11:31.314214Z"
    },
    "tags": []
   },
   "outputs": [
    {
     "name": "stdout",
     "output_type": "stream",
     "text": [
      "<class 'cudf.core.dataframe.DataFrame'>\n",
      "RangeIndex: 4407910 entries, 0 to 4407909\n",
      "Data columns (total 3 columns):\n",
      " #   Column      Dtype\n",
      "---  ------      -----\n",
      " 0   user_id     object\n",
      " 1   track_name  object\n",
      " 2   rating      uint16\n",
      "dtypes: object(2), uint16(1)\n",
      "memory usage: 163.0+ MB\n",
      "------------------------------------------\n",
      "<class 'cudf.core.dataframe.DataFrame'>\n",
      "RangeIndex: 897419 entries, 0 to 897418\n",
      "Data columns (total 3 columns):\n",
      " #   Column       Non-Null Count   Dtype\n",
      "---  ------       --------------   -----\n",
      " 0   user_id      897419 non-null  object\n",
      " 1   artist_name  897419 non-null  object\n",
      " 2   rating       897419 non-null  uint16\n",
      "dtypes: object(2), uint16(1)\n",
      "memory usage: 29.2+ MB\n"
     ]
    }
   ],
   "source": [
    "# Analizamos el consumo en memoria de los DF's\n",
    "df_user_track.info()\n",
    "print(\"------------------------------------------\")\n",
    "df_user_artist.info()"
   ]
  },
  {
   "cell_type": "code",
   "execution_count": 19,
   "id": "3d966fc9-9bc1-4ff2-bdd6-697249a81f75",
   "metadata": {
    "execution": {
     "iopub.execute_input": "2023-02-28T01:12:43.670259Z",
     "iopub.status.busy": "2023-02-28T01:12:43.669499Z",
     "iopub.status.idle": "2023-02-28T01:12:44.784985Z",
     "shell.execute_reply": "2023-02-28T01:12:44.784268Z",
     "shell.execute_reply.started": "2023-02-28T01:12:43.670230Z"
    },
    "tags": []
   },
   "outputs": [],
   "source": [
    "# Exportamos los DF's\n",
    "df_user_track.index.name='id'\n",
    "df_user_track.to_csv(\"../data/processed/user_track.csv\")\n",
    "df_user_artist.index.name='id'\n",
    "df_user_artist.to_csv(\"../data/processed/user_artist.csv\")"
   ]
  },
  {
   "cell_type": "code",
   "execution_count": 20,
   "id": "c49748b0-6837-4969-a524-2bc675bda684",
   "metadata": {
    "execution": {
     "iopub.execute_input": "2023-02-28T01:12:46.510338Z",
     "iopub.status.busy": "2023-02-28T01:12:46.509804Z",
     "iopub.status.idle": "2023-02-28T01:12:46.513570Z",
     "shell.execute_reply": "2023-02-28T01:12:46.512731Z",
     "shell.execute_reply.started": "2023-02-28T01:12:46.510314Z"
    }
   },
   "outputs": [],
   "source": [
    "# Este código genera la matriz de 1's y 0s. Realiza un pivote y cuenta las coincidencias.\n",
    "#df_user_track = df_user_track.pivot(index='userid', columns='artist-name', values='timestamp')"
   ]
  },
  {
   "cell_type": "code",
   "execution_count": 21,
   "id": "19df7342-9d89-49cc-afb5-4b608b60ffc0",
   "metadata": {
    "execution": {
     "iopub.execute_input": "2023-02-28T01:12:47.171755Z",
     "iopub.status.busy": "2023-02-28T01:12:47.171074Z",
     "iopub.status.idle": "2023-02-28T01:12:47.273878Z",
     "shell.execute_reply": "2023-02-28T01:12:47.272160Z",
     "shell.execute_reply.started": "2023-02-28T01:12:47.171732Z"
    },
    "tags": []
   },
   "outputs": [
    {
     "name": "stdout",
     "output_type": "stream",
     "text": [
      "<class 'pandas.core.frame.DataFrame'>\n",
      "RangeIndex: 992 entries, 0 to 991\n",
      "Data columns (total 5 columns):\n",
      " #   Column      Non-Null Count  Dtype  \n",
      "---  ------      --------------  -----  \n",
      " 0   user_id     992 non-null    object \n",
      " 1   gender      884 non-null    object \n",
      " 2   age         286 non-null    float64\n",
      " 3   country     907 non-null    object \n",
      " 4   registered  992 non-null    object \n",
      "dtypes: float64(1), object(4)\n",
      "memory usage: 38.9+ KB\n"
     ]
    }
   ],
   "source": [
    "# Se cargan el conjunto total de los datos. \n",
    "# Leer TSV: https://stackoverflow.com/questions/9652832/how-to-load-a-tsv-file-into-a-pandas-dataframe\n",
    "# Tokenizing data error: https://stackoverflow.com/questions/18039057/python-pandas-error-tokenizing-data\n",
    "\n",
    "df_users=pd.read_csv('../data/userid-profile.tsv', sep='\\t')\n",
    "df_users['registered'] = pd.to_datetime(df_users['registered']).apply(str)\n",
    "df_users.rename(columns={\"#id\":\"user_id\"}, inplace=True)\n",
    "df_users.info()"
   ]
  },
  {
   "cell_type": "code",
   "execution_count": 22,
   "id": "8e179bf9-10b3-411a-8cd4-6a80444fe3a1",
   "metadata": {
    "execution": {
     "iopub.execute_input": "2023-02-28T01:12:51.762519Z",
     "iopub.status.busy": "2023-02-28T01:12:51.761930Z",
     "iopub.status.idle": "2023-02-28T01:12:51.781037Z",
     "shell.execute_reply": "2023-02-28T01:12:51.780270Z",
     "shell.execute_reply.started": "2023-02-28T01:12:51.762498Z"
    },
    "tags": []
   },
   "outputs": [],
   "source": [
    "df_users.to_csv(\"../data/processed/users.csv\")"
   ]
  },
  {
   "cell_type": "code",
   "execution_count": 23,
   "id": "b691760b-b3ce-4403-a801-db8e3967fe01",
   "metadata": {
    "ExecuteTime": {
     "end_time": "2023-02-10T02:37:47.514472Z",
     "start_time": "2023-02-10T02:35:25.838893Z"
    },
    "execution": {
     "iopub.execute_input": "2023-02-28T01:12:52.728783Z",
     "iopub.status.busy": "2023-02-28T01:12:52.728237Z",
     "iopub.status.idle": "2023-02-28T01:12:52.731584Z",
     "shell.execute_reply": "2023-02-28T01:12:52.730724Z",
     "shell.execute_reply.started": "2023-02-28T01:12:52.728763Z"
    },
    "tags": []
   },
   "outputs": [],
   "source": [
    "# Se genera un reporte de analítica. Demora menos de 1 minuto aproximadamente.\n",
    "#profile = ProfileReport(df_user_artist.to_pandas(), title=\"Pandas Profiling Report\", minimal=True)\n",
    "#profile.to_file(\"reporte.html\")"
   ]
  },
  {
   "cell_type": "markdown",
   "id": "6f96bd1a-081b-48bc-ad7b-e55a3b5c7ea7",
   "metadata": {
    "execution": {
     "iopub.execute_input": "2023-02-24T19:14:30.432166Z",
     "iopub.status.busy": "2023-02-24T19:14:30.431043Z",
     "iopub.status.idle": "2023-02-24T19:14:30.464999Z",
     "shell.execute_reply": "2023-02-24T19:14:30.460485Z",
     "shell.execute_reply.started": "2023-02-24T19:14:30.432134Z"
    }
   },
   "source": [
    "# **Creación de la base de datos SQLite3**\n",
    "Creamos una base de datos SQLite3, con base en los DF's generados."
   ]
  },
  {
   "cell_type": "code",
   "execution_count": 27,
   "id": "c20487b3-c485-44d9-8134-0fd846a5972e",
   "metadata": {
    "execution": {
     "iopub.execute_input": "2023-02-28T01:19:36.297470Z",
     "iopub.status.busy": "2023-02-28T01:19:36.296825Z",
     "iopub.status.idle": "2023-02-28T01:19:37.619087Z",
     "shell.execute_reply": "2023-02-28T01:19:37.618383Z",
     "shell.execute_reply.started": "2023-02-28T01:19:36.297450Z"
    },
    "tags": []
   },
   "outputs": [],
   "source": [
    "# En caso de que no se pueda utilizar CUDF.\n",
    "df_user_track = df_user_track.to_pandas()\n",
    "df_user_artist = df_user_artist.to_pandas()"
   ]
  },
  {
   "cell_type": "code",
   "execution_count": 24,
   "id": "6c0ea1f5-4b07-42c2-8e18-63a439b3c928",
   "metadata": {
    "execution": {
     "iopub.execute_input": "2023-02-28T01:14:17.855410Z",
     "iopub.status.busy": "2023-02-28T01:14:17.854580Z",
     "iopub.status.idle": "2023-02-28T01:16:51.422996Z",
     "shell.execute_reply": "2023-02-28T01:16:51.422297Z",
     "shell.execute_reply.started": "2023-02-28T01:14:17.855377Z"
    },
    "tags": []
   },
   "outputs": [],
   "source": [
    "# Connect to the SQLite3 database\n",
    "conn = sqlite3.connect('../backend/data/data.db')\n",
    "\n",
    "# Create a cursor object\n",
    "cur = conn.cursor()\n",
    "\n",
    "# Create a new table in the database\n",
    "cur.execute('CREATE TABLE IF NOT EXISTS user_track (id INTEGER PRIMARY KEY, user_id TEXT, track_name TEXT, rating INTEGER)')\n",
    "\n",
    "for index, row in df_user_track.iterrows():\n",
    "    cur.execute('INSERT INTO user_track (id, user_id, track_name, rating) VALUES (?, ?, ?, ?)', (index, row['user_id'], row['track_name'], row['rating']))\n",
    "\n",
    "# Commit the changes and close the database connection\n",
    "conn.commit()\n",
    "cur.close()\n",
    "conn.close()"
   ]
  },
  {
   "cell_type": "code",
   "execution_count": 25,
   "id": "9d0d695a-9186-490d-b896-52c5a84b9f02",
   "metadata": {
    "execution": {
     "iopub.execute_input": "2023-02-28T01:16:51.424220Z",
     "iopub.status.busy": "2023-02-28T01:16:51.424023Z",
     "iopub.status.idle": "2023-02-28T01:17:24.796998Z",
     "shell.execute_reply": "2023-02-28T01:17:24.796181Z",
     "shell.execute_reply.started": "2023-02-28T01:16:51.424197Z"
    },
    "tags": []
   },
   "outputs": [],
   "source": [
    "# Connect to the SQLite3 database\n",
    "conn = sqlite3.connect('../backend/data/data.db')\n",
    "\n",
    "# Create a cursor object\n",
    "cur = conn.cursor()\n",
    "\n",
    "# Create a new table in the database\n",
    "cur.execute('CREATE TABLE IF NOT EXISTS user_artist (id INTEGER PRIMARY KEY, user_id TEXT, artist_name TEXT, rating INTEGER)')\n",
    "\n",
    "for index, row in df_user_artist.to_pandas().iterrows():\n",
    "    cur.execute('INSERT INTO user_artist (id, user_id, artist_name, rating) VALUES (?, ?, ?, ?)', (index, row['user_id'], row['artist_name'], row['rating']))\n",
    "\n",
    "# Commit the changes and close the database connection\n",
    "conn.commit()\n",
    "cur.close()\n",
    "conn.close()"
   ]
  },
  {
   "cell_type": "code",
   "execution_count": 26,
   "id": "61fd1734-2f22-4a6e-97f1-32401dad1dba",
   "metadata": {
    "execution": {
     "iopub.execute_input": "2023-02-28T01:17:24.798122Z",
     "iopub.status.busy": "2023-02-28T01:17:24.797889Z",
     "iopub.status.idle": "2023-02-28T01:17:24.930123Z",
     "shell.execute_reply": "2023-02-28T01:17:24.929335Z",
     "shell.execute_reply.started": "2023-02-28T01:17:24.798102Z"
    },
    "tags": []
   },
   "outputs": [],
   "source": [
    "# Connect to the SQLite3 database\n",
    "conn = sqlite3.connect('../backend/data/data.db')\n",
    "\n",
    "# Create a cursor object\n",
    "cur = conn.cursor()\n",
    "\n",
    "# Create a new table in the database\n",
    "cur.execute('CREATE TABLE IF NOT EXISTS user (user_id PRIMARY KEY, gender TEXT, age INTEGER, country TEXT, registered TIMESTAMP)')\n",
    "\n",
    "for index, row in df_users.iterrows():\n",
    "    cur.execute('INSERT INTO user (user_id, gender, age, country, registered) VALUES (?, ?, ?, ?, ?)', (row['user_id'] , row['gender'], row['age'], row['country'], row['registered']))\n",
    "\n",
    "# Commit the changes and close the database connection\n",
    "conn.commit()\n",
    "cur.close()\n",
    "conn.close()"
   ]
  },
  {
   "cell_type": "markdown",
   "id": "d37f4266-97bf-47a2-9935-3d2fda89777d",
   "metadata": {
    "execution": {
     "iopub.execute_input": "2023-02-24T19:14:30.432166Z",
     "iopub.status.busy": "2023-02-24T19:14:30.431043Z",
     "iopub.status.idle": "2023-02-24T19:14:30.464999Z",
     "shell.execute_reply": "2023-02-24T19:14:30.460485Z",
     "shell.execute_reply.started": "2023-02-24T19:14:30.432134Z"
    }
   },
   "source": [
    "# **Modelo de recomendación**\n",
    "Generamos dos modelos de recomendación, uno item-item y otro user-user"
   ]
  },
  {
   "cell_type": "code",
   "execution_count": null,
   "id": "a1e5d155-1c65-49b5-9046-388f2e688a81",
   "metadata": {},
   "outputs": [],
   "source": [
    "# EXPORTAMOS EL MODELO: \n",
    "# Usamos la libreria joblib.\n",
    "filename = 'logistic_model.joblib'\n",
    "# Se guarda\n",
    "dump(final_model, filename) "
   ]
  }
 ],
 "metadata": {
  "colab": {
   "collapsed_sections": [],
   "name": "Lab1_ee.ortiz_mc.parrad_sj.zona.ipynb",
   "provenance": []
  },
  "gist": {
   "data": {
    "description": "OneDrive/OneDrive - Universidad de los Andes/Universidad/Semestres/09. Noveno semestre/Sistemas de recomendación/Talleres/Taller 1/Solución/Taller1_SR_202310/notebooks/Taller1_data_analysis.ipynb",
    "public": false
   },
   "id": ""
  },
  "kernelspec": {
   "display_name": "Python 3 (ipykernel)",
   "language": "python",
   "name": "python3"
  },
  "language_info": {
   "codemirror_mode": {
    "name": "ipython",
    "version": 3
   },
   "file_extension": ".py",
   "mimetype": "text/x-python",
   "name": "python",
   "nbconvert_exporter": "python",
   "pygments_lexer": "ipython3",
   "version": "3.9.15"
  },
  "toc": {
   "base_numbering": 1,
   "nav_menu": {},
   "number_sections": true,
   "sideBar": true,
   "skip_h1_title": false,
   "title_cell": "Table of Contents",
   "title_sidebar": "Contents",
   "toc_cell": false,
   "toc_position": {
    "height": "calc(100% - 180px)",
    "left": "10px",
    "top": "150px",
    "width": "303.837px"
   },
   "toc_section_display": true,
   "toc_window_display": true
  },
  "varInspector": {
   "cols": {
    "lenName": 16,
    "lenType": 16,
    "lenVar": 40
   },
   "kernels_config": {
    "python": {
     "delete_cmd_postfix": "",
     "delete_cmd_prefix": "del ",
     "library": "var_list.py",
     "varRefreshCmd": "print(var_dic_list())"
    },
    "r": {
     "delete_cmd_postfix": ") ",
     "delete_cmd_prefix": "rm(",
     "library": "var_list.r",
     "varRefreshCmd": "cat(var_dic_list()) "
    }
   },
   "types_to_exclude": [
    "module",
    "function",
    "builtin_function_or_method",
    "instance",
    "_Feature"
   ],
   "window_display": false
  }
 },
 "nbformat": 4,
 "nbformat_minor": 5
}
