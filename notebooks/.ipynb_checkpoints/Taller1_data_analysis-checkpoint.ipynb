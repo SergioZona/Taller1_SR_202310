{
 "cells": [
  {
   "cell_type": "markdown",
   "id": "98c8b70c-91ef-43ad-92e0-0e38be745c28",
   "metadata": {
    "id": "497T5nW-MzMF",
    "tags": []
   },
   "source": [
    "# **Taller 1**\n",
    "### **Integrantes:**\n",
    "* Diego Felipe Carvajal Lombo (201911910)\n",
    "* Brenda Catalina Barahona Pinilla (201812721)\n",
    "* Sergio Julian Zona Moreno (201914936)"
   ]
  },
  {
   "cell_type": "code",
   "execution_count": 1,
   "id": "f27c7490-62b1-43e1-9856-cc5f88236eba",
   "metadata": {
    "execution": {
     "iopub.execute_input": "2023-03-07T04:27:37.088108Z",
     "iopub.status.busy": "2023-03-07T04:27:37.087820Z",
     "iopub.status.idle": "2023-03-07T04:27:37.092787Z",
     "shell.execute_reply": "2023-03-07T04:27:37.091775Z",
     "shell.execute_reply.started": "2023-03-07T04:27:37.088089Z"
    },
    "tags": []
   },
   "outputs": [
    {
     "name": "stdout",
     "output_type": "stream",
     "text": [
      "Collecting package metadata (current_repodata.json): ...working... done\n",
      "Solving environment: ...working... done\n",
      "\n",
      "# All requested packages already installed.\n",
      "\n"
     ]
    }
   ],
   "source": [
    "# Posible instalación necesaria\n",
    "!conda install -c conda-forge scikit-surprise"
   ]
  },
  {
   "cell_type": "markdown",
   "id": "bc103ddf-9cf6-4a77-a845-40cb38d04039",
   "metadata": {
    "tags": []
   },
   "source": [
    "# **Carga y muestreo de los datos**"
   ]
  },
  {
   "cell_type": "code",
   "execution_count": 1,
   "id": "0e68c6ad-2a15-424b-937f-c96e98ff6b08",
   "metadata": {
    "ExecuteTime": {
     "end_time": "2023-02-10T03:40:59.672027Z",
     "start_time": "2023-02-10T03:40:59.660012Z"
    },
    "execution": {
     "iopub.execute_input": "2023-03-07T04:27:37.623172Z",
     "iopub.status.busy": "2023-03-07T04:27:37.622854Z",
     "iopub.status.idle": "2023-03-07T04:27:37.629779Z",
     "shell.execute_reply": "2023-03-07T04:27:37.628860Z",
     "shell.execute_reply.started": "2023-03-07T04:27:37.623143Z"
    },
    "id": "0e68c6ad-2a15-424b-937f-c96e98ff6b08",
    "tags": []
   },
   "outputs": [],
   "source": [
    "# Importación de librerias\n",
    "seed = 161\n",
    "import pandas as pd\n",
    "import numpy as np\n",
    "import hashlib\n",
    "\n",
    "# Se importa la librería de tiempo para medir cuánto se demora en encontrar los hiperparámetros con cada modelo.\n",
    "import time\n",
    "import math\n",
    "\n",
    "# Librerias CUDA\n",
    "# import cudf\n",
    "# cudf.set_option(\"spill\", True)\n",
    "\n",
    "# Database\n",
    "import sqlite3\n",
    "\n",
    "# Gráficos\n",
    "import matplotlib.pyplot as plt\n",
    "\n",
    "# Importamos la librería del SR\n",
    "import os\n",
    "from surprise import Reader\n",
    "from surprise import Dataset\n",
    "from surprise.model_selection import train_test_split\n",
    "from surprise import KNNBasic, KNNWithZScore\n",
    "from surprise import accuracy\n",
    "\n",
    "#Para garantizar reproducibilidad en resultados\n",
    "import random\n",
    "seed = 2023\n",
    "#random.seed(seed)\n",
    "#np.random.seed(seed)\n",
    "\n",
    "# Importar/Exportar modelos\n",
    "from joblib import dump, load"
   ]
  },
  {
   "cell_type": "code",
   "execution_count": 2,
   "id": "42cea7c9-cd26-4b11-b811-87ab36532cd4",
   "metadata": {
    "execution": {
     "iopub.execute_input": "2023-03-07T04:27:37.904047Z",
     "iopub.status.busy": "2023-03-07T04:27:37.903360Z",
     "iopub.status.idle": "2023-03-07T04:27:38.281743Z",
     "shell.execute_reply": "2023-03-07T04:27:38.280578Z",
     "shell.execute_reply.started": "2023-03-07T04:27:37.904025Z"
    },
    "tags": []
   },
   "outputs": [
    {
     "name": "stdout",
     "output_type": "stream",
     "text": [
      "Thu Mar  9 00:20:50 2023       \n",
      "+-----------------------------------------------------------------------------+\n",
      "| NVIDIA-SMI 528.24       Driver Version: 528.24       CUDA Version: 12.0     |\n",
      "|-------------------------------+----------------------+----------------------+\n",
      "| GPU  Name            TCC/WDDM | Bus-Id        Disp.A | Volatile Uncorr. ECC |\n",
      "| Fan  Temp  Perf  Pwr:Usage/Cap|         Memory-Usage | GPU-Util  Compute M. |\n",
      "|                               |                      |               MIG M. |\n",
      "|===============================+======================+======================|\n",
      "|   0  NVIDIA GeForce ... WDDM  | 00000000:01:00.0 Off |                  N/A |\n",
      "| N/A   47C    P0    N/A /  N/A |      0MiB /  4096MiB |      1%      Default |\n",
      "|                               |                      |                  N/A |\n",
      "+-------------------------------+----------------------+----------------------+\n",
      "                                                                               \n",
      "+-----------------------------------------------------------------------------+\n",
      "| Processes:                                                                  |\n",
      "|  GPU   GI   CI        PID   Type   Process name                  GPU Memory |\n",
      "|        ID   ID                                                   Usage      |\n",
      "|=============================================================================|\n",
      "|  No running processes found                                                 |\n",
      "+-----------------------------------------------------------------------------+\n"
     ]
    }
   ],
   "source": [
    "!nvidia-smi"
   ]
  },
  {
   "cell_type": "markdown",
   "id": "583da28d-1fb5-4d7a-a530-a28f22756004",
   "metadata": {},
   "source": [
    "# **Carga de datos**"
   ]
  },
  {
   "cell_type": "code",
   "execution_count": 3,
   "id": "cda3b693-62f8-4943-ad37-04655c8f87b2",
   "metadata": {
    "ExecuteTime": {
     "end_time": "2023-02-10T03:41:42.554593Z",
     "start_time": "2023-02-10T03:41:01.815021Z"
    },
    "execution": {
     "iopub.execute_input": "2023-03-07T04:27:38.838851Z",
     "iopub.status.busy": "2023-03-07T04:27:38.837930Z",
     "iopub.status.idle": "2023-03-07T04:28:42.017448Z",
     "shell.execute_reply": "2023-03-07T04:28:42.008496Z",
     "shell.execute_reply.started": "2023-03-07T04:27:38.838824Z"
    },
    "id": "cda3b693-62f8-4943-ad37-04655c8f87b2",
    "tags": []
   },
   "outputs": [],
   "source": [
    "# Se cargan el conjunto total de los datos. \n",
    "# Leer TSV: https://stackoverflow.com/questions/9652832/how-to-load-a-tsv-file-into-a-pandas-dataframe\n",
    "# Tokenizing data error: https://stackoverflow.com/questions/18039057/python-pandas-error-tokenizing-data\n",
    "\n",
    "fields = [\"userid\", \"timestamp\", \"musicbrainz-artist-id\", \"artist-name\", \"musicbrainz-track-id\", \"track-name\"]\n",
    "\n",
    "df_data=pd.read_csv('../data/userid-timestamp-artid-artname-traid-traname.tsv', sep='\\t',\n",
    "                     on_bad_lines='skip', skipinitialspace=True, names=fields)"
   ]
  },
  {
   "cell_type": "code",
   "execution_count": 4,
   "id": "796bfba6-2e0a-4e58-a793-d5a27b057e00",
   "metadata": {
    "execution": {
     "iopub.execute_input": "2023-03-07T04:28:42.031940Z",
     "iopub.status.busy": "2023-03-07T04:28:42.030830Z",
     "iopub.status.idle": "2023-03-07T04:28:54.691139Z",
     "shell.execute_reply": "2023-03-07T04:28:54.690186Z",
     "shell.execute_reply.started": "2023-03-07T04:28:42.031738Z"
    },
    "tags": []
   },
   "outputs": [],
   "source": [
    "# import cudf\n",
    "# cudf.set_option(\"spill\", True)\n",
    "# df_data = cudf.from_pandas(df_data)"
   ]
  },
  {
   "cell_type": "code",
   "execution_count": 5,
   "id": "3f2af26f-6fae-43a4-94f8-795b1e6d6238",
   "metadata": {
    "ExecuteTime": {
     "end_time": "2023-02-10T03:42:24.573057Z",
     "start_time": "2023-02-10T03:42:24.564059Z"
    },
    "colab": {
     "base_uri": "https://localhost:8080/"
    },
    "execution": {
     "iopub.execute_input": "2023-03-07T04:28:54.692722Z",
     "iopub.status.busy": "2023-03-07T04:28:54.692495Z",
     "iopub.status.idle": "2023-03-07T04:28:54.759328Z",
     "shell.execute_reply": "2023-03-07T04:28:54.758148Z",
     "shell.execute_reply.started": "2023-03-07T04:28:54.692697Z"
    },
    "id": "3f2af26f-6fae-43a4-94f8-795b1e6d6238",
    "outputId": "e86efde4-de7c-42da-8946-1e2738e91258",
    "tags": []
   },
   "outputs": [
    {
     "data": {
      "text/plain": [
       "(19098853, 6)"
      ]
     },
     "execution_count": 5,
     "metadata": {},
     "output_type": "execute_result"
    }
   ],
   "source": [
    "# Cantidad de datos y número de variables\n",
    "df_data.shape"
   ]
  },
  {
   "cell_type": "code",
   "execution_count": 6,
   "id": "cf0b5b5b-6bcc-4de2-8a35-5401795f9b2c",
   "metadata": {
    "ExecuteTime": {
     "end_time": "2023-02-10T03:42:25.505331Z",
     "start_time": "2023-02-10T03:42:25.477499Z"
    },
    "colab": {
     "base_uri": "https://localhost:8080/",
     "height": 309
    },
    "execution": {
     "iopub.execute_input": "2023-03-07T04:28:54.763989Z",
     "iopub.status.busy": "2023-03-07T04:28:54.763290Z",
     "iopub.status.idle": "2023-03-07T04:28:54.995595Z",
     "shell.execute_reply": "2023-03-07T04:28:54.994622Z",
     "shell.execute_reply.started": "2023-03-07T04:28:54.763958Z"
    },
    "id": "cf0b5b5b-6bcc-4de2-8a35-5401795f9b2c",
    "outputId": "bf0ad07a-7b6d-4af1-964f-6429a5f8b44e",
    "tags": []
   },
   "outputs": [
    {
     "data": {
      "text/html": [
       "<div>\n",
       "<style scoped>\n",
       "    .dataframe tbody tr th:only-of-type {\n",
       "        vertical-align: middle;\n",
       "    }\n",
       "\n",
       "    .dataframe tbody tr th {\n",
       "        vertical-align: top;\n",
       "    }\n",
       "\n",
       "    .dataframe thead th {\n",
       "        text-align: right;\n",
       "    }\n",
       "</style>\n",
       "<table border=\"1\" class=\"dataframe\">\n",
       "  <thead>\n",
       "    <tr style=\"text-align: right;\">\n",
       "      <th></th>\n",
       "      <th>userid</th>\n",
       "      <th>timestamp</th>\n",
       "      <th>musicbrainz-artist-id</th>\n",
       "      <th>artist-name</th>\n",
       "      <th>musicbrainz-track-id</th>\n",
       "      <th>track-name</th>\n",
       "    </tr>\n",
       "  </thead>\n",
       "  <tbody>\n",
       "    <tr>\n",
       "      <th>19098848</th>\n",
       "      <td>user_001000</td>\n",
       "      <td>2008-01-27T22:02:35Z</td>\n",
       "      <td>9e53f84d-ef44-4c16-9677-5fd4d78cbd7d</td>\n",
       "      <td>Wilco</td>\n",
       "      <td>a490cabc-1e5c-4807-86c7-740c31a50009</td>\n",
       "      <td>Please Be Patient With Me</td>\n",
       "    </tr>\n",
       "    <tr>\n",
       "      <th>19098849</th>\n",
       "      <td>user_001000</td>\n",
       "      <td>2008-01-27T21:56:52Z</td>\n",
       "      <td>9e53f84d-ef44-4c16-9677-5fd4d78cbd7d</td>\n",
       "      <td>Wilco</td>\n",
       "      <td>3e92e447-9e1f-440d-bc00-6734469880c5</td>\n",
       "      <td>Shake It Off</td>\n",
       "    </tr>\n",
       "    <tr>\n",
       "      <th>19098850</th>\n",
       "      <td>user_001000</td>\n",
       "      <td>2008-01-27T21:52:36Z</td>\n",
       "      <td>9e53f84d-ef44-4c16-9677-5fd4d78cbd7d</td>\n",
       "      <td>Wilco</td>\n",
       "      <td>93d044e6-1bbb-46a6-ac8e-283382a89e6f</td>\n",
       "      <td>Side With The Seeds</td>\n",
       "    </tr>\n",
       "    <tr>\n",
       "      <th>19098851</th>\n",
       "      <td>user_001000</td>\n",
       "      <td>2008-01-27T21:49:12Z</td>\n",
       "      <td>9e53f84d-ef44-4c16-9677-5fd4d78cbd7d</td>\n",
       "      <td>Wilco</td>\n",
       "      <td>5ac4386f-6146-4389-a762-4b43f362d2c8</td>\n",
       "      <td>Sky Blue Sky</td>\n",
       "    </tr>\n",
       "    <tr>\n",
       "      <th>19098852</th>\n",
       "      <td>user_001000</td>\n",
       "      <td>2008-01-27T21:43:14Z</td>\n",
       "      <td>9e53f84d-ef44-4c16-9677-5fd4d78cbd7d</td>\n",
       "      <td>Wilco</td>\n",
       "      <td>3acc99bc-a349-420f-ad28-7095eb3533c9</td>\n",
       "      <td>Impossible Germany</td>\n",
       "    </tr>\n",
       "  </tbody>\n",
       "</table>\n",
       "</div>"
      ],
      "text/plain": [
       "               userid             timestamp  \\\n",
       "19098848  user_001000  2008-01-27T22:02:35Z   \n",
       "19098849  user_001000  2008-01-27T21:56:52Z   \n",
       "19098850  user_001000  2008-01-27T21:52:36Z   \n",
       "19098851  user_001000  2008-01-27T21:49:12Z   \n",
       "19098852  user_001000  2008-01-27T21:43:14Z   \n",
       "\n",
       "                         musicbrainz-artist-id artist-name  \\\n",
       "19098848  9e53f84d-ef44-4c16-9677-5fd4d78cbd7d       Wilco   \n",
       "19098849  9e53f84d-ef44-4c16-9677-5fd4d78cbd7d       Wilco   \n",
       "19098850  9e53f84d-ef44-4c16-9677-5fd4d78cbd7d       Wilco   \n",
       "19098851  9e53f84d-ef44-4c16-9677-5fd4d78cbd7d       Wilco   \n",
       "19098852  9e53f84d-ef44-4c16-9677-5fd4d78cbd7d       Wilco   \n",
       "\n",
       "                          musicbrainz-track-id                 track-name  \n",
       "19098848  a490cabc-1e5c-4807-86c7-740c31a50009  Please Be Patient With Me  \n",
       "19098849  3e92e447-9e1f-440d-bc00-6734469880c5               Shake It Off  \n",
       "19098850  93d044e6-1bbb-46a6-ac8e-283382a89e6f        Side With The Seeds  \n",
       "19098851  5ac4386f-6146-4389-a762-4b43f362d2c8               Sky Blue Sky  \n",
       "19098852  3acc99bc-a349-420f-ad28-7095eb3533c9         Impossible Germany  "
      ]
     },
     "execution_count": 6,
     "metadata": {},
     "output_type": "execute_result"
    }
   ],
   "source": [
    "# Ejemplo de muestra de los datos.\n",
    "df_data.tail(5)"
   ]
  },
  {
   "cell_type": "code",
   "execution_count": 7,
   "id": "1a354ccd-5552-4aa2-a123-087d355573fa",
   "metadata": {
    "ExecuteTime": {
     "end_time": "2023-02-10T03:42:30.803440Z",
     "start_time": "2023-02-10T03:42:30.793165Z"
    },
    "colab": {
     "base_uri": "https://localhost:8080/"
    },
    "execution": {
     "iopub.execute_input": "2023-03-07T04:28:54.997539Z",
     "iopub.status.busy": "2023-03-07T04:28:54.997305Z",
     "iopub.status.idle": "2023-03-07T04:28:55.016339Z",
     "shell.execute_reply": "2023-03-07T04:28:55.015251Z",
     "shell.execute_reply.started": "2023-03-07T04:28:54.997522Z"
    },
    "id": "1a354ccd-5552-4aa2-a123-087d355573fa",
    "outputId": "2d9fe20c-ce5c-4595-a72a-efcb70f5badb",
    "scrolled": true,
    "tags": []
   },
   "outputs": [
    {
     "data": {
      "text/plain": [
       "userid                   object\n",
       "timestamp                object\n",
       "musicbrainz-artist-id    object\n",
       "artist-name              object\n",
       "musicbrainz-track-id     object\n",
       "track-name               object\n",
       "dtype: object"
      ]
     },
     "execution_count": 7,
     "metadata": {},
     "output_type": "execute_result"
    }
   ],
   "source": [
    "# Tipos de las variables al cargar, todas son objetos.\n",
    "df_data.dtypes"
   ]
  },
  {
   "cell_type": "code",
   "execution_count": 8,
   "id": "6d71583f",
   "metadata": {
    "ExecuteTime": {
     "end_time": "2023-02-10T03:42:41.241358Z",
     "start_time": "2023-02-10T03:42:31.685891Z"
    },
    "execution": {
     "iopub.execute_input": "2023-03-07T04:28:55.018387Z",
     "iopub.status.busy": "2023-03-07T04:28:55.017838Z",
     "iopub.status.idle": "2023-03-07T04:28:55.214755Z",
     "shell.execute_reply": "2023-03-07T04:28:55.213670Z",
     "shell.execute_reply.started": "2023-03-07T04:28:55.018362Z"
    },
    "tags": []
   },
   "outputs": [
    {
     "data": {
      "text/plain": [
       "userid                         0\n",
       "timestamp                      0\n",
       "artist-name                    0\n",
       "track-name                    12\n",
       "musicbrainz-artist-id     600848\n",
       "musicbrainz-track-id     2162719\n",
       "dtype: int64"
      ]
     },
     "execution_count": 8,
     "metadata": {},
     "output_type": "execute_result"
    }
   ],
   "source": [
    "# Número de valores nulos en filas.\n",
    "df_plot = df_data.isnull().sum().sort_values()\n",
    "df_plot"
   ]
  },
  {
   "cell_type": "code",
   "execution_count": 9,
   "id": "76a62811-11a1-4e1d-b5c8-a555676cac09",
   "metadata": {
    "ExecuteTime": {
     "end_time": "2023-02-10T03:42:42.783949Z",
     "start_time": "2023-02-10T03:42:42.583210Z"
    },
    "colab": {
     "base_uri": "https://localhost:8080/",
     "height": 282
    },
    "execution": {
     "iopub.execute_input": "2023-03-07T04:28:55.216631Z",
     "iopub.status.busy": "2023-03-07T04:28:55.215974Z",
     "iopub.status.idle": "2023-03-07T04:28:55.220272Z",
     "shell.execute_reply": "2023-03-07T04:28:55.219185Z",
     "shell.execute_reply.started": "2023-03-07T04:28:55.216606Z"
    },
    "id": "76a62811-11a1-4e1d-b5c8-a555676cac09",
    "outputId": "1c344145-502e-4bcb-8437-ca6d8213f68b",
    "tags": []
   },
   "outputs": [],
   "source": [
    "# Existen múltiples filas con valores nulos. Esto se debe a que son llaves foráneas.\n",
    "#plt.barh(df_plot.index, df_plot.values)"
   ]
  },
  {
   "cell_type": "markdown",
   "id": "e6668a01-3658-4ee9-9e3f-a7a682621488",
   "metadata": {
    "tags": []
   },
   "source": [
    "# **Perfilamiento y entendimiento de los datos**\n",
    "Obtendremos estadísticas descriptivas pertinentes y posteriormente ingresaremos el conjunto de datos a Pandas Profiling para obtener un reporte adecuado de correlación e interacción entre variables."
   ]
  },
  {
   "cell_type": "code",
   "execution_count": 10,
   "id": "2e9a3235-62e6-4c13-bd6b-c3d9e0a098ae",
   "metadata": {
    "ExecuteTime": {
     "start_time": "2023-02-10T03:42:44.714Z"
    },
    "execution": {
     "iopub.execute_input": "2023-03-07T04:28:55.222557Z",
     "iopub.status.busy": "2023-03-07T04:28:55.221893Z",
     "iopub.status.idle": "2023-03-07T04:29:15.656077Z",
     "shell.execute_reply": "2023-03-07T04:29:15.655130Z",
     "shell.execute_reply.started": "2023-03-07T04:28:55.222534Z"
    },
    "tags": []
   },
   "outputs": [
    {
     "data": {
      "text/html": [
       "<div>\n",
       "<style scoped>\n",
       "    .dataframe tbody tr th:only-of-type {\n",
       "        vertical-align: middle;\n",
       "    }\n",
       "\n",
       "    .dataframe tbody tr th {\n",
       "        vertical-align: top;\n",
       "    }\n",
       "\n",
       "    .dataframe thead th {\n",
       "        text-align: right;\n",
       "    }\n",
       "</style>\n",
       "<table border=\"1\" class=\"dataframe\">\n",
       "  <thead>\n",
       "    <tr style=\"text-align: right;\">\n",
       "      <th></th>\n",
       "      <th>userid</th>\n",
       "      <th>timestamp</th>\n",
       "      <th>musicbrainz-artist-id</th>\n",
       "      <th>artist-name</th>\n",
       "      <th>musicbrainz-track-id</th>\n",
       "      <th>track-name</th>\n",
       "    </tr>\n",
       "  </thead>\n",
       "  <tbody>\n",
       "    <tr>\n",
       "      <th>count</th>\n",
       "      <td>19098853</td>\n",
       "      <td>19098853</td>\n",
       "      <td>18498005</td>\n",
       "      <td>19098853</td>\n",
       "      <td>16936134</td>\n",
       "      <td>19098841</td>\n",
       "    </tr>\n",
       "    <tr>\n",
       "      <th>unique</th>\n",
       "      <td>992</td>\n",
       "      <td>17454730</td>\n",
       "      <td>107295</td>\n",
       "      <td>173921</td>\n",
       "      <td>960402</td>\n",
       "      <td>1083471</td>\n",
       "    </tr>\n",
       "    <tr>\n",
       "      <th>top</th>\n",
       "      <td>user_000949</td>\n",
       "      <td>2009-02-26T21:29:15Z</td>\n",
       "      <td>a74b1b7f-71a5-4011-9441-d0b5e4122711</td>\n",
       "      <td>Radiohead</td>\n",
       "      <td>db16d0b3-b8ce-4aa8-a11a-e4d53cc7f8a6</td>\n",
       "      <td>Intro</td>\n",
       "    </tr>\n",
       "    <tr>\n",
       "      <th>freq</th>\n",
       "      <td>183103</td>\n",
       "      <td>248</td>\n",
       "      <td>115099</td>\n",
       "      <td>115099</td>\n",
       "      <td>3991</td>\n",
       "      <td>17561</td>\n",
       "    </tr>\n",
       "  </tbody>\n",
       "</table>\n",
       "</div>"
      ],
      "text/plain": [
       "             userid             timestamp  \\\n",
       "count      19098853              19098853   \n",
       "unique          992              17454730   \n",
       "top     user_000949  2009-02-26T21:29:15Z   \n",
       "freq         183103                   248   \n",
       "\n",
       "                       musicbrainz-artist-id artist-name  \\\n",
       "count                               18498005    19098853   \n",
       "unique                                107295      173921   \n",
       "top     a74b1b7f-71a5-4011-9441-d0b5e4122711   Radiohead   \n",
       "freq                                  115099      115099   \n",
       "\n",
       "                        musicbrainz-track-id track-name  \n",
       "count                               16936134   19098841  \n",
       "unique                                960402    1083471  \n",
       "top     db16d0b3-b8ce-4aa8-a11a-e4d53cc7f8a6      Intro  \n",
       "freq                                    3991      17561  "
      ]
     },
     "execution_count": 10,
     "metadata": {},
     "output_type": "execute_result"
    }
   ],
   "source": [
    "# Obtención de estadísticas descriptivas.\n",
    "df_data.describe()"
   ]
  },
  {
   "cell_type": "code",
   "execution_count": 11,
   "id": "90071415-ecdc-41cf-b061-fc901b07e359",
   "metadata": {
    "ExecuteTime": {
     "start_time": "2023-02-10T03:39:17.049Z"
    },
    "execution": {
     "iopub.execute_input": "2023-03-07T04:29:15.657311Z",
     "iopub.status.busy": "2023-03-07T04:29:15.657045Z",
     "iopub.status.idle": "2023-03-07T04:29:15.678550Z",
     "shell.execute_reply": "2023-03-07T04:29:15.677263Z",
     "shell.execute_reply.started": "2023-03-07T04:29:15.657272Z"
    },
    "tags": []
   },
   "outputs": [
    {
     "name": "stdout",
     "output_type": "stream",
     "text": [
      "<class 'pandas.core.frame.DataFrame'>\n",
      "RangeIndex: 19098853 entries, 0 to 19098852\n",
      "Data columns (total 6 columns):\n",
      " #   Column                 Dtype \n",
      "---  ------                 ----- \n",
      " 0   userid                 object\n",
      " 1   timestamp              object\n",
      " 2   musicbrainz-artist-id  object\n",
      " 3   artist-name            object\n",
      " 4   musicbrainz-track-id   object\n",
      " 5   track-name             object\n",
      "dtypes: object(6)\n",
      "memory usage: 874.3+ MB\n"
     ]
    }
   ],
   "source": [
    "# Obtención de estadísticas descriptivas.\n",
    "df_data.info()"
   ]
  },
  {
   "cell_type": "code",
   "execution_count": 13,
   "id": "3dc8fcad-05dc-473c-a06b-3f2a085c5d67",
   "metadata": {
    "execution": {
     "iopub.execute_input": "2023-03-07T04:37:09.038739Z",
     "iopub.status.busy": "2023-03-07T04:37:09.038414Z",
     "iopub.status.idle": "2023-03-07T04:37:09.621266Z",
     "shell.execute_reply": "2023-03-07T04:37:09.620321Z",
     "shell.execute_reply.started": "2023-03-07T04:37:09.038719Z"
    },
    "tags": []
   },
   "outputs": [
    {
     "data": {
      "text/html": [
       "<div>\n",
       "<style scoped>\n",
       "    .dataframe tbody tr th:only-of-type {\n",
       "        vertical-align: middle;\n",
       "    }\n",
       "\n",
       "    .dataframe tbody tr th {\n",
       "        vertical-align: top;\n",
       "    }\n",
       "\n",
       "    .dataframe thead th {\n",
       "        text-align: right;\n",
       "    }\n",
       "</style>\n",
       "<table border=\"1\" class=\"dataframe\">\n",
       "  <thead>\n",
       "    <tr style=\"text-align: right;\">\n",
       "      <th></th>\n",
       "      <th>user_id</th>\n",
       "      <th>track_name</th>\n",
       "      <th>rating</th>\n",
       "    </tr>\n",
       "  </thead>\n",
       "  <tbody>\n",
       "    <tr>\n",
       "      <th>0</th>\n",
       "      <td>user_000008</td>\n",
       "      <td>Heartless</td>\n",
       "      <td>2119</td>\n",
       "    </tr>\n",
       "    <tr>\n",
       "      <th>1</th>\n",
       "      <td>user_000008</td>\n",
       "      <td>See You In My Nightmares</td>\n",
       "      <td>2069</td>\n",
       "    </tr>\n",
       "    <tr>\n",
       "      <th>2</th>\n",
       "      <td>user_000008</td>\n",
       "      <td>Say You Will</td>\n",
       "      <td>2065</td>\n",
       "    </tr>\n",
       "    <tr>\n",
       "      <th>3</th>\n",
       "      <td>user_000008</td>\n",
       "      <td>Love Lockdown</td>\n",
       "      <td>2059</td>\n",
       "    </tr>\n",
       "    <tr>\n",
       "      <th>4</th>\n",
       "      <td>user_000008</td>\n",
       "      <td>Welcome To Heartbreak (Feat. Kid Cudi)</td>\n",
       "      <td>2059</td>\n",
       "    </tr>\n",
       "    <tr>\n",
       "      <th>...</th>\n",
       "      <td>...</td>\n",
       "      <td>...</td>\n",
       "      <td>...</td>\n",
       "    </tr>\n",
       "    <tr>\n",
       "      <th>4407905</th>\n",
       "      <td>user_000593</td>\n",
       "      <td>A Billion Tons Of Light</td>\n",
       "      <td>1</td>\n",
       "    </tr>\n",
       "    <tr>\n",
       "      <th>4407906</th>\n",
       "      <td>user_000152</td>\n",
       "      <td>Muskogee</td>\n",
       "      <td>1</td>\n",
       "    </tr>\n",
       "    <tr>\n",
       "      <th>4407907</th>\n",
       "      <td>user_000593</td>\n",
       "      <td>A Brighter Beat</td>\n",
       "      <td>1</td>\n",
       "    </tr>\n",
       "    <tr>\n",
       "      <th>4407908</th>\n",
       "      <td>user_000152</td>\n",
       "      <td>Mun Täytyy Mennä</td>\n",
       "      <td>1</td>\n",
       "    </tr>\n",
       "    <tr>\n",
       "      <th>4407909</th>\n",
       "      <td>user_000515</td>\n",
       "      <td>The Theme Of The Anti-Hero</td>\n",
       "      <td>1</td>\n",
       "    </tr>\n",
       "  </tbody>\n",
       "</table>\n",
       "<p>4407910 rows × 3 columns</p>\n",
       "</div>"
      ],
      "text/plain": [
       "             user_id                              track_name  rating\n",
       "0        user_000008                               Heartless    2119\n",
       "1        user_000008                See You In My Nightmares    2069\n",
       "2        user_000008                            Say You Will    2065\n",
       "3        user_000008                           Love Lockdown    2059\n",
       "4        user_000008  Welcome To Heartbreak (Feat. Kid Cudi)    2059\n",
       "...              ...                                     ...     ...\n",
       "4407905  user_000593                 A Billion Tons Of Light       1\n",
       "4407906  user_000152                                Muskogee       1\n",
       "4407907  user_000593                         A Brighter Beat       1\n",
       "4407908  user_000152                        Mun Täytyy Mennä       1\n",
       "4407909  user_000515              The Theme Of The Anti-Hero       1\n",
       "\n",
       "[4407910 rows x 3 columns]"
      ]
     },
     "execution_count": 13,
     "metadata": {},
     "output_type": "execute_result"
    }
   ],
   "source": [
    "# Contamos el número de veces que una persona escuchó una canción. Y tomamos esto como matriz de utilidad.\n",
    "# La segunda línea quita el multi-index.\n",
    "df_user_track = df_data.groupby(['userid', 'track-name']).count().sort_values('timestamp', ascending=False)['timestamp'].to_frame()\n",
    "df_user_track = df_user_track.reset_index(level=[0,1])\n",
    "\n",
    "# Optimizamos la memoria.\n",
    "# Link: https://towardsdatascience.com/memory-efficient-data-science-types-53423d48ba1d\n",
    "df_user_track['timestamp'] = df_user_track['timestamp'].astype(np.uint16)\n",
    "df_user_track.rename(columns={\"userid\":\"user_id\",\"track-name\":\"track_name\",\"timestamp\": \"rating\"}, inplace=True)\n",
    "df_user_track"
   ]
  },
  {
   "cell_type": "code",
   "execution_count": 19,
   "id": "bfc4c1e6-024e-41c9-8f32-90bdebf456e7",
   "metadata": {
    "execution": {
     "iopub.execute_input": "2023-03-07T04:37:10.930410Z",
     "iopub.status.busy": "2023-03-07T04:37:10.929342Z",
     "iopub.status.idle": "2023-03-07T04:37:11.030406Z",
     "shell.execute_reply": "2023-03-07T04:37:11.028923Z",
     "shell.execute_reply.started": "2023-03-07T04:37:10.930383Z"
    },
    "scrolled": false,
    "tags": []
   },
   "outputs": [
    {
     "data": {
      "text/html": [
       "<div>\n",
       "<style scoped>\n",
       "    .dataframe tbody tr th:only-of-type {\n",
       "        vertical-align: middle;\n",
       "    }\n",
       "\n",
       "    .dataframe tbody tr th {\n",
       "        vertical-align: top;\n",
       "    }\n",
       "\n",
       "    .dataframe thead th {\n",
       "        text-align: right;\n",
       "    }\n",
       "</style>\n",
       "<table border=\"1\" class=\"dataframe\">\n",
       "  <thead>\n",
       "    <tr style=\"text-align: right;\">\n",
       "      <th></th>\n",
       "      <th>user_id</th>\n",
       "      <th>track_name</th>\n",
       "      <th>rating</th>\n",
       "    </tr>\n",
       "  </thead>\n",
       "  <tbody>\n",
       "    <tr>\n",
       "      <th>0</th>\n",
       "      <td>user_000008</td>\n",
       "      <td>Heartless</td>\n",
       "      <td>5.000000</td>\n",
       "    </tr>\n",
       "    <tr>\n",
       "      <th>1</th>\n",
       "      <td>user_000008</td>\n",
       "      <td>See You In My Nightmares</td>\n",
       "      <td>4.905571</td>\n",
       "    </tr>\n",
       "    <tr>\n",
       "      <th>2</th>\n",
       "      <td>user_000008</td>\n",
       "      <td>Say You Will</td>\n",
       "      <td>4.898017</td>\n",
       "    </tr>\n",
       "    <tr>\n",
       "      <th>3</th>\n",
       "      <td>user_000008</td>\n",
       "      <td>Love Lockdown</td>\n",
       "      <td>4.886686</td>\n",
       "    </tr>\n",
       "    <tr>\n",
       "      <th>4</th>\n",
       "      <td>user_000008</td>\n",
       "      <td>Welcome To Heartbreak (Feat. Kid Cudi)</td>\n",
       "      <td>4.886686</td>\n",
       "    </tr>\n",
       "    <tr>\n",
       "      <th>...</th>\n",
       "      <td>...</td>\n",
       "      <td>...</td>\n",
       "      <td>...</td>\n",
       "    </tr>\n",
       "    <tr>\n",
       "      <th>4407905</th>\n",
       "      <td>user_000593</td>\n",
       "      <td>A Billion Tons Of Light</td>\n",
       "      <td>1.000000</td>\n",
       "    </tr>\n",
       "    <tr>\n",
       "      <th>4407906</th>\n",
       "      <td>user_000152</td>\n",
       "      <td>Muskogee</td>\n",
       "      <td>1.000000</td>\n",
       "    </tr>\n",
       "    <tr>\n",
       "      <th>4407907</th>\n",
       "      <td>user_000593</td>\n",
       "      <td>A Brighter Beat</td>\n",
       "      <td>1.000000</td>\n",
       "    </tr>\n",
       "    <tr>\n",
       "      <th>4407908</th>\n",
       "      <td>user_000152</td>\n",
       "      <td>Mun Täytyy Mennä</td>\n",
       "      <td>1.000000</td>\n",
       "    </tr>\n",
       "    <tr>\n",
       "      <th>4407909</th>\n",
       "      <td>user_000515</td>\n",
       "      <td>The Theme Of The Anti-Hero</td>\n",
       "      <td>1.000000</td>\n",
       "    </tr>\n",
       "  </tbody>\n",
       "</table>\n",
       "<p>4407910 rows × 3 columns</p>\n",
       "</div>"
      ],
      "text/plain": [
       "             user_id                              track_name    rating\n",
       "0        user_000008                               Heartless  5.000000\n",
       "1        user_000008                See You In My Nightmares  4.905571\n",
       "2        user_000008                            Say You Will  4.898017\n",
       "3        user_000008                           Love Lockdown  4.886686\n",
       "4        user_000008  Welcome To Heartbreak (Feat. Kid Cudi)  4.886686\n",
       "...              ...                                     ...       ...\n",
       "4407905  user_000593                 A Billion Tons Of Light  1.000000\n",
       "4407906  user_000152                                Muskogee  1.000000\n",
       "4407907  user_000593                         A Brighter Beat  1.000000\n",
       "4407908  user_000152                        Mun Täytyy Mennä  1.000000\n",
       "4407909  user_000515              The Theme Of The Anti-Hero  1.000000\n",
       "\n",
       "[4407910 rows x 3 columns]"
      ]
     },
     "execution_count": 19,
     "metadata": {},
     "output_type": "execute_result"
    }
   ],
   "source": [
    "# from cuml.preprocessing import MinMaxScaler\n",
    "from sklearn.preprocessing import MinMaxScaler\n",
    "pd.options.mode.chained_assignment = None  # default='warn'\n",
    "\n",
    "df_UT = df_user_track.copy()\n",
    "# Devuelve las primeras 100 canciones con más reproducciones del usuario\n",
    "# df_test = df_user_track.loc[(df_user_track['user_id'] == 'user_000008') | (df_user_track['user_id'] == 'user_000593')]\n",
    "# usuarios = df_test['user_id'].unique()\n",
    "usuarios = df_UT['user_id'].unique()\n",
    "scaler = MinMaxScaler(feature_range=(1, 5))\n",
    "\n",
    "for userId in usuarios:\n",
    "    df_user = df_UT.loc[df_user_track['user_id'] == userId]\n",
    "    df_UT.loc[df_UT['user_id'] == userId, 'rating'] = scaler.fit_transform(df_user[['rating']])\n",
    "    \n",
    "df_UT"
   ]
  },
  {
   "cell_type": "code",
   "execution_count": 20,
   "id": "6507788d",
   "metadata": {},
   "outputs": [
    {
     "data": {
      "text/html": [
       "<div>\n",
       "<style scoped>\n",
       "    .dataframe tbody tr th:only-of-type {\n",
       "        vertical-align: middle;\n",
       "    }\n",
       "\n",
       "    .dataframe tbody tr th {\n",
       "        vertical-align: top;\n",
       "    }\n",
       "\n",
       "    .dataframe thead th {\n",
       "        text-align: right;\n",
       "    }\n",
       "</style>\n",
       "<table border=\"1\" class=\"dataframe\">\n",
       "  <thead>\n",
       "    <tr style=\"text-align: right;\">\n",
       "      <th></th>\n",
       "      <th>rating</th>\n",
       "    </tr>\n",
       "  </thead>\n",
       "  <tbody>\n",
       "    <tr>\n",
       "      <th>count</th>\n",
       "      <td>4.407910e+06</td>\n",
       "    </tr>\n",
       "    <tr>\n",
       "      <th>mean</th>\n",
       "      <td>1.141077e+00</td>\n",
       "    </tr>\n",
       "    <tr>\n",
       "      <th>std</th>\n",
       "      <td>3.001056e-01</td>\n",
       "    </tr>\n",
       "    <tr>\n",
       "      <th>min</th>\n",
       "      <td>1.000000e+00</td>\n",
       "    </tr>\n",
       "    <tr>\n",
       "      <th>25%</th>\n",
       "      <td>1.000000e+00</td>\n",
       "    </tr>\n",
       "    <tr>\n",
       "      <th>50%</th>\n",
       "      <td>1.023392e+00</td>\n",
       "    </tr>\n",
       "    <tr>\n",
       "      <th>75%</th>\n",
       "      <td>1.148148e+00</td>\n",
       "    </tr>\n",
       "    <tr>\n",
       "      <th>max</th>\n",
       "      <td>5.000000e+00</td>\n",
       "    </tr>\n",
       "  </tbody>\n",
       "</table>\n",
       "</div>"
      ],
      "text/plain": [
       "             rating\n",
       "count  4.407910e+06\n",
       "mean   1.141077e+00\n",
       "std    3.001056e-01\n",
       "min    1.000000e+00\n",
       "25%    1.000000e+00\n",
       "50%    1.023392e+00\n",
       "75%    1.148148e+00\n",
       "max    5.000000e+00"
      ]
     },
     "execution_count": 20,
     "metadata": {},
     "output_type": "execute_result"
    }
   ],
   "source": [
    "df_UT.describe()"
   ]
  },
  {
   "cell_type": "code",
   "execution_count": 21,
   "id": "86d582f3-ba13-4634-b03d-410667cdd6bb",
   "metadata": {
    "execution": {
     "iopub.execute_input": "2023-03-07T04:38:37.584521Z",
     "iopub.status.busy": "2023-03-07T04:38:37.584191Z",
     "iopub.status.idle": "2023-03-07T04:38:37.936421Z",
     "shell.execute_reply": "2023-03-07T04:38:37.935167Z",
     "shell.execute_reply.started": "2023-03-07T04:38:37.584501Z"
    },
    "tags": []
   },
   "outputs": [
    {
     "data": {
      "text/html": [
       "<div>\n",
       "<style scoped>\n",
       "    .dataframe tbody tr th:only-of-type {\n",
       "        vertical-align: middle;\n",
       "    }\n",
       "\n",
       "    .dataframe tbody tr th {\n",
       "        vertical-align: top;\n",
       "    }\n",
       "\n",
       "    .dataframe thead th {\n",
       "        text-align: right;\n",
       "    }\n",
       "</style>\n",
       "<table border=\"1\" class=\"dataframe\">\n",
       "  <thead>\n",
       "    <tr style=\"text-align: right;\">\n",
       "      <th></th>\n",
       "      <th>user_id</th>\n",
       "      <th>artist_name</th>\n",
       "      <th>rating</th>\n",
       "    </tr>\n",
       "  </thead>\n",
       "  <tbody>\n",
       "    <tr>\n",
       "      <th>0</th>\n",
       "      <td>user_000008</td>\n",
       "      <td>Kanye West</td>\n",
       "      <td>26496</td>\n",
       "    </tr>\n",
       "    <tr>\n",
       "      <th>1</th>\n",
       "      <td>user_000141</td>\n",
       "      <td>Chemistry</td>\n",
       "      <td>25609</td>\n",
       "    </tr>\n",
       "    <tr>\n",
       "      <th>2</th>\n",
       "      <td>user_000499</td>\n",
       "      <td>The Knife</td>\n",
       "      <td>18597</td>\n",
       "    </tr>\n",
       "    <tr>\n",
       "      <th>3</th>\n",
       "      <td>user_000889</td>\n",
       "      <td>Soilwork</td>\n",
       "      <td>15566</td>\n",
       "    </tr>\n",
       "    <tr>\n",
       "      <th>4</th>\n",
       "      <td>user_000084</td>\n",
       "      <td>Britney Spears</td>\n",
       "      <td>14614</td>\n",
       "    </tr>\n",
       "    <tr>\n",
       "      <th>...</th>\n",
       "      <td>...</td>\n",
       "      <td>...</td>\n",
       "      <td>...</td>\n",
       "    </tr>\n",
       "    <tr>\n",
       "      <th>897414</th>\n",
       "      <td>user_000593</td>\n",
       "      <td>Chris &amp; Mollie</td>\n",
       "      <td>1</td>\n",
       "    </tr>\n",
       "    <tr>\n",
       "      <th>897415</th>\n",
       "      <td>user_000593</td>\n",
       "      <td>Celestial Aeon Project</td>\n",
       "      <td>1</td>\n",
       "    </tr>\n",
       "    <tr>\n",
       "      <th>897416</th>\n",
       "      <td>user_000593</td>\n",
       "      <td>Carla Bruni</td>\n",
       "      <td>1</td>\n",
       "    </tr>\n",
       "    <tr>\n",
       "      <th>897417</th>\n",
       "      <td>user_000082</td>\n",
       "      <td>Tymon &amp; The Transistors</td>\n",
       "      <td>1</td>\n",
       "    </tr>\n",
       "    <tr>\n",
       "      <th>897418</th>\n",
       "      <td>user_000524</td>\n",
       "      <td>Rumskib</td>\n",
       "      <td>1</td>\n",
       "    </tr>\n",
       "  </tbody>\n",
       "</table>\n",
       "<p>897419 rows × 3 columns</p>\n",
       "</div>"
      ],
      "text/plain": [
       "            user_id              artist_name  rating\n",
       "0       user_000008               Kanye West   26496\n",
       "1       user_000141                Chemistry   25609\n",
       "2       user_000499                The Knife   18597\n",
       "3       user_000889                 Soilwork   15566\n",
       "4       user_000084           Britney Spears   14614\n",
       "...             ...                      ...     ...\n",
       "897414  user_000593           Chris & Mollie       1\n",
       "897415  user_000593   Celestial Aeon Project       1\n",
       "897416  user_000593              Carla Bruni       1\n",
       "897417  user_000082  Tymon & The Transistors       1\n",
       "897418  user_000524                  Rumskib       1\n",
       "\n",
       "[897419 rows x 3 columns]"
      ]
     },
     "execution_count": 21,
     "metadata": {},
     "output_type": "execute_result"
    }
   ],
   "source": [
    "# Contamos el número de veces que una persona escuchó un artista. Y tomamos esto como matriz de utilidad.\n",
    "# La segunda línea quita el multi-index.\n",
    "df_user_artist = df_data.groupby(['userid', 'artist-name']).count().sort_values('timestamp', ascending=False)['timestamp'].to_frame()\n",
    "df_user_artist = df_user_artist.reset_index(level=[0,1])\n",
    "\n",
    "# Optimizamos la memoria.\n",
    "# Link: https://towardsdatascience.com/memory-efficient-data-science-types-53423d48ba1d\n",
    "df_user_artist['timestamp'] = df_user_artist['timestamp'].astype(np.uint16)\n",
    "df_user_artist.rename(columns={\"userid\":\"user_id\",\"artist-name\":\"artist_name\",\"timestamp\": \"rating\"}, inplace=True)\n",
    "df_user_artist"
   ]
  },
  {
   "cell_type": "code",
   "execution_count": 22,
   "id": "83483a32-a1e5-40c3-a7e9-b64f8089ee0b",
   "metadata": {
    "execution": {
     "iopub.status.busy": "2023-03-07T04:27:32.809484Z",
     "iopub.status.idle": "2023-03-07T04:27:32.810015Z",
     "shell.execute_reply": "2023-03-07T04:27:32.809818Z",
     "shell.execute_reply.started": "2023-03-07T04:27:32.809795Z"
    },
    "tags": []
   },
   "outputs": [
    {
     "name": "stdout",
     "output_type": "stream",
     "text": [
      "<class 'pandas.core.frame.DataFrame'>\n",
      "RangeIndex: 4407910 entries, 0 to 4407909\n",
      "Data columns (total 3 columns):\n",
      " #   Column      Dtype \n",
      "---  ------      ----- \n",
      " 0   user_id     object\n",
      " 1   track_name  object\n",
      " 2   rating      uint16\n",
      "dtypes: object(2), uint16(1)\n",
      "memory usage: 75.7+ MB\n",
      "------------------------------------------\n",
      "<class 'pandas.core.frame.DataFrame'>\n",
      "RangeIndex: 897419 entries, 0 to 897418\n",
      "Data columns (total 3 columns):\n",
      " #   Column       Non-Null Count   Dtype \n",
      "---  ------       --------------   ----- \n",
      " 0   user_id      897419 non-null  object\n",
      " 1   artist_name  897419 non-null  object\n",
      " 2   rating       897419 non-null  uint16\n",
      "dtypes: object(2), uint16(1)\n",
      "memory usage: 15.4+ MB\n"
     ]
    }
   ],
   "source": [
    "# Analizamos el consumo en memoria de los DF's\n",
    "df_user_track.info()\n",
    "print(\"------------------------------------------\")\n",
    "df_user_artist.info()"
   ]
  },
  {
   "cell_type": "code",
   "execution_count": 23,
   "id": "b93ee188",
   "metadata": {},
   "outputs": [
    {
     "data": {
      "text/html": [
       "<div>\n",
       "<style scoped>\n",
       "    .dataframe tbody tr th:only-of-type {\n",
       "        vertical-align: middle;\n",
       "    }\n",
       "\n",
       "    .dataframe tbody tr th {\n",
       "        vertical-align: top;\n",
       "    }\n",
       "\n",
       "    .dataframe thead th {\n",
       "        text-align: right;\n",
       "    }\n",
       "</style>\n",
       "<table border=\"1\" class=\"dataframe\">\n",
       "  <thead>\n",
       "    <tr style=\"text-align: right;\">\n",
       "      <th></th>\n",
       "      <th>user_id</th>\n",
       "      <th>artist_name</th>\n",
       "      <th>rating</th>\n",
       "    </tr>\n",
       "  </thead>\n",
       "  <tbody>\n",
       "    <tr>\n",
       "      <th>0</th>\n",
       "      <td>user_000008</td>\n",
       "      <td>Kanye West</td>\n",
       "      <td>26496</td>\n",
       "    </tr>\n",
       "    <tr>\n",
       "      <th>1</th>\n",
       "      <td>user_000141</td>\n",
       "      <td>Chemistry</td>\n",
       "      <td>25609</td>\n",
       "    </tr>\n",
       "    <tr>\n",
       "      <th>2</th>\n",
       "      <td>user_000499</td>\n",
       "      <td>The Knife</td>\n",
       "      <td>18597</td>\n",
       "    </tr>\n",
       "    <tr>\n",
       "      <th>3</th>\n",
       "      <td>user_000889</td>\n",
       "      <td>Soilwork</td>\n",
       "      <td>15566</td>\n",
       "    </tr>\n",
       "    <tr>\n",
       "      <th>4</th>\n",
       "      <td>user_000084</td>\n",
       "      <td>Britney Spears</td>\n",
       "      <td>14614</td>\n",
       "    </tr>\n",
       "    <tr>\n",
       "      <th>...</th>\n",
       "      <td>...</td>\n",
       "      <td>...</td>\n",
       "      <td>...</td>\n",
       "    </tr>\n",
       "    <tr>\n",
       "      <th>897414</th>\n",
       "      <td>user_000593</td>\n",
       "      <td>Chris &amp; Mollie</td>\n",
       "      <td>1</td>\n",
       "    </tr>\n",
       "    <tr>\n",
       "      <th>897415</th>\n",
       "      <td>user_000593</td>\n",
       "      <td>Celestial Aeon Project</td>\n",
       "      <td>1</td>\n",
       "    </tr>\n",
       "    <tr>\n",
       "      <th>897416</th>\n",
       "      <td>user_000593</td>\n",
       "      <td>Carla Bruni</td>\n",
       "      <td>1</td>\n",
       "    </tr>\n",
       "    <tr>\n",
       "      <th>897417</th>\n",
       "      <td>user_000082</td>\n",
       "      <td>Tymon &amp; The Transistors</td>\n",
       "      <td>1</td>\n",
       "    </tr>\n",
       "    <tr>\n",
       "      <th>897418</th>\n",
       "      <td>user_000524</td>\n",
       "      <td>Rumskib</td>\n",
       "      <td>1</td>\n",
       "    </tr>\n",
       "  </tbody>\n",
       "</table>\n",
       "<p>897419 rows × 3 columns</p>\n",
       "</div>"
      ],
      "text/plain": [
       "            user_id              artist_name  rating\n",
       "0       user_000008               Kanye West   26496\n",
       "1       user_000141                Chemistry   25609\n",
       "2       user_000499                The Knife   18597\n",
       "3       user_000889                 Soilwork   15566\n",
       "4       user_000084           Britney Spears   14614\n",
       "...             ...                      ...     ...\n",
       "897414  user_000593           Chris & Mollie       1\n",
       "897415  user_000593   Celestial Aeon Project       1\n",
       "897416  user_000593              Carla Bruni       1\n",
       "897417  user_000082  Tymon & The Transistors       1\n",
       "897418  user_000524                  Rumskib       1\n",
       "\n",
       "[897419 rows x 3 columns]"
      ]
     },
     "execution_count": 23,
     "metadata": {},
     "output_type": "execute_result"
    }
   ],
   "source": [
    "df_user_artist"
   ]
  },
  {
   "cell_type": "code",
   "execution_count": 20,
   "id": "91dd821f",
   "metadata": {},
   "outputs": [],
   "source": [
    "from sklearn.pipeline import Pipeline\n",
    "from sklearn.preprocessing import FunctionTransformer\n",
    "from sklearn.compose import ColumnTransformer"
   ]
  },
  {
   "cell_type": "code",
   "execution_count": null,
   "id": "a3a5243e",
   "metadata": {},
   "outputs": [],
   "source": [
    "# from sklearn.preprocessing import MinMaxScaler\n",
    "# pd.options.mode.chained_assignment = None  # default='warn'\n",
    "\n",
    "# def ratings(df_user_track):\n",
    "#     # Devuelve las primeras 100 canciones con más reproducciones del usuario\n",
    "#     # df_test = df_user_track.loc[(df_user_track['user_id'] == 'user_000008') | (df_user_track['user_id'] == 'user_000593')]\n",
    "#     # usuarios = df_test['user_id'].unique()\n",
    "#     usuarios = df_user_track['user_id'].unique()\n",
    "#     scaler = MinMaxScaler(feature_range=(1, 5))\n",
    "    \n",
    "#     for userId in usuarios:\n",
    "#         df_user = df_user_track.loc[df_user_track['user_id'] == userId]\n",
    "#         df_user_track.loc[df_user_track['user_id'] == userId, 'rating'] = scaler.fit_transform(df_user[['rating']])\n",
    "#     return df_user_track\n",
    "        \n",
    "# pipelines = Pipeline([\n",
    "#     ('rating', FunctionTransformer(ratings)),\n",
    "#         'model', model\n",
    "#     ])"
   ]
  },
  {
   "cell_type": "code",
   "execution_count": 24,
   "id": "ba3895db",
   "metadata": {},
   "outputs": [
    {
     "data": {
      "text/html": [
       "<div>\n",
       "<style scoped>\n",
       "    .dataframe tbody tr th:only-of-type {\n",
       "        vertical-align: middle;\n",
       "    }\n",
       "\n",
       "    .dataframe tbody tr th {\n",
       "        vertical-align: top;\n",
       "    }\n",
       "\n",
       "    .dataframe thead th {\n",
       "        text-align: right;\n",
       "    }\n",
       "</style>\n",
       "<table border=\"1\" class=\"dataframe\">\n",
       "  <thead>\n",
       "    <tr style=\"text-align: right;\">\n",
       "      <th></th>\n",
       "      <th>user_id</th>\n",
       "      <th>artist_name</th>\n",
       "      <th>rating</th>\n",
       "    </tr>\n",
       "  </thead>\n",
       "  <tbody>\n",
       "    <tr>\n",
       "      <th>0</th>\n",
       "      <td>user_000008</td>\n",
       "      <td>Kanye West</td>\n",
       "      <td>5.0</td>\n",
       "    </tr>\n",
       "    <tr>\n",
       "      <th>1</th>\n",
       "      <td>user_000141</td>\n",
       "      <td>Chemistry</td>\n",
       "      <td>5.0</td>\n",
       "    </tr>\n",
       "    <tr>\n",
       "      <th>2</th>\n",
       "      <td>user_000499</td>\n",
       "      <td>The Knife</td>\n",
       "      <td>5.0</td>\n",
       "    </tr>\n",
       "    <tr>\n",
       "      <th>3</th>\n",
       "      <td>user_000889</td>\n",
       "      <td>Soilwork</td>\n",
       "      <td>5.0</td>\n",
       "    </tr>\n",
       "    <tr>\n",
       "      <th>4</th>\n",
       "      <td>user_000084</td>\n",
       "      <td>Britney Spears</td>\n",
       "      <td>5.0</td>\n",
       "    </tr>\n",
       "    <tr>\n",
       "      <th>...</th>\n",
       "      <td>...</td>\n",
       "      <td>...</td>\n",
       "      <td>...</td>\n",
       "    </tr>\n",
       "    <tr>\n",
       "      <th>897414</th>\n",
       "      <td>user_000593</td>\n",
       "      <td>Chris &amp; Mollie</td>\n",
       "      <td>1.0</td>\n",
       "    </tr>\n",
       "    <tr>\n",
       "      <th>897415</th>\n",
       "      <td>user_000593</td>\n",
       "      <td>Celestial Aeon Project</td>\n",
       "      <td>1.0</td>\n",
       "    </tr>\n",
       "    <tr>\n",
       "      <th>897416</th>\n",
       "      <td>user_000593</td>\n",
       "      <td>Carla Bruni</td>\n",
       "      <td>1.0</td>\n",
       "    </tr>\n",
       "    <tr>\n",
       "      <th>897417</th>\n",
       "      <td>user_000082</td>\n",
       "      <td>Tymon &amp; The Transistors</td>\n",
       "      <td>1.0</td>\n",
       "    </tr>\n",
       "    <tr>\n",
       "      <th>897418</th>\n",
       "      <td>user_000524</td>\n",
       "      <td>Rumskib</td>\n",
       "      <td>1.0</td>\n",
       "    </tr>\n",
       "  </tbody>\n",
       "</table>\n",
       "<p>897419 rows × 3 columns</p>\n",
       "</div>"
      ],
      "text/plain": [
       "            user_id              artist_name  rating\n",
       "0       user_000008               Kanye West     5.0\n",
       "1       user_000141                Chemistry     5.0\n",
       "2       user_000499                The Knife     5.0\n",
       "3       user_000889                 Soilwork     5.0\n",
       "4       user_000084           Britney Spears     5.0\n",
       "...             ...                      ...     ...\n",
       "897414  user_000593           Chris & Mollie     1.0\n",
       "897415  user_000593   Celestial Aeon Project     1.0\n",
       "897416  user_000593              Carla Bruni     1.0\n",
       "897417  user_000082  Tymon & The Transistors     1.0\n",
       "897418  user_000524                  Rumskib     1.0\n",
       "\n",
       "[897419 rows x 3 columns]"
      ]
     },
     "execution_count": 24,
     "metadata": {},
     "output_type": "execute_result"
    }
   ],
   "source": [
    "from sklearn.preprocessing import MinMaxScaler\n",
    "pd.options.mode.chained_assignment = None  # default='warn'\n",
    "\n",
    "df_UA = df_user_artist.copy()\n",
    "usuarios = df_UA['user_id'].unique()\n",
    "scaler = MinMaxScaler(feature_range=(1, 5))\n",
    "\n",
    "for userId in usuarios:\n",
    "    df_user = df_UA.loc[df_user_artist['user_id'] == userId]\n",
    "    df_UA.loc[df_UA['user_id'] == userId, 'rating'] = scaler.fit_transform(df_user[['rating']])\n",
    "    \n",
    "df_UA"
   ]
  },
  {
   "cell_type": "code",
   "execution_count": 24,
   "id": "2fc6590c",
   "metadata": {},
   "outputs": [
    {
     "data": {
      "text/html": [
       "<div>\n",
       "<style scoped>\n",
       "    .dataframe tbody tr th:only-of-type {\n",
       "        vertical-align: middle;\n",
       "    }\n",
       "\n",
       "    .dataframe tbody tr th {\n",
       "        vertical-align: top;\n",
       "    }\n",
       "\n",
       "    .dataframe thead th {\n",
       "        text-align: right;\n",
       "    }\n",
       "</style>\n",
       "<table border=\"1\" class=\"dataframe\">\n",
       "  <thead>\n",
       "    <tr style=\"text-align: right;\">\n",
       "      <th></th>\n",
       "      <th>user_id</th>\n",
       "      <th>artist_name</th>\n",
       "      <th>rating</th>\n",
       "    </tr>\n",
       "  </thead>\n",
       "  <tbody>\n",
       "    <tr>\n",
       "      <th>75</th>\n",
       "      <td>user_000593</td>\n",
       "      <td>Patrick Wolf</td>\n",
       "      <td>5.000000</td>\n",
       "    </tr>\n",
       "    <tr>\n",
       "      <th>314</th>\n",
       "      <td>user_000593</td>\n",
       "      <td>Pj Harvey</td>\n",
       "      <td>3.144476</td>\n",
       "    </tr>\n",
       "    <tr>\n",
       "      <th>371</th>\n",
       "      <td>user_000593</td>\n",
       "      <td>Radiohead</td>\n",
       "      <td>2.972616</td>\n",
       "    </tr>\n",
       "    <tr>\n",
       "      <th>498</th>\n",
       "      <td>user_000593</td>\n",
       "      <td>Jeff Buckley</td>\n",
       "      <td>2.711048</td>\n",
       "    </tr>\n",
       "    <tr>\n",
       "      <th>717</th>\n",
       "      <td>user_000593</td>\n",
       "      <td>Urma</td>\n",
       "      <td>2.387158</td>\n",
       "    </tr>\n",
       "    <tr>\n",
       "      <th>...</th>\n",
       "      <td>...</td>\n",
       "      <td>...</td>\n",
       "      <td>...</td>\n",
       "    </tr>\n",
       "    <tr>\n",
       "      <th>897412</th>\n",
       "      <td>user_000593</td>\n",
       "      <td>Clayhill</td>\n",
       "      <td>1.000000</td>\n",
       "    </tr>\n",
       "    <tr>\n",
       "      <th>897413</th>\n",
       "      <td>user_000593</td>\n",
       "      <td>Christian Kjellvander</td>\n",
       "      <td>1.000000</td>\n",
       "    </tr>\n",
       "    <tr>\n",
       "      <th>897414</th>\n",
       "      <td>user_000593</td>\n",
       "      <td>Chris &amp; Mollie</td>\n",
       "      <td>1.000000</td>\n",
       "    </tr>\n",
       "    <tr>\n",
       "      <th>897415</th>\n",
       "      <td>user_000593</td>\n",
       "      <td>Celestial Aeon Project</td>\n",
       "      <td>1.000000</td>\n",
       "    </tr>\n",
       "    <tr>\n",
       "      <th>897416</th>\n",
       "      <td>user_000593</td>\n",
       "      <td>Carla Bruni</td>\n",
       "      <td>1.000000</td>\n",
       "    </tr>\n",
       "  </tbody>\n",
       "</table>\n",
       "<p>1069 rows × 3 columns</p>\n",
       "</div>"
      ],
      "text/plain": [
       "            user_id             artist_name    rating\n",
       "75      user_000593            Patrick Wolf  5.000000\n",
       "314     user_000593               Pj Harvey  3.144476\n",
       "371     user_000593               Radiohead  2.972616\n",
       "498     user_000593            Jeff Buckley  2.711048\n",
       "717     user_000593                    Urma  2.387158\n",
       "...             ...                     ...       ...\n",
       "897412  user_000593                Clayhill  1.000000\n",
       "897413  user_000593   Christian Kjellvander  1.000000\n",
       "897414  user_000593          Chris & Mollie  1.000000\n",
       "897415  user_000593  Celestial Aeon Project  1.000000\n",
       "897416  user_000593             Carla Bruni  1.000000\n",
       "\n",
       "[1069 rows x 3 columns]"
      ]
     },
     "execution_count": 24,
     "metadata": {},
     "output_type": "execute_result"
    }
   ],
   "source": [
    "user593 = df_user_artist.loc[df_user_artist['user_id'] == 'user_000593']\n",
    "user593"
   ]
  },
  {
   "cell_type": "code",
   "execution_count": 25,
   "id": "3d966fc9-9bc1-4ff2-bdd6-697249a81f75",
   "metadata": {
    "execution": {
     "iopub.status.busy": "2023-03-07T04:27:32.811954Z",
     "iopub.status.idle": "2023-03-07T04:27:32.812651Z",
     "shell.execute_reply": "2023-03-07T04:27:32.812509Z",
     "shell.execute_reply.started": "2023-03-07T04:27:32.812491Z"
    },
    "tags": []
   },
   "outputs": [],
   "source": [
    "# Exportamos los DF's\n",
    "df_user_track.index.name='id'\n",
    "df_user_track.to_csv(\"../data/processed/user_track.csv\")\n",
    "df_user_artist.index.name='id'\n",
    "df_user_artist.to_csv(\"../data/processed/user_artist.csv\")\n",
    "\n",
    "df_UT.index.name='id'\n",
    "df_UT.to_csv(\"../data/processed/user_track_rate.csv\")\n",
    "df_UA.index.name='id'\n",
    "df_UA.to_csv(\"../data/processed/user_artist_rate.csv\")"
   ]
  },
  {
   "cell_type": "code",
   "execution_count": 26,
   "id": "c49748b0-6837-4969-a524-2bc675bda684",
   "metadata": {
    "execution": {
     "iopub.status.busy": "2023-03-07T04:27:32.813616Z",
     "iopub.status.idle": "2023-03-07T04:27:32.813899Z",
     "shell.execute_reply": "2023-03-07T04:27:32.813794Z",
     "shell.execute_reply.started": "2023-03-07T04:27:32.813767Z"
    },
    "tags": []
   },
   "outputs": [],
   "source": [
    "# Este código genera la matriz de 1's y 0s. Realiza un pivote y cuenta las coincidencias.\n",
    "#df_user_track = df_user_track.pivot(index='userid', columns='artist-name', values='timestamp')"
   ]
  },
  {
   "cell_type": "code",
   "execution_count": 28,
   "id": "19df7342-9d89-49cc-afb5-4b608b60ffc0",
   "metadata": {
    "execution": {
     "iopub.status.busy": "2023-03-07T04:27:32.815570Z",
     "iopub.status.idle": "2023-03-07T04:27:32.816032Z",
     "shell.execute_reply": "2023-03-07T04:27:32.815855Z",
     "shell.execute_reply.started": "2023-03-07T04:27:32.815835Z"
    },
    "tags": []
   },
   "outputs": [
    {
     "name": "stdout",
     "output_type": "stream",
     "text": [
      "<class 'pandas.core.frame.DataFrame'>\n",
      "RangeIndex: 992 entries, 0 to 991\n",
      "Data columns (total 5 columns):\n",
      " #   Column      Non-Null Count  Dtype  \n",
      "---  ------      --------------  -----  \n",
      " 0   user_id     992 non-null    object \n",
      " 1   gender      884 non-null    object \n",
      " 2   age         286 non-null    float64\n",
      " 3   country     907 non-null    object \n",
      " 4   registered  992 non-null    object \n",
      "dtypes: float64(1), object(4)\n",
      "memory usage: 38.9+ KB\n"
     ]
    }
   ],
   "source": [
    "# Se cargan el conjunto total de los datos. \n",
    "# Leer TSV: https://stackoverflow.com/questions/9652832/how-to-load-a-tsv-file-into-a-pandas-dataframe\n",
    "# Tokenizing data error: https://stackoverflow.com/questions/18039057/python-pandas-error-tokenizing-data\n",
    "\n",
    "df_users=pd.read_csv('../data/userid-profile.tsv', sep='\\t')\n",
    "df_users['registered'] = pd.to_datetime(df_users['registered']).apply(str)\n",
    "df_users.rename(columns={\"#id\":\"user_id\"}, inplace=True)\n",
    "df_users.info()"
   ]
  },
  {
   "cell_type": "code",
   "execution_count": 29,
   "id": "5d7c1d0a-6cb2-4f44-870c-4cde8e8527d6",
   "metadata": {
    "execution": {
     "iopub.status.busy": "2023-03-07T04:27:32.817821Z",
     "iopub.status.idle": "2023-03-07T04:27:32.818150Z",
     "shell.execute_reply": "2023-03-07T04:27:32.818019Z",
     "shell.execute_reply.started": "2023-03-07T04:27:32.818005Z"
    },
    "tags": []
   },
   "outputs": [
    {
     "data": {
      "text/html": [
       "<div>\n",
       "<style scoped>\n",
       "    .dataframe tbody tr th:only-of-type {\n",
       "        vertical-align: middle;\n",
       "    }\n",
       "\n",
       "    .dataframe tbody tr th {\n",
       "        vertical-align: top;\n",
       "    }\n",
       "\n",
       "    .dataframe thead th {\n",
       "        text-align: right;\n",
       "    }\n",
       "</style>\n",
       "<table border=\"1\" class=\"dataframe\">\n",
       "  <thead>\n",
       "    <tr style=\"text-align: right;\">\n",
       "      <th></th>\n",
       "      <th>user_id</th>\n",
       "      <th>gender</th>\n",
       "      <th>age</th>\n",
       "      <th>country</th>\n",
       "      <th>registered</th>\n",
       "      <th>password_hash</th>\n",
       "    </tr>\n",
       "  </thead>\n",
       "  <tbody>\n",
       "    <tr>\n",
       "      <th>0</th>\n",
       "      <td>user_000001</td>\n",
       "      <td>m</td>\n",
       "      <td>NaN</td>\n",
       "      <td>Japan</td>\n",
       "      <td>2006-08-13 00:00:00</td>\n",
       "      <td>51e94ea69d81c394617371560c1aa022f5ecec92fbec6f...</td>\n",
       "    </tr>\n",
       "    <tr>\n",
       "      <th>1</th>\n",
       "      <td>user_000002</td>\n",
       "      <td>f</td>\n",
       "      <td>NaN</td>\n",
       "      <td>Peru</td>\n",
       "      <td>2006-02-24 00:00:00</td>\n",
       "      <td>ba40ebe35b562b6687252e5d1ab46f0501d32ee3ac2dd0...</td>\n",
       "    </tr>\n",
       "    <tr>\n",
       "      <th>2</th>\n",
       "      <td>user_000003</td>\n",
       "      <td>m</td>\n",
       "      <td>22.0</td>\n",
       "      <td>United States</td>\n",
       "      <td>2005-10-30 00:00:00</td>\n",
       "      <td>05f4cdc5ac31f4b948045012dce4991d13790bb6087d40...</td>\n",
       "    </tr>\n",
       "    <tr>\n",
       "      <th>3</th>\n",
       "      <td>user_000004</td>\n",
       "      <td>f</td>\n",
       "      <td>NaN</td>\n",
       "      <td>NaN</td>\n",
       "      <td>2006-04-26 00:00:00</td>\n",
       "      <td>ff8cb1bbbd20a1c3cb1adce1d60dd64089ba963bc3e722...</td>\n",
       "    </tr>\n",
       "    <tr>\n",
       "      <th>4</th>\n",
       "      <td>user_000005</td>\n",
       "      <td>m</td>\n",
       "      <td>NaN</td>\n",
       "      <td>Bulgaria</td>\n",
       "      <td>2006-06-29 00:00:00</td>\n",
       "      <td>f252ade4b897736f03a935891bb7621c53985df5d3315f...</td>\n",
       "    </tr>\n",
       "    <tr>\n",
       "      <th>...</th>\n",
       "      <td>...</td>\n",
       "      <td>...</td>\n",
       "      <td>...</td>\n",
       "      <td>...</td>\n",
       "      <td>...</td>\n",
       "      <td>...</td>\n",
       "    </tr>\n",
       "    <tr>\n",
       "      <th>987</th>\n",
       "      <td>user_000996</td>\n",
       "      <td>f</td>\n",
       "      <td>NaN</td>\n",
       "      <td>United States</td>\n",
       "      <td>2006-07-17 00:00:00</td>\n",
       "      <td>948d27bea57b9c79890ae7ae5a2b59802f86a97199f909...</td>\n",
       "    </tr>\n",
       "    <tr>\n",
       "      <th>988</th>\n",
       "      <td>user_000997</td>\n",
       "      <td>m</td>\n",
       "      <td>NaN</td>\n",
       "      <td>United States</td>\n",
       "      <td>2007-01-05 00:00:00</td>\n",
       "      <td>69f789605cc44a3d37192449ed68b39187bc48c91c05db...</td>\n",
       "    </tr>\n",
       "    <tr>\n",
       "      <th>989</th>\n",
       "      <td>user_000998</td>\n",
       "      <td>m</td>\n",
       "      <td>NaN</td>\n",
       "      <td>United Kingdom</td>\n",
       "      <td>2005-09-28 00:00:00</td>\n",
       "      <td>721efa604cf85d874342335214bf2270b4c436b3be4793...</td>\n",
       "    </tr>\n",
       "    <tr>\n",
       "      <th>990</th>\n",
       "      <td>user_000999</td>\n",
       "      <td>f</td>\n",
       "      <td>NaN</td>\n",
       "      <td>Poland</td>\n",
       "      <td>2007-07-24 00:00:00</td>\n",
       "      <td>f2452fe018c883c56d8aace2939d30b5bdae3a6c0cdb1a...</td>\n",
       "    </tr>\n",
       "    <tr>\n",
       "      <th>991</th>\n",
       "      <td>user_001000</td>\n",
       "      <td>m</td>\n",
       "      <td>NaN</td>\n",
       "      <td>United States</td>\n",
       "      <td>2007-03-24 00:00:00</td>\n",
       "      <td>62138e9ffb09d260723608b7817543e7583602a1bbcdc4...</td>\n",
       "    </tr>\n",
       "  </tbody>\n",
       "</table>\n",
       "<p>992 rows × 6 columns</p>\n",
       "</div>"
      ],
      "text/plain": [
       "         user_id gender   age         country           registered  \\\n",
       "0    user_000001      m   NaN           Japan  2006-08-13 00:00:00   \n",
       "1    user_000002      f   NaN            Peru  2006-02-24 00:00:00   \n",
       "2    user_000003      m  22.0   United States  2005-10-30 00:00:00   \n",
       "3    user_000004      f   NaN             NaN  2006-04-26 00:00:00   \n",
       "4    user_000005      m   NaN        Bulgaria  2006-06-29 00:00:00   \n",
       "..           ...    ...   ...             ...                  ...   \n",
       "987  user_000996      f   NaN   United States  2006-07-17 00:00:00   \n",
       "988  user_000997      m   NaN   United States  2007-01-05 00:00:00   \n",
       "989  user_000998      m   NaN  United Kingdom  2005-09-28 00:00:00   \n",
       "990  user_000999      f   NaN          Poland  2007-07-24 00:00:00   \n",
       "991  user_001000      m   NaN   United States  2007-03-24 00:00:00   \n",
       "\n",
       "                                         password_hash  \n",
       "0    51e94ea69d81c394617371560c1aa022f5ecec92fbec6f...  \n",
       "1    ba40ebe35b562b6687252e5d1ab46f0501d32ee3ac2dd0...  \n",
       "2    05f4cdc5ac31f4b948045012dce4991d13790bb6087d40...  \n",
       "3    ff8cb1bbbd20a1c3cb1adce1d60dd64089ba963bc3e722...  \n",
       "4    f252ade4b897736f03a935891bb7621c53985df5d3315f...  \n",
       "..                                                 ...  \n",
       "987  948d27bea57b9c79890ae7ae5a2b59802f86a97199f909...  \n",
       "988  69f789605cc44a3d37192449ed68b39187bc48c91c05db...  \n",
       "989  721efa604cf85d874342335214bf2270b4c436b3be4793...  \n",
       "990  f2452fe018c883c56d8aace2939d30b5bdae3a6c0cdb1a...  \n",
       "991  62138e9ffb09d260723608b7817543e7583602a1bbcdc4...  \n",
       "\n",
       "[992 rows x 6 columns]"
      ]
     },
     "execution_count": 29,
     "metadata": {},
     "output_type": "execute_result"
    }
   ],
   "source": [
    "# Creamos la columna que tendrá el Password. Para facilitar nuestra simulación, esta columna será: hash256('user_id'+'123.')\n",
    "def hash(x):\n",
    "    h = hashlib.new('sha256')\n",
    "    h.update(x.encode())\n",
    "    return h.hexdigest()\n",
    "\n",
    "df_users['password_hash'] = df_users['user_id'].apply(lambda x: hash(str(x)+'123.'))\n",
    "df_users"
   ]
  },
  {
   "cell_type": "code",
   "execution_count": 30,
   "id": "8e179bf9-10b3-411a-8cd4-6a80444fe3a1",
   "metadata": {
    "execution": {
     "iopub.status.busy": "2023-03-07T04:27:32.819524Z",
     "iopub.status.idle": "2023-03-07T04:27:32.819858Z",
     "shell.execute_reply": "2023-03-07T04:27:32.819734Z",
     "shell.execute_reply.started": "2023-03-07T04:27:32.819719Z"
    },
    "tags": []
   },
   "outputs": [],
   "source": [
    "df_users.to_csv(\"../data/processed/users.csv\")"
   ]
  },
  {
   "cell_type": "code",
   "execution_count": 30,
   "id": "b691760b-b3ce-4403-a801-db8e3967fe01",
   "metadata": {
    "ExecuteTime": {
     "end_time": "2023-02-10T02:37:47.514472Z",
     "start_time": "2023-02-10T02:35:25.838893Z"
    },
    "execution": {
     "iopub.status.busy": "2023-03-07T04:27:32.821221Z",
     "iopub.status.idle": "2023-03-07T04:27:32.821524Z",
     "shell.execute_reply": "2023-03-07T04:27:32.821402Z",
     "shell.execute_reply.started": "2023-03-07T04:27:32.821385Z"
    },
    "tags": []
   },
   "outputs": [],
   "source": [
    "# Se genera un reporte de analítica. Demora menos de 1 minuto aproximadamente.\n",
    "#profile = ProfileReport(df_user_artist.to_pandas(), title=\"Pandas Profiling Report\", minimal=True)\n",
    "#profile.to_file(\"reporte.html\")"
   ]
  },
  {
   "cell_type": "markdown",
   "id": "6f96bd1a-081b-48bc-ad7b-e55a3b5c7ea7",
   "metadata": {
    "execution": {
     "iopub.execute_input": "2023-02-24T19:14:30.432166Z",
     "iopub.status.busy": "2023-02-24T19:14:30.431043Z",
     "iopub.status.idle": "2023-02-24T19:14:30.464999Z",
     "shell.execute_reply": "2023-02-24T19:14:30.460485Z",
     "shell.execute_reply.started": "2023-02-24T19:14:30.432134Z"
    }
   },
   "source": [
    "# **Creación de la base de datos SQLite3**\n",
    "Creamos una base de datos SQLite3, con base en los DF's generados."
   ]
  },
  {
   "cell_type": "code",
   "execution_count": 31,
   "id": "c20487b3-c485-44d9-8134-0fd846a5972e",
   "metadata": {
    "execution": {
     "iopub.status.busy": "2023-03-07T04:27:32.823042Z",
     "iopub.status.idle": "2023-03-07T04:27:32.823315Z",
     "shell.execute_reply": "2023-03-07T04:27:32.823214Z",
     "shell.execute_reply.started": "2023-03-07T04:27:32.823203Z"
    },
    "tags": []
   },
   "outputs": [],
   "source": [
    "# En caso de que no se pueda utilizar CUDF.\n",
    "#df_user_track = df_user_track.to_pandas()\n",
    "#df_user_artist = df_user_artist.to_pandas()"
   ]
  },
  {
   "cell_type": "code",
   "execution_count": 31,
   "id": "6c0ea1f5-4b07-42c2-8e18-63a439b3c928",
   "metadata": {
    "execution": {
     "iopub.status.busy": "2023-03-07T04:27:32.824574Z",
     "iopub.status.idle": "2023-03-07T04:27:32.824854Z",
     "shell.execute_reply": "2023-03-07T04:27:32.824749Z",
     "shell.execute_reply.started": "2023-03-07T04:27:32.824737Z"
    },
    "tags": []
   },
   "outputs": [],
   "source": [
    "# Connect to the SQLite3 database\n",
    "conn = sqlite3.connect('../backend/data/data.db')\n",
    "\n",
    "# Create a cursor object\n",
    "cur = conn.cursor()\n",
    "\n",
    "# Create a new table in the database\n",
    "cur.execute('CREATE TABLE IF NOT EXISTS user_track (id INTEGER PRIMARY KEY, user_id TEXT, track_name TEXT, rating INTEGER)')\n",
    "\n",
    "for index, row in df_user_track.iterrows():\n",
    "    cur.execute('INSERT INTO user_track (id, user_id, track_name, rating) VALUES (?, ?, ?, ?)', \n",
    "                (index, row['user_id'], row['track_name'], row['rating']))\n",
    "\n",
    "# Commit the changes and close the database connection\n",
    "conn.commit()\n",
    "cur.close()\n",
    "conn.close()"
   ]
  },
  {
   "cell_type": "code",
   "execution_count": 32,
   "id": "9d0d695a-9186-490d-b896-52c5a84b9f02",
   "metadata": {
    "execution": {
     "iopub.status.busy": "2023-03-07T04:27:32.826081Z",
     "iopub.status.idle": "2023-03-07T04:27:32.826421Z",
     "shell.execute_reply": "2023-03-07T04:27:32.826289Z",
     "shell.execute_reply.started": "2023-03-07T04:27:32.826273Z"
    },
    "tags": []
   },
   "outputs": [],
   "source": [
    "# Connect to the SQLite3 database\n",
    "conn = sqlite3.connect('../backend/data/data.db')\n",
    "\n",
    "# Create a cursor object\n",
    "cur = conn.cursor()\n",
    "\n",
    "# Create a new table in the database\n",
    "cur.execute('CREATE TABLE IF NOT EXISTS user_artist (id INTEGER PRIMARY KEY, user_id TEXT, artist_name TEXT, rating INTEGER)')\n",
    "\n",
    "for index, row in df_user_artist.iterrows():\n",
    "    cur.execute('INSERT INTO user_artist (id, user_id, artist_name, rating) VALUES (?, ?, ?, ?)', \n",
    "                (index, row['user_id'], row['artist_name'], row['rating']))\n",
    "\n",
    "# Commit the changes and close the database connection\n",
    "conn.commit()\n",
    "cur.close()\n",
    "conn.close()"
   ]
  },
  {
   "cell_type": "code",
   "execution_count": 33,
   "id": "61fd1734-2f22-4a6e-97f1-32401dad1dba",
   "metadata": {
    "execution": {
     "iopub.status.busy": "2023-03-07T04:27:32.828088Z",
     "iopub.status.idle": "2023-03-07T04:27:32.828472Z",
     "shell.execute_reply": "2023-03-07T04:27:32.828320Z",
     "shell.execute_reply.started": "2023-03-07T04:27:32.828302Z"
    },
    "tags": []
   },
   "outputs": [],
   "source": [
    "# Connect to the SQLite3 database\n",
    "conn = sqlite3.connect('../backend/data/data.db')\n",
    "\n",
    "# Create a cursor object\n",
    "cur = conn.cursor()\n",
    "\n",
    "# Create a new table in the database\n",
    "cur.execute('CREATE TABLE IF NOT EXISTS user (user_id PRIMARY KEY, gender TEXT, age INTEGER, country TEXT, registered TIMESTAMP, password_hash TEXT)')\n",
    "\n",
    "for index, row in df_users.iterrows():\n",
    "    cur.execute('INSERT INTO user (user_id, gender, age, country, registered, password_hash) VALUES (?, ?, ?, ?, ?, ?)', \n",
    "                (row['user_id'] , row['gender'], row['age'], row['country'], row['registered'], row['password_hash']))\n",
    "\n",
    "# Commit the changes and close the database connection\n",
    "conn.commit()\n",
    "cur.close()\n",
    "conn.close()"
   ]
  },
  {
   "cell_type": "code",
   "execution_count": 34,
   "id": "78ec5098",
   "metadata": {},
   "outputs": [],
   "source": [
    "# Connect to the SQLite3 database\n",
    "conn = sqlite3.connect('../backend/data/data.db')\n",
    "\n",
    "# Create a cursor object\n",
    "cur = conn.cursor()\n",
    "\n",
    "# Create a new table in the database\n",
    "cur.execute('CREATE TABLE IF NOT EXISTS user_track_rate (id INTEGER PRIMARY KEY, user_id TEXT, track_name TEXT, rating INTEGER)')\n",
    "\n",
    "for index, row in df_UT.iterrows():\n",
    "    cur.execute('INSERT INTO user_track_rate (id, user_id, track_name, rating) VALUES (?, ?, ?, ?)', \n",
    "                (index, row['user_id'], row['track_name'], row['rating']))\n",
    "\n",
    "# Commit the changes and close the database connection\n",
    "conn.commit()\n",
    "cur.close()\n",
    "conn.close()"
   ]
  },
  {
   "cell_type": "code",
   "execution_count": 35,
   "id": "907e57d6",
   "metadata": {},
   "outputs": [],
   "source": [
    "# Connect to the SQLite3 database\n",
    "conn = sqlite3.connect('../backend/data/data.db')\n",
    "\n",
    "# Create a cursor object\n",
    "cur = conn.cursor()\n",
    "\n",
    "# Create a new table in the database\n",
    "cur.execute('CREATE TABLE IF NOT EXISTS user_artist_rate (id INTEGER PRIMARY KEY, user_id TEXT, artist_name TEXT, rating INTEGER)')\n",
    "\n",
    "for index, row in df_UA.iterrows():\n",
    "    cur.execute('INSERT INTO user_artist_rate (id, user_id, artist_name, rating) VALUES (?, ?, ?, ?)', \n",
    "                (index, row['user_id'], row['artist_name'], row['rating']))\n",
    "\n",
    "# Commit the changes and close the database connection\n",
    "conn.commit()\n",
    "cur.close()\n",
    "conn.close()"
   ]
  },
  {
   "cell_type": "markdown",
   "id": "56b72df3-7aad-4afa-9c28-fe30b1794516",
   "metadata": {
    "id": "kOd-SiVhLd_x",
    "tags": []
   },
   "source": [
    "# **Creación de modelo de filtrado colaborativo basado en similitud con usuarios o items cercanos**\n",
    "\n",
    "Surprise cuenta con la implementación de los modelos colaborativos dentro de la clase [KNNBasic](https://surprise.readthedocs.io/en/stable/knn_inspired.html) \n",
    "\n",
    "El modelo recibe los siguientes parámetros: \n",
    "\n",
    "\n",
    "*   k: El máximo número de vecinos con el que se hará la extrapolación\n",
    "*   min_k : El mínimo número de vecinos con el que se extrapolará un rating\n",
    "*   sim_options : Opciones de similitud pasadas como un diccionario de python, aqui se le configura al modelo el tipo de similitud a usar para encontrar los vecinos y si la extrapolación debe hacerse usando usuarios o items similares. Revise el formato y similitudes disponibles en surprise en [este link](https://surprise.readthedocs.io/en/stable/prediction_algorithms.html#similarity-measure-configuration)\n",
    "\n",
    "\n",
    "\n"
   ]
  },
  {
   "cell_type": "code",
   "execution_count": 75,
   "id": "c5cb46b6",
   "metadata": {},
   "outputs": [
    {
     "data": {
      "text/html": [
       "<div>\n",
       "<style scoped>\n",
       "    .dataframe tbody tr th:only-of-type {\n",
       "        vertical-align: middle;\n",
       "    }\n",
       "\n",
       "    .dataframe tbody tr th {\n",
       "        vertical-align: top;\n",
       "    }\n",
       "\n",
       "    .dataframe thead th {\n",
       "        text-align: right;\n",
       "    }\n",
       "</style>\n",
       "<table border=\"1\" class=\"dataframe\">\n",
       "  <thead>\n",
       "    <tr style=\"text-align: right;\">\n",
       "      <th></th>\n",
       "      <th>user_id</th>\n",
       "      <th>artist_name</th>\n",
       "      <th>rating</th>\n",
       "    </tr>\n",
       "    <tr>\n",
       "      <th>id</th>\n",
       "      <th></th>\n",
       "      <th></th>\n",
       "      <th></th>\n",
       "    </tr>\n",
       "  </thead>\n",
       "  <tbody>\n",
       "    <tr>\n",
       "      <th>0</th>\n",
       "      <td>user_000008</td>\n",
       "      <td>Kanye West</td>\n",
       "      <td>5.0</td>\n",
       "    </tr>\n",
       "    <tr>\n",
       "      <th>1</th>\n",
       "      <td>user_000141</td>\n",
       "      <td>Chemistry</td>\n",
       "      <td>5.0</td>\n",
       "    </tr>\n",
       "    <tr>\n",
       "      <th>2</th>\n",
       "      <td>user_000499</td>\n",
       "      <td>The Knife</td>\n",
       "      <td>5.0</td>\n",
       "    </tr>\n",
       "    <tr>\n",
       "      <th>3</th>\n",
       "      <td>user_000889</td>\n",
       "      <td>Soilwork</td>\n",
       "      <td>5.0</td>\n",
       "    </tr>\n",
       "    <tr>\n",
       "      <th>4</th>\n",
       "      <td>user_000084</td>\n",
       "      <td>Britney Spears</td>\n",
       "      <td>5.0</td>\n",
       "    </tr>\n",
       "    <tr>\n",
       "      <th>...</th>\n",
       "      <td>...</td>\n",
       "      <td>...</td>\n",
       "      <td>...</td>\n",
       "    </tr>\n",
       "    <tr>\n",
       "      <th>897414</th>\n",
       "      <td>user_000593</td>\n",
       "      <td>Chris &amp; Mollie</td>\n",
       "      <td>1.0</td>\n",
       "    </tr>\n",
       "    <tr>\n",
       "      <th>897415</th>\n",
       "      <td>user_000593</td>\n",
       "      <td>Celestial Aeon Project</td>\n",
       "      <td>1.0</td>\n",
       "    </tr>\n",
       "    <tr>\n",
       "      <th>897416</th>\n",
       "      <td>user_000593</td>\n",
       "      <td>Carla Bruni</td>\n",
       "      <td>1.0</td>\n",
       "    </tr>\n",
       "    <tr>\n",
       "      <th>897417</th>\n",
       "      <td>user_000082</td>\n",
       "      <td>Tymon &amp; The Transistors</td>\n",
       "      <td>1.0</td>\n",
       "    </tr>\n",
       "    <tr>\n",
       "      <th>897418</th>\n",
       "      <td>user_000524</td>\n",
       "      <td>Rumskib</td>\n",
       "      <td>1.0</td>\n",
       "    </tr>\n",
       "  </tbody>\n",
       "</table>\n",
       "<p>897419 rows × 3 columns</p>\n",
       "</div>"
      ],
      "text/plain": [
       "            user_id              artist_name  rating\n",
       "id                                                  \n",
       "0       user_000008               Kanye West     5.0\n",
       "1       user_000141                Chemistry     5.0\n",
       "2       user_000499                The Knife     5.0\n",
       "3       user_000889                 Soilwork     5.0\n",
       "4       user_000084           Britney Spears     5.0\n",
       "...             ...                      ...     ...\n",
       "897414  user_000593           Chris & Mollie     1.0\n",
       "897415  user_000593   Celestial Aeon Project     1.0\n",
       "897416  user_000593              Carla Bruni     1.0\n",
       "897417  user_000082  Tymon & The Transistors     1.0\n",
       "897418  user_000524                  Rumskib     1.0\n",
       "\n",
       "[897419 rows x 3 columns]"
      ]
     },
     "execution_count": 75,
     "metadata": {},
     "output_type": "execute_result"
    }
   ],
   "source": [
    "# Leer los CSV para no tener que generarlos de nuevo del DataSet original\n",
    "#df_UA = pd.read_csv('../data/processed/user_artist_rate.csv', sep=',',  index_col='id')\n",
    "#df_UA"
   ]
  },
  {
   "cell_type": "code",
   "execution_count": 76,
   "id": "e62509d4",
   "metadata": {},
   "outputs": [
    {
     "data": {
      "text/html": [
       "<div>\n",
       "<style scoped>\n",
       "    .dataframe tbody tr th:only-of-type {\n",
       "        vertical-align: middle;\n",
       "    }\n",
       "\n",
       "    .dataframe tbody tr th {\n",
       "        vertical-align: top;\n",
       "    }\n",
       "\n",
       "    .dataframe thead th {\n",
       "        text-align: right;\n",
       "    }\n",
       "</style>\n",
       "<table border=\"1\" class=\"dataframe\">\n",
       "  <thead>\n",
       "    <tr style=\"text-align: right;\">\n",
       "      <th></th>\n",
       "      <th>user_id</th>\n",
       "      <th>track_name</th>\n",
       "      <th>rating</th>\n",
       "    </tr>\n",
       "    <tr>\n",
       "      <th>id</th>\n",
       "      <th></th>\n",
       "      <th></th>\n",
       "      <th></th>\n",
       "    </tr>\n",
       "  </thead>\n",
       "  <tbody>\n",
       "    <tr>\n",
       "      <th>0</th>\n",
       "      <td>user_000008</td>\n",
       "      <td>Heartless</td>\n",
       "      <td>5.000000</td>\n",
       "    </tr>\n",
       "    <tr>\n",
       "      <th>1</th>\n",
       "      <td>user_000008</td>\n",
       "      <td>See You In My Nightmares</td>\n",
       "      <td>4.905571</td>\n",
       "    </tr>\n",
       "    <tr>\n",
       "      <th>2</th>\n",
       "      <td>user_000008</td>\n",
       "      <td>Say You Will</td>\n",
       "      <td>4.898017</td>\n",
       "    </tr>\n",
       "    <tr>\n",
       "      <th>3</th>\n",
       "      <td>user_000008</td>\n",
       "      <td>Love Lockdown</td>\n",
       "      <td>4.886686</td>\n",
       "    </tr>\n",
       "    <tr>\n",
       "      <th>4</th>\n",
       "      <td>user_000008</td>\n",
       "      <td>Welcome To Heartbreak (Feat. Kid Cudi)</td>\n",
       "      <td>4.886686</td>\n",
       "    </tr>\n",
       "    <tr>\n",
       "      <th>...</th>\n",
       "      <td>...</td>\n",
       "      <td>...</td>\n",
       "      <td>...</td>\n",
       "    </tr>\n",
       "    <tr>\n",
       "      <th>4407905</th>\n",
       "      <td>user_000593</td>\n",
       "      <td>A Billion Tons Of Light</td>\n",
       "      <td>1.000000</td>\n",
       "    </tr>\n",
       "    <tr>\n",
       "      <th>4407906</th>\n",
       "      <td>user_000152</td>\n",
       "      <td>Muskogee</td>\n",
       "      <td>1.000000</td>\n",
       "    </tr>\n",
       "    <tr>\n",
       "      <th>4407907</th>\n",
       "      <td>user_000593</td>\n",
       "      <td>A Brighter Beat</td>\n",
       "      <td>1.000000</td>\n",
       "    </tr>\n",
       "    <tr>\n",
       "      <th>4407908</th>\n",
       "      <td>user_000152</td>\n",
       "      <td>Mun Täytyy Mennä</td>\n",
       "      <td>1.000000</td>\n",
       "    </tr>\n",
       "    <tr>\n",
       "      <th>4407909</th>\n",
       "      <td>user_000515</td>\n",
       "      <td>The Theme Of The Anti-Hero</td>\n",
       "      <td>1.000000</td>\n",
       "    </tr>\n",
       "  </tbody>\n",
       "</table>\n",
       "<p>4407910 rows × 3 columns</p>\n",
       "</div>"
      ],
      "text/plain": [
       "             user_id                              track_name    rating\n",
       "id                                                                    \n",
       "0        user_000008                               Heartless  5.000000\n",
       "1        user_000008                See You In My Nightmares  4.905571\n",
       "2        user_000008                            Say You Will  4.898017\n",
       "3        user_000008                           Love Lockdown  4.886686\n",
       "4        user_000008  Welcome To Heartbreak (Feat. Kid Cudi)  4.886686\n",
       "...              ...                                     ...       ...\n",
       "4407905  user_000593                 A Billion Tons Of Light  1.000000\n",
       "4407906  user_000152                                Muskogee  1.000000\n",
       "4407907  user_000593                         A Brighter Beat  1.000000\n",
       "4407908  user_000152                        Mun Täytyy Mennä  1.000000\n",
       "4407909  user_000515              The Theme Of The Anti-Hero  1.000000\n",
       "\n",
       "[4407910 rows x 3 columns]"
      ]
     },
     "execution_count": 76,
     "metadata": {},
     "output_type": "execute_result"
    }
   ],
   "source": [
    "# Leer los CSV para no tener que generarlos de nuevo del DataSet original\n",
    "#df_UT = pd.read_csv('../data/processed/user_track_rate.csv', sep=',', index_col='id')\n",
    "#df_UT"
   ]
  },
  {
   "cell_type": "code",
   "execution_count": 36,
   "id": "b8ddba76",
   "metadata": {},
   "outputs": [],
   "source": [
    "# Método para obtener N registros de cada usuario de un Dataframe\n",
    "def obtener_N_elementos(df, N):\n",
    "    df_data = pd.DataFrame()\n",
    "    usuarios = df['user_id'].unique()\n",
    "    \n",
    "    for userId in usuarios:\n",
    "        df_user = df.loc[df['user_id'] == userId][:N]\n",
    "        df_data = pd.concat([df_data, df_user])\n",
    "    \n",
    "    return df_data"
   ]
  },
  {
   "cell_type": "code",
   "execution_count": 37,
   "id": "bdf15da6",
   "metadata": {},
   "outputs": [
    {
     "data": {
      "text/html": [
       "<div>\n",
       "<style scoped>\n",
       "    .dataframe tbody tr th:only-of-type {\n",
       "        vertical-align: middle;\n",
       "    }\n",
       "\n",
       "    .dataframe tbody tr th {\n",
       "        vertical-align: top;\n",
       "    }\n",
       "\n",
       "    .dataframe thead th {\n",
       "        text-align: right;\n",
       "    }\n",
       "</style>\n",
       "<table border=\"1\" class=\"dataframe\">\n",
       "  <thead>\n",
       "    <tr style=\"text-align: right;\">\n",
       "      <th></th>\n",
       "      <th>user_id</th>\n",
       "      <th>track_name</th>\n",
       "      <th>rating</th>\n",
       "    </tr>\n",
       "    <tr>\n",
       "      <th>id</th>\n",
       "      <th></th>\n",
       "      <th></th>\n",
       "      <th></th>\n",
       "    </tr>\n",
       "  </thead>\n",
       "  <tbody>\n",
       "    <tr>\n",
       "      <th>0</th>\n",
       "      <td>user_000008</td>\n",
       "      <td>Heartless</td>\n",
       "      <td>5.000000</td>\n",
       "    </tr>\n",
       "    <tr>\n",
       "      <th>1</th>\n",
       "      <td>user_000008</td>\n",
       "      <td>See You In My Nightmares</td>\n",
       "      <td>4.905571</td>\n",
       "    </tr>\n",
       "    <tr>\n",
       "      <th>2</th>\n",
       "      <td>user_000008</td>\n",
       "      <td>Say You Will</td>\n",
       "      <td>4.898017</td>\n",
       "    </tr>\n",
       "    <tr>\n",
       "      <th>3</th>\n",
       "      <td>user_000008</td>\n",
       "      <td>Love Lockdown</td>\n",
       "      <td>4.886686</td>\n",
       "    </tr>\n",
       "    <tr>\n",
       "      <th>4</th>\n",
       "      <td>user_000008</td>\n",
       "      <td>Welcome To Heartbreak (Feat. Kid Cudi)</td>\n",
       "      <td>4.886686</td>\n",
       "    </tr>\n",
       "    <tr>\n",
       "      <th>...</th>\n",
       "      <td>...</td>\n",
       "      <td>...</td>\n",
       "      <td>...</td>\n",
       "    </tr>\n",
       "    <tr>\n",
       "      <th>4222982</th>\n",
       "      <td>user_000538</td>\n",
       "      <td>Poetry Boy</td>\n",
       "      <td>1.000000</td>\n",
       "    </tr>\n",
       "    <tr>\n",
       "      <th>4222983</th>\n",
       "      <td>user_000538</td>\n",
       "      <td>Procession</td>\n",
       "      <td>1.000000</td>\n",
       "    </tr>\n",
       "    <tr>\n",
       "      <th>4222984</th>\n",
       "      <td>user_000538</td>\n",
       "      <td>Rabenwald</td>\n",
       "      <td>1.000000</td>\n",
       "    </tr>\n",
       "    <tr>\n",
       "      <th>4222985</th>\n",
       "      <td>user_000538</td>\n",
       "      <td>Track  9</td>\n",
       "      <td>1.000000</td>\n",
       "    </tr>\n",
       "    <tr>\n",
       "      <th>4222986</th>\n",
       "      <td>user_000538</td>\n",
       "      <td>What'S Wrong With Me (Nouvelle Vogue Remix)</td>\n",
       "      <td>1.000000</td>\n",
       "    </tr>\n",
       "  </tbody>\n",
       "</table>\n",
       "<p>19724 rows × 3 columns</p>\n",
       "</div>"
      ],
      "text/plain": [
       "             user_id                                   track_name    rating\n",
       "id                                                                         \n",
       "0        user_000008                                    Heartless  5.000000\n",
       "1        user_000008                     See You In My Nightmares  4.905571\n",
       "2        user_000008                                 Say You Will  4.898017\n",
       "3        user_000008                                Love Lockdown  4.886686\n",
       "4        user_000008       Welcome To Heartbreak (Feat. Kid Cudi)  4.886686\n",
       "...              ...                                          ...       ...\n",
       "4222982  user_000538                                   Poetry Boy  1.000000\n",
       "4222983  user_000538                                   Procession  1.000000\n",
       "4222984  user_000538                                    Rabenwald  1.000000\n",
       "4222985  user_000538                                     Track  9  1.000000\n",
       "4222986  user_000538  What'S Wrong With Me (Nouvelle Vogue Remix)  1.000000\n",
       "\n",
       "[19724 rows x 3 columns]"
      ]
     },
     "execution_count": 37,
     "metadata": {},
     "output_type": "execute_result"
    }
   ],
   "source": [
    "df_ut_sample = obtener_N_elementos(df_UT, 20)\n",
    "df_ut_sample"
   ]
  },
  {
   "cell_type": "code",
   "execution_count": 38,
   "id": "4fdb61d2",
   "metadata": {},
   "outputs": [
    {
     "data": {
      "text/html": [
       "<div>\n",
       "<style scoped>\n",
       "    .dataframe tbody tr th:only-of-type {\n",
       "        vertical-align: middle;\n",
       "    }\n",
       "\n",
       "    .dataframe tbody tr th {\n",
       "        vertical-align: top;\n",
       "    }\n",
       "\n",
       "    .dataframe thead th {\n",
       "        text-align: right;\n",
       "    }\n",
       "</style>\n",
       "<table border=\"1\" class=\"dataframe\">\n",
       "  <thead>\n",
       "    <tr style=\"text-align: right;\">\n",
       "      <th></th>\n",
       "      <th>user_id</th>\n",
       "      <th>artist_name</th>\n",
       "      <th>rating</th>\n",
       "    </tr>\n",
       "    <tr>\n",
       "      <th>id</th>\n",
       "      <th></th>\n",
       "      <th></th>\n",
       "      <th></th>\n",
       "    </tr>\n",
       "  </thead>\n",
       "  <tbody>\n",
       "    <tr>\n",
       "      <th>0</th>\n",
       "      <td>user_000008</td>\n",
       "      <td>Kanye West</td>\n",
       "      <td>5.000000</td>\n",
       "    </tr>\n",
       "    <tr>\n",
       "      <th>40</th>\n",
       "      <td>user_000008</td>\n",
       "      <td>T.I.</td>\n",
       "      <td>1.802114</td>\n",
       "    </tr>\n",
       "    <tr>\n",
       "      <th>473</th>\n",
       "      <td>user_000008</td>\n",
       "      <td>The Fray</td>\n",
       "      <td>1.280053</td>\n",
       "    </tr>\n",
       "    <tr>\n",
       "      <th>4612</th>\n",
       "      <td>user_000008</td>\n",
       "      <td>Muse</td>\n",
       "      <td>1.075637</td>\n",
       "    </tr>\n",
       "    <tr>\n",
       "      <th>9114</th>\n",
       "      <td>user_000008</td>\n",
       "      <td>Linkin Park</td>\n",
       "      <td>1.047405</td>\n",
       "    </tr>\n",
       "    <tr>\n",
       "      <th>...</th>\n",
       "      <td>...</td>\n",
       "      <td>...</td>\n",
       "      <td>...</td>\n",
       "    </tr>\n",
       "    <tr>\n",
       "      <th>810683</th>\n",
       "      <td>user_000677</td>\n",
       "      <td>Panic At The Disco</td>\n",
       "      <td>1.000000</td>\n",
       "    </tr>\n",
       "    <tr>\n",
       "      <th>810684</th>\n",
       "      <td>user_000677</td>\n",
       "      <td>P!Nk</td>\n",
       "      <td>1.000000</td>\n",
       "    </tr>\n",
       "    <tr>\n",
       "      <th>810685</th>\n",
       "      <td>user_000677</td>\n",
       "      <td>Outkast</td>\n",
       "      <td>1.000000</td>\n",
       "    </tr>\n",
       "    <tr>\n",
       "      <th>810688</th>\n",
       "      <td>user_000677</td>\n",
       "      <td>Nas</td>\n",
       "      <td>1.000000</td>\n",
       "    </tr>\n",
       "    <tr>\n",
       "      <th>810713</th>\n",
       "      <td>user_000677</td>\n",
       "      <td>Nick Carter</td>\n",
       "      <td>1.000000</td>\n",
       "    </tr>\n",
       "  </tbody>\n",
       "</table>\n",
       "<p>19663 rows × 3 columns</p>\n",
       "</div>"
      ],
      "text/plain": [
       "            user_id         artist_name    rating\n",
       "id                                               \n",
       "0       user_000008          Kanye West  5.000000\n",
       "40      user_000008                T.I.  1.802114\n",
       "473     user_000008            The Fray  1.280053\n",
       "4612    user_000008                Muse  1.075637\n",
       "9114    user_000008         Linkin Park  1.047405\n",
       "...             ...                 ...       ...\n",
       "810683  user_000677  Panic At The Disco  1.000000\n",
       "810684  user_000677                P!Nk  1.000000\n",
       "810685  user_000677             Outkast  1.000000\n",
       "810688  user_000677                 Nas  1.000000\n",
       "810713  user_000677         Nick Carter  1.000000\n",
       "\n",
       "[19663 rows x 3 columns]"
      ]
     },
     "execution_count": 38,
     "metadata": {},
     "output_type": "execute_result"
    }
   ],
   "source": [
    "df_ua_sample = obtener_N_elementos(df_UA, 20)\n",
    "df_ua_sample"
   ]
  },
  {
   "cell_type": "code",
   "execution_count": 77,
   "id": "34c171c4-d200-4243-b453-d69406db9d43",
   "metadata": {},
   "outputs": [],
   "source": [
    "reader = Reader( rating_scale = ( 1, 5 ) )\n",
    "#Se crea el dataset a partir del dataframe\n",
    "surprise_dataset = Dataset.load_from_df( df_UA[['user_id', 'artist_name', 'rating']], reader )\n",
    "\n",
    "train_set, test_set=  train_test_split(surprise_dataset, test_size=.2)"
   ]
  },
  {
   "cell_type": "code",
   "execution_count": 71,
   "id": "f52ab539",
   "metadata": {},
   "outputs": [],
   "source": [
    "sim_options = {'name': 'pearson_baseline',\n",
    "               'user_based': False # calcule similitud item-item\n",
    "               }\n",
    "\n",
    "algo = KNNWithZScore(k=50, min_k=2, sim_options=sim_options)"
   ]
  },
  {
   "cell_type": "code",
   "execution_count": 46,
   "id": "ddbc4205",
   "metadata": {},
   "outputs": [],
   "source": [
    "# from sklearn.preprocessing import MinMaxScaler\n",
    "# pd.options.mode.chained_assignment = None  # default='warn'\n",
    "\n",
    "# def ratings(df_user_track):\n",
    "#     # Devuelve las primeras 100 canciones con más reproducciones del usuario\n",
    "#     # df_test = df_user_track.loc[(df_user_track['user_id'] == 'user_000008') | (df_user_track['user_id'] == 'user_000593')]\n",
    "#     # usuarios = df_test['user_id'].unique()\n",
    "#     usuarios = df_user_track['user_id'].unique()\n",
    "#     scaler = MinMaxScaler(feature_range=(1, 5))\n",
    "    \n",
    "#     for userId in usuarios:\n",
    "#         df_user = df_user_track.loc[df_user_track['user_id'] == userId]\n",
    "#         df_user_track.loc[df_user_track['user_id'] == userId, 'rating'] = scaler.fit_transform(df_user[['rating']])\n",
    "#     return df_user_track\n",
    "\n",
    "\n",
    "# # se crea un modelo knnbasic item-item con similitud coseno \n",
    "# # Define a transformer to convert Surprise's trainset to a Pandas DataFrame\n",
    "# class TrainsetToDataFrame(BaseEstimator, TransformerMixin):\n",
    "#     def fit(self, X, y=None):\n",
    "#         return self\n",
    "    \n",
    "#     def transform(self, X, y=None):\n",
    "#         df = pd.DataFrame(X.all_ratings())\n",
    "#         return df\n",
    "\n",
    "# sim_options = {'name': 'pearson_baseline',\n",
    "#                'user_based': False # calcule similitud item-item\n",
    "#                }\n",
    "# algo = KNNWithZScore(k=50, min_k=2, sim_options=sim_options)\n",
    "\n",
    "# pipeline = Pipeline([\n",
    "#     ('trainset_to_df', TrainsetToDataFrame()),\n",
    "#     ('rating', FunctionTransformer(ratings)),\n",
    "#     ('model', algo),\n",
    "#     ])\n",
    "\n",
    "# pipeline.fit(train_set)\n",
    "# #Se le pasa la matriz de utilidad al algoritmo \n",
    "# #algo.fit(trainset=train_set)"
   ]
  },
  {
   "cell_type": "code",
   "execution_count": null,
   "id": "d528152d",
   "metadata": {},
   "outputs": [],
   "source": [
    "# from sklearn.preprocessing import MinMaxScaler\n",
    "# pd.options.mode.chained_assignment = None  # default='warn'\n",
    "\n",
    "# def ratings(df_user_track):\n",
    "#     # Devuelve las primeras 100 canciones con más reproducciones del usuario\n",
    "#     # df_test = df_user_track.loc[(df_user_track['user_id'] == 'user_000008') | (df_user_track['user_id'] == 'user_000593')]\n",
    "#     # usuarios = df_test['user_id'].unique()\n",
    "#     usuarios = df_user_track['user_id'].unique()\n",
    "#     scaler = MinMaxScaler(feature_range=(1, 5))\n",
    "    \n",
    "#     for userId in usuarios:\n",
    "#         df_user = df_user_track.loc[df_user_track['user_id'] == userId]\n",
    "#         df_user_track.loc[df_user_track['user_id'] == userId, 'rating'] = scaler.fit_transform(df_user[['rating']])\n",
    "#     return df_user_track\n",
    "        \n",
    "# pipelines = Pipeline([\n",
    "#     ('rating', FunctionTransformer(ratings)),\n",
    "#         'model', algo\n",
    "#     ])"
   ]
  },
  {
   "cell_type": "code",
   "execution_count": 73,
   "id": "3a5d4c20-68b7-4888-ac58-87067252f6a1",
   "metadata": {
    "execution": {
     "iopub.execute_input": "2023-03-02T08:37:53.000289Z",
     "iopub.status.busy": "2023-03-02T08:37:52.999681Z",
     "iopub.status.idle": "2023-03-02T08:37:53.003751Z",
     "shell.execute_reply": "2023-03-02T08:37:53.002910Z",
     "shell.execute_reply.started": "2023-03-02T08:37:53.000268Z"
    },
    "id": "s5A8reiHLdXy"
   },
   "outputs": [
    {
     "name": "stdout",
     "output_type": "stream",
     "text": [
      "Estimating biases using als...\n",
      "Computing the pearson_baseline similarity matrix...\n"
     ]
    },
    {
     "ename": "MemoryError",
     "evalue": "Unable to allocate 85.4 GiB for an array with shape (151448, 151448) and data type int32",
     "output_type": "error",
     "traceback": [
      "\u001b[1;31m---------------------------------------------------------------------------\u001b[0m",
      "\u001b[1;31mMemoryError\u001b[0m                               Traceback (most recent call last)",
      "\u001b[1;32m~\\AppData\\Local\\Temp\\ipykernel_21296\\2065581473.py\u001b[0m in \u001b[0;36m<module>\u001b[1;34m\u001b[0m\n\u001b[1;32m----> 1\u001b[1;33m \u001b[0malgo\u001b[0m\u001b[1;33m.\u001b[0m\u001b[0mfit\u001b[0m\u001b[1;33m(\u001b[0m\u001b[0mtrain_set\u001b[0m\u001b[1;33m)\u001b[0m\u001b[1;33m\u001b[0m\u001b[1;33m\u001b[0m\u001b[0m\n\u001b[0m\u001b[0;32m      2\u001b[0m \u001b[0malgo\u001b[0m\u001b[1;33m.\u001b[0m\u001b[0mpredict\u001b[0m\u001b[1;33m(\u001b[0m\u001b[1;34m'user_000981'\u001b[0m\u001b[1;33m,\u001b[0m \u001b[1;34m'Bijelo Dugme'\u001b[0m\u001b[1;33m)\u001b[0m\u001b[1;33m\u001b[0m\u001b[1;33m\u001b[0m\u001b[0m\n",
      "\u001b[1;32m~\\anaconda3\\lib\\site-packages\\surprise\\prediction_algorithms\\knns.py\u001b[0m in \u001b[0;36mfit\u001b[1;34m(self, trainset)\u001b[0m\n\u001b[0;32m    381\u001b[0m             \u001b[0mself\u001b[0m\u001b[1;33m.\u001b[0m\u001b[0msigmas\u001b[0m\u001b[1;33m[\u001b[0m\u001b[0mx\u001b[0m\u001b[1;33m]\u001b[0m \u001b[1;33m=\u001b[0m \u001b[0mself\u001b[0m\u001b[1;33m.\u001b[0m\u001b[0moverall_sigma\u001b[0m \u001b[1;32mif\u001b[0m \u001b[0msigma\u001b[0m \u001b[1;33m==\u001b[0m \u001b[1;36m0.0\u001b[0m \u001b[1;32melse\u001b[0m \u001b[0msigma\u001b[0m\u001b[1;33m\u001b[0m\u001b[1;33m\u001b[0m\u001b[0m\n\u001b[0;32m    382\u001b[0m \u001b[1;33m\u001b[0m\u001b[0m\n\u001b[1;32m--> 383\u001b[1;33m         \u001b[0mself\u001b[0m\u001b[1;33m.\u001b[0m\u001b[0msim\u001b[0m \u001b[1;33m=\u001b[0m \u001b[0mself\u001b[0m\u001b[1;33m.\u001b[0m\u001b[0mcompute_similarities\u001b[0m\u001b[1;33m(\u001b[0m\u001b[1;33m)\u001b[0m\u001b[1;33m\u001b[0m\u001b[1;33m\u001b[0m\u001b[0m\n\u001b[0m\u001b[0;32m    384\u001b[0m \u001b[1;33m\u001b[0m\u001b[0m\n\u001b[0;32m    385\u001b[0m         \u001b[1;32mreturn\u001b[0m \u001b[0mself\u001b[0m\u001b[1;33m\u001b[0m\u001b[1;33m\u001b[0m\u001b[0m\n",
      "\u001b[1;32m~\\anaconda3\\lib\\site-packages\\surprise\\prediction_algorithms\\algo_base.py\u001b[0m in \u001b[0;36mcompute_similarities\u001b[1;34m(self)\u001b[0m\n\u001b[0;32m    247\u001b[0m             \u001b[1;32mif\u001b[0m \u001b[0mgetattr\u001b[0m\u001b[1;33m(\u001b[0m\u001b[0mself\u001b[0m\u001b[1;33m,\u001b[0m \u001b[1;34m'verbose'\u001b[0m\u001b[1;33m,\u001b[0m \u001b[1;32mFalse\u001b[0m\u001b[1;33m)\u001b[0m\u001b[1;33m:\u001b[0m\u001b[1;33m\u001b[0m\u001b[1;33m\u001b[0m\u001b[0m\n\u001b[0;32m    248\u001b[0m                 \u001b[0mprint\u001b[0m\u001b[1;33m(\u001b[0m\u001b[1;34m'Computing the {0} similarity matrix...'\u001b[0m\u001b[1;33m.\u001b[0m\u001b[0mformat\u001b[0m\u001b[1;33m(\u001b[0m\u001b[0mname\u001b[0m\u001b[1;33m)\u001b[0m\u001b[1;33m)\u001b[0m\u001b[1;33m\u001b[0m\u001b[1;33m\u001b[0m\u001b[0m\n\u001b[1;32m--> 249\u001b[1;33m             \u001b[0msim\u001b[0m \u001b[1;33m=\u001b[0m \u001b[0mconstruction_func\u001b[0m\u001b[1;33m[\u001b[0m\u001b[0mname\u001b[0m\u001b[1;33m]\u001b[0m\u001b[1;33m(\u001b[0m\u001b[1;33m*\u001b[0m\u001b[0margs\u001b[0m\u001b[1;33m)\u001b[0m\u001b[1;33m\u001b[0m\u001b[1;33m\u001b[0m\u001b[0m\n\u001b[0m\u001b[0;32m    250\u001b[0m             \u001b[1;32mif\u001b[0m \u001b[0mgetattr\u001b[0m\u001b[1;33m(\u001b[0m\u001b[0mself\u001b[0m\u001b[1;33m,\u001b[0m \u001b[1;34m'verbose'\u001b[0m\u001b[1;33m,\u001b[0m \u001b[1;32mFalse\u001b[0m\u001b[1;33m)\u001b[0m\u001b[1;33m:\u001b[0m\u001b[1;33m\u001b[0m\u001b[1;33m\u001b[0m\u001b[0m\n\u001b[0;32m    251\u001b[0m                 \u001b[0mprint\u001b[0m\u001b[1;33m(\u001b[0m\u001b[1;34m'Done computing similarity matrix.'\u001b[0m\u001b[1;33m)\u001b[0m\u001b[1;33m\u001b[0m\u001b[1;33m\u001b[0m\u001b[0m\n",
      "\u001b[1;32m~\\anaconda3\\lib\\site-packages\\surprise\\similarities.pyx\u001b[0m in \u001b[0;36msurprise.similarities.pearson_baseline\u001b[1;34m()\u001b[0m\n",
      "\u001b[1;31mMemoryError\u001b[0m: Unable to allocate 85.4 GiB for an array with shape (151448, 151448) and data type int32"
     ]
    }
   ],
   "source": [
    "algo.fit(train_set)\n",
    "algo.predict('user_000981', 'Bijelo Dugme')"
   ]
  },
  {
   "cell_type": "code",
   "execution_count": 210,
   "id": "1fe5e455",
   "metadata": {},
   "outputs": [],
   "source": [
    "test_predictions = algo.test(test_set)"
   ]
  },
  {
   "cell_type": "code",
   "execution_count": 212,
   "id": "f6490656",
   "metadata": {},
   "outputs": [
    {
     "name": "stdout",
     "output_type": "stream",
     "text": [
      "RMSE: 1.1119\n"
     ]
    },
    {
     "data": {
      "text/plain": [
       "1.11185717865118"
      ]
     },
     "execution_count": 212,
     "metadata": {},
     "output_type": "execute_result"
    }
   ],
   "source": [
    "accuracy.rmse( test_predictions, verbose = True )"
   ]
  },
  {
   "cell_type": "code",
   "execution_count": 213,
   "id": "8ddf2b85",
   "metadata": {},
   "outputs": [
    {
     "name": "stdout",
     "output_type": "stream",
     "text": [
      "MAE:  0.8626\n"
     ]
    },
    {
     "data": {
      "text/plain": [
       "0.8626370697887236"
      ]
     },
     "execution_count": 213,
     "metadata": {},
     "output_type": "execute_result"
    }
   ],
   "source": [
    "accuracy.mae( test_predictions, verbose = True )"
   ]
  },
  {
   "cell_type": "code",
   "execution_count": null,
   "id": "e17ce647-39f7-4395-9428-e39b804dac07",
   "metadata": {
    "colab": {
     "base_uri": "https://localhost:8080/"
    },
    "id": "_G8gUHeoUzR-",
    "outputId": "07dc5b29-b03c-4448-fba8-91eac94b0a47"
   },
   "outputs": [],
   "source": [
    "#Se le pasa la matriz de utilidad al algoritmo \n",
    "algo.fit(trainset=train_set)"
   ]
  },
  {
   "cell_type": "code",
   "execution_count": null,
   "id": "57aa5527-bc55-4c09-9933-dba8bdcfcc79",
   "metadata": {
    "colab": {
     "base_uri": "https://localhost:8080/"
    },
    "id": "AdwrR8gVFQuD",
    "outputId": "41b8fe66-2a3f-4d72-db83-7778e3de2aeb"
   },
   "outputs": [],
   "source": [
    "#Verifique la propiedad est de la predicción\n",
    "algo.predict(154,302)"
   ]
  },
  {
   "cell_type": "code",
   "execution_count": null,
   "id": "7006d928-69e0-49db-a204-9fe00ecb0f17",
   "metadata": {
    "colab": {
     "base_uri": "https://localhost:8080/",
     "height": 243
    },
    "id": "dzK37VDQIRIT",
    "outputId": "e5c2d53a-7051-4e1e-deb4-3c9a69eafc09"
   },
   "outputs": [],
   "source": [
    "items[items['movie id']==302]"
   ]
  },
  {
   "cell_type": "markdown",
   "id": "b0407551-31a8-48a5-a6f0-04b4242a4398",
   "metadata": {
    "id": "75RWLbA2a2BE"
   },
   "source": [
    "Como podemos ver, la predicción (4.24) del modelo no esta alejada de lo que realmente opinó el usuario  (4.0)\n",
    "\n",
    "Para medir la calidad de la predicción para todos los usuarios e items del dataset de prueba, vamos a comparar lo que dice el modelo de predicción vs lo que dice el conjunto de prueba, para esto vamos a usar la métrica [RMSE](https://surprise.readthedocs.io/en/stable/accuracy.html#surprise.accuracy.rmse)\n",
    "\n",
    "Inicialmente calculamos la predicción para todos los elementos del conjunto de test"
   ]
  },
  {
   "cell_type": "code",
   "execution_count": null,
   "id": "b89a06a8-8757-4d4a-8eee-3eff5bd61ff6",
   "metadata": {
    "id": "xOl2ObNSIk8T"
   },
   "outputs": [],
   "source": [
    "test_predictions=algo.test(test_set)"
   ]
  },
  {
   "cell_type": "code",
   "execution_count": null,
   "id": "895595f4-0956-4ad8-a267-1fd69c3e702d",
   "metadata": {
    "colab": {
     "base_uri": "https://localhost:8080/"
    },
    "id": "kRlvK_f2ZN7t",
    "outputId": "1b8089e2-71ef-449a-ecda-31ba01cd2047"
   },
   "outputs": [],
   "source": [
    "#5 primeras predicciones\n",
    "test_predictions[0:5]"
   ]
  },
  {
   "cell_type": "markdown",
   "id": "14a27d83-210c-4ddb-b8ef-01c34d13d3e2",
   "metadata": {
    "id": "yqgYbxzwe59D"
   },
   "source": [
    "Ahora se mide el RMSE de las predicciones vs el valor del dataset"
   ]
  },
  {
   "cell_type": "code",
   "execution_count": null,
   "id": "0bbe3f95-830b-4cd4-86e4-169ff668a70c",
   "metadata": {
    "colab": {
     "base_uri": "https://localhost:8080/"
    },
    "id": "RDK_8jlUeyVL",
    "outputId": "ca53358d-0e8b-4f48-b622-c96ab657bd00"
   },
   "outputs": [],
   "source": [
    "# En promedio, el sistema encuentra ratings que estan una estrella por encima o por debajo del rating del usuario\n",
    "accuracy.rmse( test_predictions, verbose = True )"
   ]
  },
  {
   "cell_type": "markdown",
   "id": "edd451f6-fd60-4957-a346-2839ac31093e",
   "metadata": {
    "id": "Ge8msMcPgFwy"
   },
   "source": [
    "##Utilice las siguientes celdas para encontrar la respuesta a las siguientes preguntas\n",
    "\n",
    "¿Cuál es el RMSE de un modelo usuario-usuario con los mismos parámetros de similitud?\n",
    "\n",
    "¿Cuál es el efecto de cambiar el número de vecinos en la calidad del modelo usuario-usuario ?"
   ]
  },
  {
   "cell_type": "code",
   "execution_count": null,
   "id": "05db7707-3961-421c-b680-06022e49ef26",
   "metadata": {
    "id": "0Eb-sHBnfw8b"
   },
   "outputs": [],
   "source": [
    "# se crea un modelo knnbasic user-user con similitud coseno \n",
    "sim_options = {'name': 'cosine',\n",
    "               'user_based': True  # calcule similitud user-user\n",
    "               }\n",
    "algo = KNNBasic(k=20, min_k=2, sim_options=sim_options)"
   ]
  },
  {
   "cell_type": "code",
   "execution_count": null,
   "id": "5bb63726-d032-4293-b24d-03c188fd20c2",
   "metadata": {
    "colab": {
     "base_uri": "https://localhost:8080/"
    },
    "id": "RgE2Oib_gYuK",
    "outputId": "50e29b9c-b131-4251-ba37-4e2e0a120208"
   },
   "outputs": [],
   "source": [
    "#Se le pasa la matriz de utilidad al algoritmo \n",
    "algo.fit(trainset=train_set)"
   ]
  },
  {
   "cell_type": "code",
   "execution_count": null,
   "id": "b2bba080-bd5c-4b63-af41-bffecedcdbb6",
   "metadata": {
    "id": "iATleq-E7Nd4"
   },
   "outputs": [],
   "source": [
    "test_predictions=algo.test(test_set)"
   ]
  },
  {
   "cell_type": "code",
   "execution_count": null,
   "id": "796ca46c-5ac3-452e-b645-71b6f0df65ae",
   "metadata": {
    "colab": {
     "base_uri": "https://localhost:8080/"
    },
    "id": "ucz30dLq7SXL",
    "outputId": "762ec165-d399-4107-b82d-10a9e7cd7a9a"
   },
   "outputs": [],
   "source": [
    "#5 primeras predicciones\n",
    "test_predictions[0:5]"
   ]
  },
  {
   "cell_type": "code",
   "execution_count": null,
   "id": "c77fcca2-ec36-48f5-9563-27ced1d9a21f",
   "metadata": {
    "colab": {
     "base_uri": "https://localhost:8080/"
    },
    "id": "4c2k7RKO7TdH",
    "outputId": "4c43dcf0-7bca-44bf-fb82-c10591d01fd8"
   },
   "outputs": [],
   "source": [
    "# En promedio, el sistema encuentra ratings que estan una estrella por encima o por debajo del rating del usuario\n",
    "accuracy.rmse( test_predictions, verbose = True )"
   ]
  },
  {
   "cell_type": "code",
   "execution_count": null,
   "id": "2663189c-7f97-4258-addc-0471c01f62d9",
   "metadata": {
    "colab": {
     "base_uri": "https://localhost:8080/"
    },
    "id": "phkiq1qxJrvI",
    "outputId": "cd8e2d22-a806-4e65-c917-6a8c4a4d684d"
   },
   "outputs": [],
   "source": [
    "# se crea un modelo knnbasic user-user con similitud coseno \n",
    "sim_options = {'name': 'cosine',\n",
    "               'user_based': True  # calcule similitud user-user\n",
    "               }\n",
    "algo = KNNBasic(k=10, min_k=2, sim_options=sim_options)\n",
    "#Se le pasa la matriz de utilidad al algoritmo \n",
    "algo.fit(trainset=train_set)\n",
    "test_predictions=algo.test(test_set)\n",
    "#5 primeras predicciones\n",
    "test_predictions[0:5]\n",
    "# En promedio, el sistema encuentra ratings que estan una estrella por encima o por debajo del rating del usuario\n",
    "accuracy.rmse( test_predictions, verbose = True )"
   ]
  },
  {
   "cell_type": "code",
   "execution_count": null,
   "id": "edcdeda5-0bb0-40f6-b7fc-3287a10069bd",
   "metadata": {
    "colab": {
     "base_uri": "https://localhost:8080/"
    },
    "id": "cuhpYHceKR8r",
    "outputId": "6eed7fc1-983c-470e-95d9-636ef7b8d93e"
   },
   "outputs": [],
   "source": [
    "# se crea un modelo knnbasic user-user con similitud coseno \n",
    "sim_options = {'name': 'cosine',\n",
    "               'user_based': True  # calcule similitud user-user\n",
    "               }\n",
    "algo = KNNBasic(k=5, min_k=2, sim_options=sim_options)\n",
    "#Se le pasa la matriz de utilidad al algoritmo \n",
    "algo.fit(trainset=train_set)\n",
    "test_predictions=algo.test(test_set)\n",
    "#5 primeras predicciones\n",
    "test_predictions[0:5]\n",
    "# En promedio, el sistema encuentra ratings que estan una estrella por encima o por debajo del rating del usuario\n",
    "accuracy.rmse( test_predictions, verbose = True )"
   ]
  },
  {
   "cell_type": "code",
   "execution_count": null,
   "id": "c3594a3b-09fc-400f-96de-d0a563eb62ac",
   "metadata": {
    "colab": {
     "base_uri": "https://localhost:8080/"
    },
    "id": "e14PWLfSLuDD",
    "outputId": "5e4ca510-007a-41c2-8847-82379d15cc95"
   },
   "outputs": [],
   "source": [
    "# se crea un modelo knnbasic user-user con similitud coseno \n",
    "sim_options = {'name': 'cosine',\n",
    "               'user_based': True  # calcule similitud user-user\n",
    "               }\n",
    "algo = KNNBasic(k=35, min_k=2, sim_options=sim_options)\n",
    "#Se le pasa la matriz de utilidad al algoritmo \n",
    "algo.fit(trainset=train_set)\n",
    "test_predictions=algo.test(test_set)\n",
    "#5 primeras predicciones\n",
    "test_predictions[0:5]\n",
    "# En promedio, el sistema encuentra ratings que estan una estrella por encima o por debajo del rating del usuario\n",
    "accuracy.rmse( test_predictions, verbose = True )"
   ]
  },
  {
   "cell_type": "markdown",
   "id": "3565fcd4-de7a-4131-8a81-f4a1760d8d83",
   "metadata": {
    "id": "ZqMr2MlbkJch"
   },
   "source": [
    "##Generando listas de predicciones para los usuarios\n",
    "\n",
    "Retomemos nuestro modelo inicial y ajustémolo con todos los ratings disponibles\n",
    "\n",
    "Para generar una lista de recomendación se debe crear un dataset de \"test\" con las entradas faltantes de la matriz utilidad para que el modelo cree las predicciones (terminar de llenar la matriz de utilidad)\n",
    "\n"
   ]
  },
  {
   "cell_type": "code",
   "execution_count": null,
   "id": "69d8c3f5-07d9-4c35-8116-2ec28ca77f95",
   "metadata": {
    "colab": {
     "base_uri": "https://localhost:8080/"
    },
    "id": "EyI72VBK7tVP",
    "outputId": "eeb1d84e-e2b0-4f0d-bb09-8f82520f8c82"
   },
   "outputs": [],
   "source": [
    "surprise_dataset.build_full_trainset()"
   ]
  },
  {
   "cell_type": "code",
   "execution_count": null,
   "id": "ea16d7cb-eb5d-44d5-bf2a-c96754a9acfc",
   "metadata": {
    "colab": {
     "base_uri": "https://localhost:8080/"
    },
    "id": "y0ZYsiPXktjg",
    "outputId": "9de4e469-6e29-4e8b-a3d2-bf6cb801df27"
   },
   "outputs": [],
   "source": [
    "#Se crea el dataset para modelo \n",
    "rating_data=surprise_dataset.build_full_trainset()\n",
    "# Se crea dataset de \"prueba\" con las entradas faltantes para generar las predicciones\n",
    "test=rating_data.build_anti_testset()\n",
    "\n",
    "# se crea el mismo modelo que el del ejemplo\n",
    "sim_options = {'name': 'cosine',\n",
    "               'user_based': False  # calcule similitud item-item\n",
    "               }\n",
    "algo = KNNBasic(k=20, min_k=2, sim_options=sim_options)\n",
    "algo.fit(rating_data)\n",
    "predictions=algo.test(test)"
   ]
  },
  {
   "cell_type": "code",
   "execution_count": null,
   "id": "70be39c3-e911-4772-95d2-a9582675c2d8",
   "metadata": {
    "colab": {
     "base_uri": "https://localhost:8080/"
    },
    "id": "eH2O_3iFsR6e",
    "outputId": "6c2bc9e8-7434-48cd-ef76-4908eb33f29d"
   },
   "outputs": [],
   "source": [
    "#10 primeras predicciones\n",
    "predictions[0:10]"
   ]
  },
  {
   "cell_type": "code",
   "execution_count": null,
   "id": "344e3fd7-895d-4cc2-9836-9cef4f8d1410",
   "metadata": {
    "id": "Bd8lOnRXpPBm"
   },
   "outputs": [],
   "source": [
    "#Predicciones para usuario 196\n",
    "user_predictions=list(filter(lambda x: x[0]==196,predictions))"
   ]
  },
  {
   "cell_type": "code",
   "execution_count": null,
   "id": "c4d9e860-d388-4cbd-9668-eb512acfe471",
   "metadata": {
    "id": "NIQAuEo4rHA2"
   },
   "outputs": [],
   "source": [
    "#Ordenamos de mayor a menor estimación de relevancia\n",
    "user_predictions.sort(key=lambda x : x.est, reverse=True)"
   ]
  },
  {
   "cell_type": "code",
   "execution_count": null,
   "id": "89db501f-4e5a-450b-931a-08b7511c2344",
   "metadata": {
    "id": "GmcwrOJ-sy9G"
   },
   "outputs": [],
   "source": [
    "#tomamos las 10 primeras predicciones\n",
    "user_predictions=user_predictions[0:10]"
   ]
  },
  {
   "cell_type": "code",
   "execution_count": null,
   "id": "76f58cdf-da79-43ab-af2c-66e0e4617a4d",
   "metadata": {
    "colab": {
     "base_uri": "https://localhost:8080/"
    },
    "id": "FFaVRp3dtBZF",
    "outputId": "af550a5d-1613-474b-dc3b-7e4158cfe173"
   },
   "outputs": [],
   "source": [
    "user_predictions"
   ]
  },
  {
   "cell_type": "code",
   "execution_count": null,
   "id": "06d4833a-5901-4d51-a16f-480662168a02",
   "metadata": {
    "id": "7kRPNGHEtcux"
   },
   "outputs": [],
   "source": [
    "#Se convierte a dataframe\n",
    "labels = ['movie id', 'estimation']\n",
    "df_predictions = pd.DataFrame.from_records(list(map(lambda x: (x.iid, x.est) , user_predictions)), columns=labels)"
   ]
  },
  {
   "cell_type": "code",
   "execution_count": null,
   "id": "9f11d1a2-1310-4d8e-9cf1-293e7728c14f",
   "metadata": {
    "colab": {
     "base_uri": "https://localhost:8080/",
     "height": 363
    },
    "id": "YvWQuyJGuaGV",
    "outputId": "f830e9ef-f6f5-49b1-edd3-3ea6f988f923"
   },
   "outputs": [],
   "source": [
    "#Lo unimos con el dataframe de películas\n",
    "df_predictions.merge(items[['movie id','movie title','IMDb URL ']], how='left', on='movie id')"
   ]
  },
  {
   "cell_type": "markdown",
   "id": "d37f4266-97bf-47a2-9935-3d2fda89777d",
   "metadata": {
    "execution": {
     "iopub.execute_input": "2023-02-24T19:14:30.432166Z",
     "iopub.status.busy": "2023-02-24T19:14:30.431043Z",
     "iopub.status.idle": "2023-02-24T19:14:30.464999Z",
     "shell.execute_reply": "2023-02-24T19:14:30.460485Z",
     "shell.execute_reply.started": "2023-02-24T19:14:30.432134Z"
    },
    "jp-MarkdownHeadingCollapsed": true,
    "tags": []
   },
   "source": [
    "# **Modelo de recomendación**\n",
    "Generamos dos modelos de recomendación, uno item-item y otro user-user"
   ]
  },
  {
   "cell_type": "code",
   "execution_count": null,
   "id": "a1e5d155-1c65-49b5-9046-388f2e688a81",
   "metadata": {},
   "outputs": [],
   "source": [
    "# EXPORTAMOS EL MODELO: \n",
    "# Usamos la libreria joblib.\n",
    "filename = 'logistic_model.joblib'\n",
    "# Se guarda\n",
    "dump(final_model, filename) "
   ]
  }
 ],
 "metadata": {
  "colab": {
   "collapsed_sections": [],
   "name": "Lab1_ee.ortiz_mc.parrad_sj.zona.ipynb",
   "provenance": []
  },
  "gist": {
   "data": {
    "description": "OneDrive/OneDrive - Universidad de los Andes/Universidad/Semestres/09. Noveno semestre/Sistemas de recomendación/Talleres/Taller 1/Solución/Taller1_SR_202310/notebooks/Taller1_data_analysis.ipynb",
    "public": false
   },
   "id": ""
  },
  "kernelspec": {
   "display_name": "Python 3 (ipykernel)",
   "language": "python",
   "name": "python3"
  },
  "language_info": {
   "codemirror_mode": {
    "name": "ipython",
    "version": 3
   },
   "file_extension": ".py",
   "mimetype": "text/x-python",
   "name": "python",
   "nbconvert_exporter": "python",
   "pygments_lexer": "ipython3",
   "version": "3.9.13"
  },
  "toc": {
   "base_numbering": 1,
   "nav_menu": {},
   "number_sections": true,
   "sideBar": true,
   "skip_h1_title": false,
   "title_cell": "Table of Contents",
   "title_sidebar": "Contents",
   "toc_cell": false,
   "toc_position": {
    "height": "calc(100% - 180px)",
    "left": "10px",
    "top": "150px",
    "width": "303.837px"
   },
   "toc_section_display": true,
   "toc_window_display": true
  },
  "varInspector": {
   "cols": {
    "lenName": 16,
    "lenType": 16,
    "lenVar": 40
   },
   "kernels_config": {
    "python": {
     "delete_cmd_postfix": "",
     "delete_cmd_prefix": "del ",
     "library": "var_list.py",
     "varRefreshCmd": "print(var_dic_list())"
    },
    "r": {
     "delete_cmd_postfix": ") ",
     "delete_cmd_prefix": "rm(",
     "library": "var_list.r",
     "varRefreshCmd": "cat(var_dic_list()) "
    }
   },
   "types_to_exclude": [
    "module",
    "function",
    "builtin_function_or_method",
    "instance",
    "_Feature"
   ],
   "window_display": false
  }
 },
 "nbformat": 4,
 "nbformat_minor": 5
}
